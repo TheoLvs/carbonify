{
 "cells": [
  {
   "cell_type": "code",
   "execution_count": 7,
   "id": "fc5db362",
   "metadata": {},
   "outputs": [
    {
     "name": "stdout",
     "output_type": "stream",
     "text": [
      "The autoreload extension is already loaded. To reload it, use:\n",
      "  %reload_ext autoreload\n"
     ]
    }
   ],
   "source": [
    "import pandas as pd\n",
    "import numpy as np\n",
    "import matplotlib.pyplot as plt\n",
    "\n",
    "%load_ext autoreload\n",
    "%autoreload 2\n",
    "\n",
    "pd.options.display.max_rows = 100\n",
    "pd.options.display.max_columns = 100"
   ]
  },
  {
   "cell_type": "code",
   "execution_count": 8,
   "id": "099378b7",
   "metadata": {},
   "outputs": [],
   "source": [
    "import sys\n",
    "sys.path.append(\"../\")\n",
    "\n",
    "from carbonify import BaseCarbone"
   ]
  },
  {
   "cell_type": "markdown",
   "id": "0dc94bff",
   "metadata": {},
   "source": [
    "# Exploring Base Carbone\n",
    "- [Base Carbone](https://data.ademe.fr/datasets/base-carbone(r)) by ADEME \n",
    "- [Documentation](https://www.bilans-ges.ademe.fr/fr/accueil/contenu/index/page/presentation/siGras/0)"
   ]
  },
  {
   "cell_type": "markdown",
   "id": "09130de3",
   "metadata": {},
   "source": [
    "##### Notes\n",
    "- Analyser les tags\n",
    "- Analyser les catégories\n",
    "- Vérifier ce que c'est que les \"qualités\"\n",
    "- Où sont les émissions ?\n",
    "- Regarder la méthode carbon facts"
   ]
  },
  {
   "cell_type": "markdown",
   "id": "06501e95",
   "metadata": {},
   "source": [
    "## Loading data"
   ]
  },
  {
   "cell_type": "code",
   "execution_count": 12,
   "id": "30fec24e",
   "metadata": {},
   "outputs": [],
   "source": [
    "PATH = \"../data/raw/base_carbone.csv\"\n",
    "\n",
    "baca = BaseCarbone(PATH)"
   ]
  },
  {
   "cell_type": "markdown",
   "id": "0a976e8d",
   "metadata": {},
   "source": [
    "## Exploring categories"
   ]
  },
  {
   "cell_type": "code",
   "execution_count": 13,
   "id": "e74f4255",
   "metadata": {},
   "outputs": [
    {
     "data": {
      "text/html": [
       "<div>\n",
       "<style scoped>\n",
       "    .dataframe tbody tr th:only-of-type {\n",
       "        vertical-align: middle;\n",
       "    }\n",
       "\n",
       "    .dataframe tbody tr th {\n",
       "        vertical-align: top;\n",
       "    }\n",
       "\n",
       "    .dataframe thead th {\n",
       "        text-align: right;\n",
       "    }\n",
       "</style>\n",
       "<table border=\"1\" class=\"dataframe\">\n",
       "  <thead>\n",
       "    <tr style=\"text-align: right;\">\n",
       "      <th></th>\n",
       "      <th>category1</th>\n",
       "      <th>category2</th>\n",
       "      <th>category3</th>\n",
       "      <th>category4</th>\n",
       "      <th>category5</th>\n",
       "    </tr>\n",
       "  </thead>\n",
       "  <tbody>\n",
       "    <tr>\n",
       "      <th>0</th>\n",
       "      <td>Achats de biens</td>\n",
       "      <td>Produits agro-alimentaires, plats préparés et ...</td>\n",
       "      <td>Entrées et plats composés</td>\n",
       "      <td>Salades composées et crudités</td>\n",
       "      <td>NaN</td>\n",
       "    </tr>\n",
       "    <tr>\n",
       "      <th>1</th>\n",
       "      <td>Achats de biens</td>\n",
       "      <td>Produits agro-alimentaires, plats préparés et ...</td>\n",
       "      <td>Produits céréaliers</td>\n",
       "      <td>Pains et viennoiseries</td>\n",
       "      <td>NaN</td>\n",
       "    </tr>\n",
       "    <tr>\n",
       "      <th>2</th>\n",
       "      <td>Achats de biens</td>\n",
       "      <td>Produits agro-alimentaires, plats préparés et ...</td>\n",
       "      <td>Produits céréaliers</td>\n",
       "      <td>Céréales de petit-déjeuner et biscuits</td>\n",
       "      <td>NaN</td>\n",
       "    </tr>\n",
       "    <tr>\n",
       "      <th>3</th>\n",
       "      <td>Achats de biens</td>\n",
       "      <td>Produits agro-alimentaires, plats préparés et ...</td>\n",
       "      <td>Produits céréaliers</td>\n",
       "      <td>Céréales de petit-déjeuner et biscuits</td>\n",
       "      <td>NaN</td>\n",
       "    </tr>\n",
       "    <tr>\n",
       "      <th>4</th>\n",
       "      <td>Achats de biens</td>\n",
       "      <td>Produits agro-alimentaires, plats préparés et ...</td>\n",
       "      <td>Produits céréaliers</td>\n",
       "      <td>Céréales de petit-déjeuner et biscuits</td>\n",
       "      <td>NaN</td>\n",
       "    </tr>\n",
       "    <tr>\n",
       "      <th>...</th>\n",
       "      <td>...</td>\n",
       "      <td>...</td>\n",
       "      <td>...</td>\n",
       "      <td>...</td>\n",
       "      <td>...</td>\n",
       "    </tr>\n",
       "    <tr>\n",
       "      <th>9198</th>\n",
       "      <td>Achats de biens</td>\n",
       "      <td>Machines et équipements</td>\n",
       "      <td>Electroménager</td>\n",
       "      <td>NaN</td>\n",
       "      <td>NaN</td>\n",
       "    </tr>\n",
       "    <tr>\n",
       "      <th>9199</th>\n",
       "      <td>Achats de biens</td>\n",
       "      <td>Machines et équipements</td>\n",
       "      <td>Electroménager</td>\n",
       "      <td>NaN</td>\n",
       "      <td>NaN</td>\n",
       "    </tr>\n",
       "    <tr>\n",
       "      <th>9200</th>\n",
       "      <td>Achats de biens</td>\n",
       "      <td>Machines et équipements</td>\n",
       "      <td>Electroménager</td>\n",
       "      <td>NaN</td>\n",
       "      <td>NaN</td>\n",
       "    </tr>\n",
       "    <tr>\n",
       "      <th>9201</th>\n",
       "      <td>Achats de biens</td>\n",
       "      <td>Métaux et produits métalliques</td>\n",
       "      <td>Autres métaux</td>\n",
       "      <td>NaN</td>\n",
       "      <td>NaN</td>\n",
       "    </tr>\n",
       "    <tr>\n",
       "      <th>9202</th>\n",
       "      <td>Achats de biens</td>\n",
       "      <td>Métaux et produits métalliques</td>\n",
       "      <td>Autres métaux</td>\n",
       "      <td>NaN</td>\n",
       "      <td>NaN</td>\n",
       "    </tr>\n",
       "  </tbody>\n",
       "</table>\n",
       "<p>9203 rows × 5 columns</p>\n",
       "</div>"
      ],
      "text/plain": [
       "            category1                                          category2  \\\n",
       "0     Achats de biens  Produits agro-alimentaires, plats préparés et ...   \n",
       "1     Achats de biens  Produits agro-alimentaires, plats préparés et ...   \n",
       "2     Achats de biens  Produits agro-alimentaires, plats préparés et ...   \n",
       "3     Achats de biens  Produits agro-alimentaires, plats préparés et ...   \n",
       "4     Achats de biens  Produits agro-alimentaires, plats préparés et ...   \n",
       "...               ...                                                ...   \n",
       "9198  Achats de biens                            Machines et équipements   \n",
       "9199  Achats de biens                            Machines et équipements   \n",
       "9200  Achats de biens                            Machines et équipements   \n",
       "9201  Achats de biens                     Métaux et produits métalliques   \n",
       "9202  Achats de biens                     Métaux et produits métalliques   \n",
       "\n",
       "                      category3                               category4  \\\n",
       "0     Entrées et plats composés           Salades composées et crudités   \n",
       "1           Produits céréaliers                  Pains et viennoiseries   \n",
       "2           Produits céréaliers  Céréales de petit-déjeuner et biscuits   \n",
       "3           Produits céréaliers  Céréales de petit-déjeuner et biscuits   \n",
       "4           Produits céréaliers  Céréales de petit-déjeuner et biscuits   \n",
       "...                         ...                                     ...   \n",
       "9198             Electroménager                                     NaN   \n",
       "9199             Electroménager                                     NaN   \n",
       "9200             Electroménager                                     NaN   \n",
       "9201              Autres métaux                                     NaN   \n",
       "9202              Autres métaux                                     NaN   \n",
       "\n",
       "     category5  \n",
       "0          NaN  \n",
       "1          NaN  \n",
       "2          NaN  \n",
       "3          NaN  \n",
       "4          NaN  \n",
       "...        ...  \n",
       "9198       NaN  \n",
       "9199       NaN  \n",
       "9200       NaN  \n",
       "9201       NaN  \n",
       "9202       NaN  \n",
       "\n",
       "[9203 rows x 5 columns]"
      ]
     },
     "execution_count": 13,
     "metadata": {},
     "output_type": "execute_result"
    }
   ],
   "source": [
    "baca.categories"
   ]
  },
  {
   "cell_type": "code",
   "execution_count": 136,
   "id": "fafa10da",
   "metadata": {
    "scrolled": false
   },
   "outputs": [
    {
     "data": {
      "image/png": "[encoded data removed]",
      "text/plain": [
       "<Figure size 432x432 with 1 Axes>"
      ]
     },
     "metadata": {
      "needs_background": "light"
     },
     "output_type": "display_data"
    },
    {
     "data": {
      "image/png": "[encoded data removed]",
      "text/plain": [
       "<Figure size 432x432 with 1 Axes>"
      ]
     },
     "metadata": {
      "needs_background": "light"
     },
     "output_type": "display_data"
    },
    {
     "data": {
      "image/png": "[encoded data removed]",
      "text/plain": [
       "<Figure size 432x432 with 1 Axes>"
      ]
     },
     "metadata": {
      "needs_background": "light"
     },
     "output_type": "display_data"
    },
    {
     "data": {
      "image/png": "[encoded data removed]",
      "text/plain": [
       "<Figure size 432x432 with 1 Axes>"
      ]
     },
     "metadata": {
      "needs_background": "light"
     },
     "output_type": "display_data"
    },
    {
     "data": {
      "image/png": "[encoded data removed]",
      "text/plain": [
       "<Figure size 432x432 with 1 Axes>"
      ]
     },
     "metadata": {
      "needs_background": "light"
     },
     "output_type": "display_data"
    }
   ],
   "source": [
    "topn = 10\n",
    "for col in baca.categories.columns:\n",
    "    categories[col].value_counts().sort_values(ascending = True).tail(topn).plot(kind = \"barh\",figsize = (6,6),title = f\"Top {topn} {col}\")\n",
    "    plt.show()"
   ]
  },
  {
   "cell_type": "markdown",
   "id": "822185b5",
   "metadata": {},
   "source": [
    "> TODO - Mondrian ou plotly hierarchical plot de la séquence de catégorie"
   ]
  },
  {
   "cell_type": "code",
   "execution_count": 138,
   "id": "5495f65e",
   "metadata": {},
   "outputs": [
    {
     "data": {
      "image/png": "[encoded data removed]",
      "text/plain": [
       "<Figure size 432x720 with 1 Axes>"
      ]
     },
     "metadata": {
      "needs_background": "light"
     },
     "output_type": "display_data"
    }
   ],
   "source": [
    "baca.data[\"category\"].value_counts().sort_values(ascending = True).tail(30).plot(kind = \"barh\",figsize = (6,10))\n",
    "plt.show()"
   ]
  },
  {
   "cell_type": "code",
   "execution_count": 66,
   "id": "0ead83d1",
   "metadata": {},
   "outputs": [],
   "source": [
    "import plotly.express as px"
   ]
  },
  {
   "cell_type": "code",
   "execution_count": 139,
   "id": "5b30e3ce",
   "metadata": {},
   "outputs": [],
   "source": [
    "categories_count = (\n",
    "    baca.categories\n",
    "    .fillna(\"No category\")\n",
    "    .assign(count = lambda x : 1)\n",
    "    .groupby(categories.columns.tolist())\n",
    "    [\"count\"].sum()\n",
    "    .reset_index()\n",
    "    .sort_values(\"count\",ascending = False)\n",
    ")"
   ]
  },
  {
   "cell_type": "code",
   "execution_count": 140,
   "id": "eb81e026",
   "metadata": {},
   "outputs": [
    {
     "data": {
      "application/vnd.plotly.v1+json": {
       "config": {
        "plotlyServerURL": "https://plot.ly"
       },
       "data": [
        {
         "branchvalues": "total",
         "customdata": [
          [
           "Traitement des déchets"
          ],
          [
           "Achats de biens"
          ],
          [
           "Transport de marchandises"
          ],
          [
           "Réseaux de chaleur / froid"
          ],
          [
           "Transport de personnes"
          ],
          [
           "Réseaux de chaleur / froid"
          ],
          [
           "Electricité"
          ],
          [
           "Electricité"
          ],
          [
           "Transport de personnes"
          ],
          [
           "Achats de biens"
          ],
          [
           "Statistiques territoriales"
          ],
          [
           "Electricité"
          ],
          [
           "Combustibles"
          ],
          [
           "Achats de biens"
          ],
          [
           "Statistiques territoriales"
          ],
          [
           "Traitement des déchets"
          ],
          [
           "Achats de biens"
          ],
          [
           "PRG"
          ],
          [
           "Réseaux de chaleur / froid"
          ],
          [
           "Achats de biens"
          ],
          [
           "Réseaux de chaleur / froid"
          ],
          [
           "Achats de biens"
          ],
          [
           "Transport de personnes"
          ],
          [
           "Transport de marchandises"
          ],
          [
           "Achats de biens"
          ],
          [
           "Réseaux de chaleur / froid"
          ],
          [
           "Process et émissions fugitives"
          ],
          [
           "Achats de biens"
          ],
          [
           "Achats de biens"
          ],
          [
           "Combustibles"
          ],
          [
           "UTCF"
          ],
          [
           "Achats de biens"
          ],
          [
           "Transport de personnes"
          ],
          [
           "Achats de biens"
          ],
          [
           "Achats de biens"
          ],
          [
           "Achats de biens"
          ],
          [
           "Achats de biens"
          ],
          [
           "Réseaux de chaleur / froid"
          ],
          [
           "Réseaux de chaleur / froid"
          ],
          [
           "Achats de biens"
          ],
          [
           "Statistiques territoriales"
          ],
          [
           "Réseaux de chaleur / froid"
          ],
          [
           "Statistiques territoriales"
          ],
          [
           "Statistiques territoriales"
          ],
          [
           "Combustibles"
          ],
          [
           "Réseaux de chaleur / froid"
          ],
          [
           "Statistiques territoriales"
          ],
          [
           "Process et émissions fugitives"
          ],
          [
           "Réseaux de chaleur / froid"
          ],
          [
           "Achats de biens"
          ],
          [
           "Process et émissions fugitives"
          ],
          [
           "Réseaux de chaleur / froid"
          ],
          [
           "Réseaux de chaleur / froid"
          ],
          [
           "Achats de biens"
          ],
          [
           "Achats de biens"
          ],
          [
           "Achats de biens"
          ],
          [
           "Traitement des déchets"
          ],
          [
           "UTCF"
          ],
          [
           "Electricité"
          ],
          [
           "Traitement des déchets"
          ],
          [
           "Statistiques territoriales"
          ],
          [
           "Réseaux de chaleur / froid"
          ],
          [
           "Statistiques territoriales"
          ],
          [
           "Achats de biens"
          ],
          [
           "Transport de marchandises"
          ],
          [
           "Réseaux de chaleur / froid"
          ],
          [
           "Achats de biens"
          ],
          [
           "UTCF"
          ],
          [
           "Statistiques territoriales"
          ],
          [
           "Electricité"
          ],
          [
           "Achats de biens"
          ],
          [
           "Transport de marchandises"
          ],
          [
           "Réseaux de chaleur / froid"
          ],
          [
           "UTCF"
          ],
          [
           "Réseaux de chaleur / froid"
          ],
          [
           "Réseaux de chaleur / froid"
          ],
          [
           "Achats de biens"
          ],
          [
           "Transport de marchandises"
          ],
          [
           "UTCF"
          ],
          [
           "Transport de marchandises"
          ],
          [
           "Statistiques territoriales"
          ],
          [
           "Réseaux de chaleur / froid"
          ],
          [
           "Achats de biens"
          ],
          [
           "Transport de marchandises"
          ],
          [
           "Transport de personnes"
          ],
          [
           "UTCF"
          ],
          [
           "PRG"
          ],
          [
           "Statistiques territoriales"
          ],
          [
           "Transport de personnes"
          ],
          [
           "Achats de services"
          ],
          [
           "UTCF"
          ],
          [
           "Réseaux de chaleur / froid"
          ],
          [
           "Achats de biens"
          ],
          [
           "Réseaux de chaleur / froid"
          ],
          [
           "Transport de marchandises"
          ],
          [
           "Traitement des déchets"
          ],
          [
           "Réseaux de chaleur / froid"
          ],
          [
           "Achats de biens"
          ],
          [
           "Transport de personnes"
          ],
          [
           "Electricité"
          ],
          [
           "Statistiques territoriales"
          ],
          [
           "Achats de biens"
          ],
          [
           "Statistiques territoriales"
          ],
          [
           "Réseaux de chaleur / froid"
          ],
          [
           "Achats de biens"
          ],
          [
           "Réseaux de chaleur / froid"
          ],
          [
           "Achats de biens"
          ],
          [
           "Achats de biens"
          ],
          [
           "Transport de marchandises"
          ],
          [
           "Achats de biens"
          ],
          [
           "Réseaux de chaleur / froid"
          ],
          [
           "Réseaux de chaleur / froid"
          ],
          [
           "Achats de services"
          ],
          [
           "Réseaux de chaleur / froid"
          ],
          [
           "Réseaux de chaleur / froid"
          ],
          [
           "UTCF"
          ],
          [
           "Transport de personnes"
          ],
          [
           "Réseaux de chaleur / froid"
          ],
          [
           "Traitement des déchets"
          ],
          [
           "Transport de personnes"
          ],
          [
           "Combustibles"
          ],
          [
           "UTCF"
          ],
          [
           "Process et émissions fugitives"
          ],
          [
           "Réseaux de chaleur / froid"
          ],
          [
           "Transport de personnes"
          ],
          [
           "Combustibles"
          ],
          [
           "Electricité"
          ],
          [
           "Transport de marchandises"
          ],
          [
           "UTCF"
          ],
          [
           "Achats de services"
          ],
          [
           "PRG"
          ],
          [
           "Process et émissions fugitives"
          ],
          [
           "Achats de biens"
          ],
          [
           "Transport de marchandises"
          ],
          [
           "Achats de services"
          ],
          [
           "Réseaux de chaleur / froid"
          ],
          [
           "Transport de marchandises"
          ],
          [
           "Achats de biens"
          ],
          [
           "UTCF"
          ],
          [
           "Achats de biens"
          ],
          [
           "Achats de biens"
          ],
          [
           "UTCF"
          ],
          [
           "UTCF"
          ],
          [
           "Electricité"
          ],
          [
           "Traitement des déchets"
          ],
          [
           "Traitement des déchets"
          ],
          [
           "Achats de biens"
          ],
          [
           "UTCF"
          ],
          [
           "Réseaux de chaleur / froid"
          ],
          [
           "Réseaux de chaleur / froid"
          ],
          [
           "Réseaux de chaleur / froid"
          ],
          [
           "UTCF"
          ],
          [
           "Achats de biens"
          ],
          [
           "UTCF"
          ],
          [
           "Achats de biens"
          ],
          [
           "UTCF"
          ],
          [
           "Transport de marchandises"
          ],
          [
           "Statistiques territoriales"
          ],
          [
           "Statistiques territoriales"
          ],
          [
           "Achats de biens"
          ],
          [
           "Statistiques territoriales"
          ],
          [
           "Process et émissions fugitives"
          ],
          [
           "Transport de personnes"
          ],
          [
           "Réseaux de chaleur / froid"
          ],
          [
           "UTCF"
          ],
          [
           "Achats de services"
          ],
          [
           "Réseaux de chaleur / froid"
          ],
          [
           "Réseaux de chaleur / froid"
          ],
          [
           "Réseaux de chaleur / froid"
          ],
          [
           "Réseaux de chaleur / froid"
          ],
          [
           "Achats de biens"
          ],
          [
           "Statistiques territoriales"
          ],
          [
           "Transport de marchandises"
          ],
          [
           "Réseaux de chaleur / froid"
          ],
          [
           "Transport de marchandises"
          ],
          [
           "Réseaux de chaleur / froid"
          ],
          [
           "UTCF"
          ],
          [
           "Transport de marchandises"
          ],
          [
           "Process et émissions fugitives"
          ],
          [
           "Transport de personnes"
          ],
          [
           "UTCF"
          ],
          [
           "Achats de biens"
          ],
          [
           "Achats de biens"
          ],
          [
           "UTCF"
          ],
          [
           "Transport de marchandises"
          ],
          [
           "Traitement des déchets"
          ],
          [
           "Traitement des déchets"
          ],
          [
           "Achats de biens"
          ],
          [
           "Réseaux de chaleur / froid"
          ],
          [
           "Achats de biens"
          ],
          [
           "UTCF"
          ],
          [
           "UTCF"
          ],
          [
           "Réseaux de chaleur / froid"
          ],
          [
           "UTCF"
          ],
          [
           "Transport de marchandises"
          ],
          [
           "Traitement des déchets"
          ],
          [
           "Achats de biens"
          ],
          [
           "Achats de biens"
          ],
          [
           "Achats de services"
          ],
          [
           "Achats de biens"
          ],
          [
           "Transport de personnes"
          ],
          [
           "Statistiques territoriales"
          ],
          [
           "Combustibles"
          ],
          [
           "Réseaux de chaleur / froid"
          ],
          [
           "Statistiques territoriales"
          ],
          [
           "Réseaux de chaleur / froid"
          ],
          [
           "Réseaux de chaleur / froid"
          ],
          [
           "Réseaux de chaleur / froid"
          ],
          [
           "Transport de personnes"
          ],
          [
           "Réseaux de chaleur / froid"
          ],
          [
           "Réseaux de chaleur / froid"
          ],
          [
           "Achats de biens"
          ],
          [
           "Combustibles"
          ],
          [
           "Transport de marchandises"
          ],
          [
           "Achats de biens"
          ],
          [
           "Réseaux de chaleur / froid"
          ],
          [
           "Achats de biens"
          ],
          [
           "Statistiques territoriales"
          ],
          [
           "Combustibles"
          ],
          [
           "PRG"
          ],
          [
           "Achats de biens"
          ],
          [
           "Transport de personnes"
          ],
          [
           "Statistiques territoriales"
          ],
          [
           "Achats de biens"
          ],
          [
           "Process et émissions fugitives"
          ],
          [
           "Combustibles"
          ],
          [
           "Traitement des déchets"
          ],
          [
           "UTCF"
          ],
          [
           "Achats de services"
          ],
          [
           "Réseaux de chaleur / froid"
          ],
          [
           "Transport de marchandises"
          ],
          [
           "Statistiques territoriales"
          ],
          [
           "Achats de biens"
          ],
          [
           "Réseaux de chaleur / froid"
          ],
          [
           "Transport de marchandises"
          ],
          [
           "Achats de biens"
          ],
          [
           "Réseaux de chaleur / froid"
          ],
          [
           "PRG"
          ],
          [
           "Achats de biens"
          ],
          [
           "PRG"
          ],
          [
           "Achats de biens"
          ],
          [
           "Traitement des déchets"
          ],
          [
           "Process et émissions fugitives"
          ],
          [
           "Achats de biens"
          ],
          [
           "Réseaux de chaleur / froid"
          ],
          [
           "Traitement des déchets"
          ],
          [
           "Achats de biens"
          ],
          [
           "Combustibles"
          ],
          [
           "Réseaux de chaleur / froid"
          ],
          [
           "Achats de biens"
          ],
          [
           "Transport de personnes"
          ],
          [
           "Transport de personnes"
          ],
          [
           "Combustibles"
          ],
          [
           "Traitement des déchets"
          ],
          [
           "PRG"
          ],
          [
           "Traitement des déchets"
          ],
          [
           "Combustibles"
          ],
          [
           "Réseaux de chaleur / froid"
          ],
          [
           "Achats de biens"
          ],
          [
           "Achats de biens"
          ],
          [
           "UTCF"
          ],
          [
           "Statistiques territoriales"
          ],
          [
           "Réseaux de chaleur / froid"
          ],
          [
           "Process et émissions fugitives"
          ],
          [
           "Traitement des déchets"
          ],
          [
           "Traitement des déchets"
          ],
          [
           "Traitement des déchets"
          ],
          [
           "Réseaux de chaleur / froid"
          ],
          [
           "Traitement des déchets"
          ],
          [
           "Traitement des déchets"
          ],
          [
           "Transport de marchandises"
          ],
          [
           "Transport de personnes"
          ],
          [
           "Transport de personnes"
          ],
          [
           "UTCF"
          ],
          [
           "Réseaux de chaleur / froid"
          ],
          [
           "Réseaux de chaleur / froid"
          ],
          [
           "Achats de biens"
          ],
          [
           "Statistiques territoriales"
          ],
          [
           "Achats de biens"
          ],
          [
           "Traitement des déchets"
          ]
         ],
         "domain": {
          "x": [
           0,
           1
          ],
          "y": [
           0,
           1
          ]
         },
         "hovertemplate": "labels=%{label}<br>count=%{value}<br>parent=%{parent}<br>id=%{id}<br>category1=%{customdata[0]}<extra></extra>",
         "ids": [
          "Traitement des déchets/Ordures ménagères",
          "Achats de biens/Autres produits manufacturés",
          "Transport de marchandises/Fluvial",
          "Réseaux de chaleur / froid/Limousin",
          "Transport de personnes/Maritime",
          "Réseaux de chaleur / froid/Midi-Pyrénées",
          "Electricité/Mix réseau électrique",
          "Electricité/Mix réseau électrique/France continentale",
          "Transport de personnes/Ferroviaire/France continentale",
          "Achats de biens/Mobilier",
          "Statistiques territoriales/Agriculture/Fraises",
          "Electricité/Moyen de production",
          "Combustibles/Organiques/Liquides",
          "Achats de biens/Métaux et produits métalliques",
          "Statistiques territoriales/Agriculture/Epandage d'engrais azoté",
          "Traitement des déchets/Déchets plastiques/PS",
          "Achats de biens/Produits agro-alimentaires, plats préparés et boissons/Entrées et plats composés",
          "PRG/PRG à 100 ans du 4ème rapport du GIEC",
          "Réseaux de chaleur / froid/Pays de la Loire",
          "Achats de biens/Hydrogène/Distribution en station",
          "Réseaux de chaleur / froid/Picardie",
          "Achats de biens/Plastiques et produits chimiques",
          "Transport de personnes/Maritime/DOM COM",
          "Transport de marchandises/Maritime/DOM COM",
          "Achats de biens/Métaux et produits métalliques/Cuivre",
          "Réseaux de chaleur / froid/Nord-Pas-de-Calais",
          "Process et émissions fugitives/Agriculture",
          "Achats de biens/Produits agro-alimentaires, plats préparés et boissons/Matières grasses",
          "Achats de biens/Produits minéraux non métalliques/Matériaux de construction",
          "Combustibles/Caractéristiques physiques/PCI - Pouvoir Calorifique Inférieur",
          "UTCF/Forêts françaises/Nord-Pas-de-Calais",
          "Achats de biens/Véhicules automobiles et autres matériels de transport/No category",
          "Transport de personnes/Transport guidé/No category",
          "Achats de biens/Minerais, granulats/Pierres de carrière",
          "Achats de biens/Hydrogène/Production d'hydrogène",
          "Achats de biens/Plastiques et produits chimiques/Produits chimiques",
          "Achats de biens/Mobilier/No category",
          "Réseaux de chaleur / froid/Midi-Pyrénées/No category",
          "Réseaux de chaleur / froid/Lorraine/No category",
          "Achats de biens/Produits de l'agriculture et de la pêche/Produits végétaux",
          "Statistiques territoriales/Industrie/No category",
          "Réseaux de chaleur / froid/Haute-Normandie/No category",
          "Statistiques territoriales/Transport de marchandises/Reçus",
          "Statistiques territoriales/Agriculture/Serres",
          "Combustibles/Fossiles/Solides",
          "Réseaux de chaleur / froid/Corse/No category",
          "Statistiques territoriales/Coefficients climatiques/No category",
          "Process et émissions fugitives/Agriculture/Sols agricoles",
          "Réseaux de chaleur / froid/Bretagne/No category",
          "Achats de biens/Bois/No category",
          "Process et émissions fugitives/Déchets/Traitement des eaux usées",
          "Réseaux de chaleur / froid/Auvergne/No category",
          "Réseaux de chaleur / froid/Aquitaine/No category",
          "Achats de biens/Produits agro-alimentaires, plats préparés et boissons/Viandes, ?ufs, poissons",
          "Achats de biens/Textile et habillement/Cuir",
          "Achats de biens/Textile et habillement/Coton",
          "Traitement des déchets/Déchets plastiques/PET",
          "UTCF/Forêts françaises/Auvergne",
          "Electricité",
          "Traitement des déchets/Déchets minéraux/Autres déchets minéraux",
          "Statistiques territoriales/Résidentiel",
          "Réseaux de chaleur / froid/Rhône-Alpes/42. Loire",
          "Statistiques territoriales/Tertiaire",
          "Achats de biens/Textile et habillement",
          "Transport de marchandises/Routier",
          "Réseaux de chaleur / froid/Rhône-Alpes/69. Rhône",
          "Achats de biens/Métaux et produits métalliques/Acier",
          "UTCF/Forêts françaises/Corse",
          "Statistiques territoriales",
          "Electricité/Mix réseau électrique/Autres pays du monde",
          "Achats de biens/Métaux et produits métalliques/Autres métaux",
          "Transport de marchandises/Ferroviaire/Autres pays du monde",
          "Réseaux de chaleur / froid/Rhône-Alpes/7. Ardèche",
          "UTCF/Forêts françaises/Bretagne",
          "Réseaux de chaleur / froid/Rhône-Alpes",
          "Réseaux de chaleur / froid/Île-de-France/92. Hauts-de-Seine",
          "Achats de biens/Produits agro-alimentaires, plats préparés et boissons/Aliments infantiles",
          "Transport de marchandises/Ferroviaire/Corse",
          "UTCF/Forêts françaises/Alsace",
          "Transport de marchandises",
          "Statistiques territoriales/Résidentiel/Consommation totale",
          "Réseaux de chaleur / froid/Île-de-France/93. Seine-Saint-Denis",
          "Achats de biens/Autres produits manufacturés/Consommables de bureau",
          "Transport de marchandises/Maritime/Cargo",
          "Transport de personnes/Ferroviaire/Autres pays du monde",
          "UTCF/Forêts françaises/Aquitaine",
          "PRG",
          "Statistiques territoriales/Tertiaire/Chauffage / Eau chaude sanitaire",
          "Transport de personnes/Routier/Autobus - Autocar",
          "Achats de services/Restauration",
          "UTCF/Forêts françaises/Centre-Val de Loire",
          "Réseaux de chaleur / froid",
          "Achats de biens/Métaux et produits métalliques/Aluminium",
          "Réseaux de chaleur / froid/Aquitaine",
          "Transport de marchandises/Maritime/Vraquiers",
          "Traitement des déchets/Déchets organiques/Déchets alimentaires et déchets verts",
          "Réseaux de chaleur / froid/Rhône-Alpes/73. Savoie",
          "Achats de biens/Produits agro-alimentaires, plats préparés et boissons/Aides culinaires et ingrédients divers",
          "Transport de personnes/Aérien/Court, Moyen, Long courrier (Valeurs moyennes)",
          "Electricité/Moyen de production/Conventionnels",
          "Statistiques territoriales/Agriculture/Consommation de carburant",
          "Achats de biens/Produits agro-alimentaires, plats préparés et boissons",
          "Statistiques territoriales/Résidentiel/Eau chaude sanitaire",
          "Réseaux de chaleur / froid/Rhône-Alpes/74. Haute-Savoie",
          "Achats de biens/Produits minéraux non métalliques/Ciment, chaux, plâtre, béton",
          "Réseaux de chaleur / froid/Rhône-Alpes/38. Isère",
          "Achats de biens/Produits agro-alimentaires, plats préparés et boissons/Boissons",
          "Achats de biens/Produits minéraux non métalliques/Verres et articles en verre",
          "Transport de marchandises/Fluvial/Bateau pousseur",
          "Achats de biens/Plastiques et produits chimiques/Plastiques et caoutchouc",
          "Réseaux de chaleur / froid/Basse-Normandie",
          "Réseaux de chaleur / froid/Île-de-France/75. Paris",
          "Achats de services/Ratios monétaires",
          "Réseaux de chaleur / froid/Île-de-France/94. Val de Marne",
          "Réseaux de chaleur / froid/Île-de-France/91. Essonne",
          "UTCF/Forêts françaises/Poitou-Charentes",
          "Transport de personnes/Ferroviaire/Corse",
          "Réseaux de chaleur / froid/Rhône-Alpes/1. Ain",
          "Traitement des déchets/Déchets organiques/Cartons",
          "Transport de personnes/Routier/Taxi ? VTC",
          "Combustibles/Fossiles/Liquides",
          "UTCF/Forêts françaises/Limousin",
          "Process et émissions fugitives",
          "Réseaux de chaleur / froid/Champagne-Ardenne/No category",
          "Transport de personnes/Aérien/Par capacité d'avion",
          "Combustibles",
          "Electricité/Moyen de production/Renouvelables",
          "Transport de marchandises/Maritime",
          "UTCF/Forêts françaises/Languedoc-Roussillon",
          "Achats de services/Restauration/No category",
          "PRG/PRG à 100 ans du 5ème rapport du GIEC/Substances controllées par le protocole de Montréal",
          "Process et émissions fugitives/Process industriels",
          "Achats de biens/Minerais, granulats",
          "Transport de marchandises/Routier/Par catégorie",
          "Achats de services",
          "Réseaux de chaleur / froid/Bretagne",
          "Transport de marchandises/Maritime/Rouliers",
          "Achats de biens/Produits agro-alimentaires, plats préparés et boissons/Produits céréaliers",
          "UTCF/Forêts françaises/Île-de-France",
          "Achats de biens/Autres produits manufacturés/Usage viticulture",
          "Achats de biens/Produits agro-alimentaires, plats préparés et boissons/Produits sucrés",
          "UTCF/Forêts françaises/Picardie",
          "UTCF/Forêts françaises/Rhône-Alpes",
          "Electricité/Mix réseau électrique/Outre mer",
          "Traitement des déchets/Déchets plastiques/PE",
          "Traitement des déchets/Eaux usées/No category",
          "Achats de biens/Eau,  traitement et distribution d'eau/No category",
          "UTCF/Changement d'affectation des sols/No category",
          "Réseaux de chaleur / froid/Bourgogne/No category",
          "Réseaux de chaleur / froid/Basse-Normandie/No category",
          "Réseaux de chaleur / froid/Alsace/No category",
          "UTCF/Forêts françaises/Moyenne nationale",
          "Achats de biens/Machines et équipements/Machines industrielles",
          "UTCF/Forêts françaises/Lorraine",
          "Achats de biens/Produits agro-alimentaires, plats préparés et boissons/Lait et produits laitiers",
          "UTCF/Forêts françaises/Franche-Comté",
          "Transport de marchandises/Ferroviaire/France continentale",
          "Statistiques territoriales/Agriculture/Fabrication d'engin / ha",
          "Statistiques territoriales/Résidentiel/Equipements électriques",
          "Achats de biens/Machines et équipements/Equipements électriques",
          "Statistiques territoriales/Transport de marchandises/Envoyées",
          "Process et émissions fugitives/Process industriels/Decarbonation",
          "Transport de personnes/Fluvial/No category",
          "Réseaux de chaleur / froid/Franche-Comté/No category",
          "UTCF",
          "Achats de services/Ratios monétaires/No category",
          "Réseaux de chaleur / froid/Languedoc-Roussillon/No category",
          "Réseaux de chaleur / froid/Île-de-France/77. Seine-et-Marne",
          "Réseaux de chaleur / froid/Île-de-France/78. Yvelines",
          "Réseaux de chaleur / froid/Île-de-France/95. Val-d'Oise",
          "Achats de biens/Autres produits manufacturés/Articles de sport",
          "Statistiques territoriales/Résidentiel/Chauffage",
          "Transport de marchandises/Aérien/Avion Cargo",
          "Réseaux de chaleur / froid/Île-de-France",
          "Transport de marchandises/Aérien/Avion passager",
          "Réseaux de chaleur / froid/Limousin/No category",
          "UTCF/Forêts françaises/Basse-Normandie",
          "Transport de marchandises/Fluvial/Bateau automoteur",
          "Process et émissions fugitives/Réfrigération et climatisation",
          "Transport de personnes/Routier",
          "UTCF/Forêts françaises/Bourgogne",
          "Achats de biens/Bâtiments, ouvrages d'art et voirie/Bâtiments",
          "Achats de biens/Machines et équipements",
          "UTCF/Forêts françaises/Pays de la Loire",
          "Transport de marchandises/Routier/Par usage",
          "Traitement des déchets/Déchets organiques/Papiers",
          "Traitement des déchets/Déchets plastiques/PVC",
          "Achats de biens/Produits minéraux non métalliques",
          "Réseaux de chaleur / froid/Provence-Alpes-Côte d'Azur",
          "Achats de biens/Bâtiments, ouvrages d'art et voirie",
          "UTCF/Forêts françaises/Haute-Normandie",
          "UTCF/Forêts françaises/Champagne-Ardenne",
          "Réseaux de chaleur / froid/Rhône-Alpes/26. Drôme",
          "UTCF/Forêts françaises/Provence-Alpes-Côte d'Azur",
          "Transport de marchandises/Maritime/Pétroliers",
          "Traitement des déchets/Ordures ménagères/No category",
          "Achats de biens/Bâtiments, ouvrages d'art et voirie/Voirie",
          "Achats de biens/Produits de l'agriculture et de la pêche/Produits de la mer",
          "Achats de services/Autres services/No category",
          "Achats de biens/Véhicules automobiles et autres matériels de transport",
          "Transport de personnes/Transport guidé",
          "Statistiques territoriales/Transport de personnes",
          "Combustibles/Caractéristiques physiques/Masses volumiques",
          "Réseaux de chaleur / froid/Champagne-Ardenne",
          "Statistiques territoriales/Transport de marchandises",
          "Réseaux de chaleur / froid/Provence-Alpes-Côte d'Azur/No category",
          "Réseaux de chaleur / froid/Picardie/No category",
          "Réseaux de chaleur / froid/Bourgogne",
          "Transport de personnes/Aérien",
          "Réseaux de chaleur / froid/Alsace",
          "Réseaux de chaleur / froid/Poitou-Charentes/No category",
          "Achats de biens",
          "Combustibles/Organiques/Gazeux",
          "Transport de marchandises/Maritime/Gaziers",
          "Achats de biens/Produits agro-alimentaires, plats préparés et boissons/Fruits, légumes, légumineuses et oléagineux",
          "Réseaux de chaleur / froid/Nord-Pas-de-Calais/No category",
          "Achats de biens/Produits de l'agriculture et de la pêche/Produits animaux",
          "Statistiques territoriales/Transport de personnes/Répartition par mode de transports",
          "Combustibles/Organiques",
          "PRG/PRG à 100 ans du 5ème rapport du GIEC",
          "Achats de biens/Papier, carton",
          "Transport de personnes/Routier/Deux roues",
          "Statistiques territoriales/Tertiaire/Consommation totale",
          "Achats de biens/Produits de l'agriculture et de la pêche",
          "Process et émissions fugitives/Réfrigération et climatisation/Réfrigération",
          "Combustibles/Organiques/Solides",
          "Traitement des déchets/Déchets plastiques/Plastique \"moyen\"",
          "UTCF/Forêts françaises/Midi-Pyrenées",
          "Achats de services/Autres services",
          "Réseaux de chaleur / froid/Auvergne",
          "Transport de marchandises/Aérien",
          "Statistiques territoriales/Agriculture",
          "Achats de biens/Papier, carton/No category",
          "Réseaux de chaleur / froid/Pays de la Loire/No category",
          "Transport de marchandises/Maritime/Porte-conteneur",
          "Achats de biens/Textile et habillement/Autres",
          "Réseaux de chaleur / froid/Centre/No category",
          "PRG/PRG à 100 ans du 5ème rapport du GIEC/Principaux gaz à effet de serre (CO2, CH4 et N2O)",
          "Achats de biens/Minerais, granulats/Granulats",
          "PRG/PRG à 100 ans du 4ème rapport du GIEC/Autres gaz à effet de serre fluorés",
          "Achats de biens/Produits agro-alimentaires, plats préparés et boissons/Glaces et sorbets",
          "Traitement des déchets/Déchets du bâtiment/No category",
          "Process et émissions fugitives/Réfrigération et climatisation/Climatisation",
          "Achats de biens/Machines et équipements/Informatique et équipements électroniques",
          "Réseaux de chaleur / froid/Poitou-Charentes",
          "Traitement des déchets",
          "Achats de biens/Machines et équipements/Electroménager",
          "Combustibles/Caractéristiques physiques",
          "Réseaux de chaleur / froid/Centre",
          "Achats de biens/Produits minéraux non métalliques/Enrobés pour la route",
          "Transport de personnes/Routier/Voiture particulière",
          "Transport de personnes",
          "Combustibles/Fossiles/Gazeux",
          "Traitement des déchets/Déchets plastiques/PP",
          "PRG/PRG à 100 ans du 5ème rapport du GIEC/Principaux gaz à effet de serre fluorés",
          "Traitement des déchets/Déchets dangereux/No category",
          "Combustibles/Fossiles",
          "Réseaux de chaleur / froid/Languedoc-Roussillon",
          "Achats de biens/Textile et habillement/Synthétique",
          "Achats de biens/Bois",
          "UTCF/Changement d'affectation des sols",
          "Statistiques territoriales/Coefficients climatiques",
          "Réseaux de chaleur / froid/Corse",
          "Process et émissions fugitives/Déchets",
          "Traitement des déchets/Déchets dangereux",
          "Traitement des déchets/Déchets minéraux",
          "Traitement des déchets/Déchets organiques",
          "Réseaux de chaleur / froid/Lorraine",
          "Traitement des déchets/Déchets plastiques",
          "Traitement des déchets/Eaux usées",
          "Transport de marchandises/Ferroviaire",
          "Transport de personnes/Ferroviaire",
          "Transport de personnes/Fluvial",
          "UTCF/Forêts françaises",
          "Réseaux de chaleur / froid/Franche-Comté",
          "Réseaux de chaleur / froid/Haute-Normandie",
          "Achats de biens/Hydrogène",
          "Statistiques territoriales/Industrie",
          "Achats de biens/Eau,  traitement et distribution d'eau",
          "Traitement des déchets/Déchets du bâtiment"
         ],
         "labels": [
          "Ordures ménagères",
          "Autres produits manufacturés",
          "Fluvial",
          "Limousin",
          "Maritime",
          "Midi-Pyrénées",
          "Mix réseau électrique",
          "France continentale",
          "France continentale",
          "Mobilier",
          "Fraises",
          "Moyen de production",
          "Liquides",
          "Métaux et produits métalliques",
          "Epandage d'engrais azoté",
          "PS",
          "Entrées et plats composés",
          "PRG à 100 ans du 4ème rapport du GIEC",
          "Pays de la Loire",
          "Distribution en station",
          "Picardie",
          "Plastiques et produits chimiques",
          "DOM COM",
          "DOM COM",
          "Cuivre",
          "Nord-Pas-de-Calais",
          "Agriculture",
          "Matières grasses",
          "Matériaux de construction",
          "PCI - Pouvoir Calorifique Inférieur",
          "Nord-Pas-de-Calais",
          "No category",
          "No category",
          "Pierres de carrière",
          "Production d'hydrogène",
          "Produits chimiques",
          "No category",
          "No category",
          "No category",
          "Produits végétaux",
          "No category",
          "No category",
          "Reçus",
          "Serres",
          "Solides",
          "No category",
          "No category",
          "Sols agricoles",
          "No category",
          "No category",
          "Traitement des eaux usées",
          "No category",
          "No category",
          "Viandes, ?ufs, poissons",
          "Cuir",
          "Coton",
          "PET",
          "Auvergne",
          "Electricité",
          "Autres déchets minéraux",
          "Résidentiel",
          "42. Loire",
          "Tertiaire",
          "Textile et habillement",
          "Routier",
          "69. Rhône",
          "Acier",
          "Corse",
          "Statistiques territoriales",
          "Autres pays du monde",
          "Autres métaux",
          "Autres pays du monde",
          "7. Ardèche",
          "Bretagne",
          "Rhône-Alpes",
          "92. Hauts-de-Seine",
          "Aliments infantiles",
          "Corse",
          "Alsace",
          "Transport de marchandises",
          "Consommation totale",
          "93. Seine-Saint-Denis",
          "Consommables de bureau",
          "Cargo",
          "Autres pays du monde",
          "Aquitaine",
          "PRG",
          "Chauffage / Eau chaude sanitaire",
          "Autobus - Autocar",
          "Restauration",
          "Centre-Val de Loire",
          "Réseaux de chaleur / froid",
          "Aluminium",
          "Aquitaine",
          "Vraquiers",
          "Déchets alimentaires et déchets verts",
          "73. Savoie",
          "Aides culinaires et ingrédients divers",
          "Court, Moyen, Long courrier (Valeurs moyennes)",
          "Conventionnels",
          "Consommation de carburant",
          "Produits agro-alimentaires, plats préparés et boissons",
          "Eau chaude sanitaire",
          "74. Haute-Savoie",
          "Ciment, chaux, plâtre, béton",
          "38. Isère",
          "Boissons",
          "Verres et articles en verre",
          "Bateau pousseur",
          "Plastiques et caoutchouc",
          "Basse-Normandie",
          "75. Paris",
          "Ratios monétaires",
          "94. Val de Marne",
          "91. Essonne",
          "Poitou-Charentes",
          "Corse",
          "1. Ain",
          "Cartons",
          "Taxi ? VTC",
          "Liquides",
          "Limousin",
          "Process et émissions fugitives",
          "No category",
          "Par capacité d'avion",
          "Combustibles",
          "Renouvelables",
          "Maritime",
          "Languedoc-Roussillon",
          "No category",
          "Substances controllées par le protocole de Montréal",
          "Process industriels",
          "Minerais, granulats",
          "Par catégorie",
          "Achats de services",
          "Bretagne",
          "Rouliers",
          "Produits céréaliers",
          "Île-de-France",
          "Usage viticulture",
          "Produits sucrés",
          "Picardie",
          "Rhône-Alpes",
          "Outre mer",
          "PE",
          "No category",
          "No category",
          "No category",
          "No category",
          "No category",
          "No category",
          "Moyenne nationale",
          "Machines industrielles",
          "Lorraine",
          "Lait et produits laitiers",
          "Franche-Comté",
          "France continentale",
          "Fabrication d'engin / ha",
          "Equipements électriques",
          "Equipements électriques",
          "Envoyées",
          "Decarbonation",
          "No category",
          "No category",
          "UTCF",
          "No category",
          "No category",
          "77. Seine-et-Marne",
          "78. Yvelines",
          "95. Val-d'Oise",
          "Articles de sport",
          "Chauffage",
          "Avion Cargo",
          "Île-de-France",
          "Avion passager",
          "No category",
          "Basse-Normandie",
          "Bateau automoteur",
          "Réfrigération et climatisation",
          "Routier",
          "Bourgogne",
          "Bâtiments",
          "Machines et équipements",
          "Pays de la Loire",
          "Par usage",
          "Papiers",
          "PVC",
          "Produits minéraux non métalliques",
          "Provence-Alpes-Côte d'Azur",
          "Bâtiments, ouvrages d'art et voirie",
          "Haute-Normandie",
          "Champagne-Ardenne",
          "26. Drôme",
          "Provence-Alpes-Côte d'Azur",
          "Pétroliers",
          "No category",
          "Voirie",
          "Produits de la mer",
          "No category",
          "Véhicules automobiles et autres matériels de transport",
          "Transport guidé",
          "Transport de personnes",
          "Masses volumiques",
          "Champagne-Ardenne",
          "Transport de marchandises",
          "No category",
          "No category",
          "Bourgogne",
          "Aérien",
          "Alsace",
          "No category",
          "Achats de biens",
          "Gazeux",
          "Gaziers",
          "Fruits, légumes, légumineuses et oléagineux",
          "No category",
          "Produits animaux",
          "Répartition par mode de transports",
          "Organiques",
          "PRG à 100 ans du 5ème rapport du GIEC",
          "Papier, carton",
          "Deux roues",
          "Consommation totale",
          "Produits de l'agriculture et de la pêche",
          "Réfrigération",
          "Solides",
          "Plastique \"moyen\"",
          "Midi-Pyrenées",
          "Autres services",
          "Auvergne",
          "Aérien",
          "Agriculture",
          "No category",
          "No category",
          "Porte-conteneur",
          "Autres",
          "No category",
          "Principaux gaz à effet de serre (CO2, CH4 et N2O)",
          "Granulats",
          "Autres gaz à effet de serre fluorés",
          "Glaces et sorbets",
          "No category",
          "Climatisation",
          "Informatique et équipements électroniques",
          "Poitou-Charentes",
          "Traitement des déchets",
          "Electroménager",
          "Caractéristiques physiques",
          "Centre",
          "Enrobés pour la route",
          "Voiture particulière",
          "Transport de personnes",
          "Gazeux",
          "PP",
          "Principaux gaz à effet de serre fluorés",
          "No category",
          "Fossiles",
          "Languedoc-Roussillon",
          "Synthétique",
          "Bois",
          "Changement d'affectation des sols",
          "Coefficients climatiques",
          "Corse",
          "Déchets",
          "Déchets dangereux",
          "Déchets minéraux",
          "Déchets organiques",
          "Lorraine",
          "Déchets plastiques",
          "Eaux usées",
          "Ferroviaire",
          "Ferroviaire",
          "Fluvial",
          "Forêts françaises",
          "Franche-Comté",
          "Haute-Normandie",
          "Hydrogène",
          "Industrie",
          "Eau,  traitement et distribution d'eau",
          "Déchets du bâtiment"
         ],
         "marker": {
          "colors": [
           "#636efa",
           "#EF553B",
           "#00cc96",
           "#ab63fa",
           "#FFA15A",
           "#ab63fa",
           "#19d3f3",
           "#19d3f3",
           "#FFA15A",
           "#EF553B",
           "#FF6692",
           "#19d3f3",
           "#B6E880",
           "#EF553B",
           "#FF6692",
           "#636efa",
           "#EF553B",
           "#FF97FF",
           "#ab63fa",
           "#EF553B",
           "#ab63fa",
           "#EF553B",
           "#FFA15A",
           "#00cc96",
           "#EF553B",
           "#ab63fa",
           "#FECB52",
           "#EF553B",
           "#EF553B",
           "#B6E880",
           "#636efa",
           "#EF553B",
           "#FFA15A",
           "#EF553B",
           "#EF553B",
           "#EF553B",
           "#EF553B",
           "#ab63fa",
           "#ab63fa",
           "#EF553B",
           "#FF6692",
           "#ab63fa",
           "#FF6692",
           "#FF6692",
           "#B6E880",
           "#ab63fa",
           "#FF6692",
           "#FECB52",
           "#ab63fa",
           "#EF553B",
           "#FECB52",
           "#ab63fa",
           "#ab63fa",
           "#EF553B",
           "#EF553B",
           "#EF553B",
           "#636efa",
           "#636efa",
           "#19d3f3",
           "#636efa",
           "#FF6692",
           "#ab63fa",
           "#FF6692",
           "#EF553B",
           "#00cc96",
           "#ab63fa",
           "#EF553B",
           "#636efa",
           "#FF6692",
           "#19d3f3",
           "#EF553B",
           "#00cc96",
           "#ab63fa",
           "#636efa",
           "#ab63fa",
           "#ab63fa",
           "#EF553B",
           "#00cc96",
           "#636efa",
           "#00cc96",
           "#FF6692",
           "#ab63fa",
           "#EF553B",
           "#00cc96",
           "#FFA15A",
           "#636efa",
           "#FF97FF",
           "#FF6692",
           "#FFA15A",
           "#EF553B",
           "#636efa",
           "#ab63fa",
           "#EF553B",
           "#ab63fa",
           "#00cc96",
           "#636efa",
           "#ab63fa",
           "#EF553B",
           "#FFA15A",
           "#19d3f3",
           "#FF6692",
           "#EF553B",
           "#FF6692",
           "#ab63fa",
           "#EF553B",
           "#ab63fa",
           "#EF553B",
           "#EF553B",
           "#00cc96",
           "#EF553B",
           "#ab63fa",
           "#ab63fa",
           "#EF553B",
           "#ab63fa",
           "#ab63fa",
           "#636efa",
           "#FFA15A",
           "#ab63fa",
           "#636efa",
           "#FFA15A",
           "#B6E880",
           "#636efa",
           "#FECB52",
           "#ab63fa",
           "#FFA15A",
           "#B6E880",
           "#19d3f3",
           "#00cc96",
           "#636efa",
           "#EF553B",
           "#FF97FF",
           "#FECB52",
           "#EF553B",
           "#00cc96",
           "#EF553B",
           "#ab63fa",
           "#00cc96",
           "#EF553B",
           "#636efa",
           "#EF553B",
           "#EF553B",
           "#636efa",
           "#636efa",
           "#19d3f3",
           "#636efa",
           "#636efa",
           "#EF553B",
           "#636efa",
           "#ab63fa",
           "#ab63fa",
           "#ab63fa",
           "#636efa",
           "#EF553B",
           "#636efa",
           "#EF553B",
           "#636efa",
           "#00cc96",
           "#FF6692",
           "#FF6692",
           "#EF553B",
           "#FF6692",
           "#FECB52",
           "#FFA15A",
           "#ab63fa",
           "#636efa",
           "#EF553B",
           "#ab63fa",
           "#ab63fa",
           "#ab63fa",
           "#ab63fa",
           "#EF553B",
           "#FF6692",
           "#00cc96",
           "#ab63fa",
           "#00cc96",
           "#ab63fa",
           "#636efa",
           "#00cc96",
           "#FECB52",
           "#FFA15A",
           "#636efa",
           "#EF553B",
           "#EF553B",
           "#636efa",
           "#00cc96",
           "#636efa",
           "#636efa",
           "#EF553B",
           "#ab63fa",
           "#EF553B",
           "#636efa",
           "#636efa",
           "#ab63fa",
           "#636efa",
           "#00cc96",
           "#636efa",
           "#EF553B",
           "#EF553B",
           "#EF553B",
           "#EF553B",
           "#FFA15A",
           "#FF6692",
           "#B6E880",
           "#ab63fa",
           "#FF6692",
           "#ab63fa",
           "#ab63fa",
           "#ab63fa",
           "#FFA15A",
           "#ab63fa",
           "#ab63fa",
           "#EF553B",
           "#B6E880",
           "#00cc96",
           "#EF553B",
           "#ab63fa",
           "#EF553B",
           "#FF6692",
           "#B6E880",
           "#FF97FF",
           "#EF553B",
           "#FFA15A",
           "#FF6692",
           "#EF553B",
           "#FECB52",
           "#B6E880",
           "#636efa",
           "#636efa",
           "#EF553B",
           "#ab63fa",
           "#00cc96",
           "#FF6692",
           "#EF553B",
           "#ab63fa",
           "#00cc96",
           "#EF553B",
           "#ab63fa",
           "#FF97FF",
           "#EF553B",
           "#FF97FF",
           "#EF553B",
           "#636efa",
           "#FECB52",
           "#EF553B",
           "#ab63fa",
           "#636efa",
           "#EF553B",
           "#B6E880",
           "#ab63fa",
           "#EF553B",
           "#FFA15A",
           "#FFA15A",
           "#B6E880",
           "#636efa",
           "#FF97FF",
           "#636efa",
           "#B6E880",
           "#ab63fa",
           "#EF553B",
           "#EF553B",
           "#636efa",
           "#FF6692",
           "#ab63fa",
           "#FECB52",
           "#636efa",
           "#636efa",
           "#636efa",
           "#ab63fa",
           "#636efa",
           "#636efa",
           "#00cc96",
           "#FFA15A",
           "#FFA15A",
           "#636efa",
           "#ab63fa",
           "#ab63fa",
           "#EF553B",
           "#FF6692",
           "#EF553B",
           "#636efa"
          ]
         },
         "name": "",
         "parents": [
          "Traitement des déchets",
          "Achats de biens",
          "Transport de marchandises",
          "Réseaux de chaleur / froid",
          "Transport de personnes",
          "Réseaux de chaleur / froid",
          "Electricité",
          "Electricité/Mix réseau électrique",
          "Transport de personnes/Ferroviaire",
          "Achats de biens",
          "Statistiques territoriales/Agriculture",
          "Electricité",
          "Combustibles/Organiques",
          "Achats de biens",
          "Statistiques territoriales/Agriculture",
          "Traitement des déchets/Déchets plastiques",
          "Achats de biens/Produits agro-alimentaires, plats préparés et boissons",
          "PRG",
          "Réseaux de chaleur / froid",
          "Achats de biens/Hydrogène",
          "Réseaux de chaleur / froid",
          "Achats de biens",
          "Transport de personnes/Maritime",
          "Transport de marchandises/Maritime",
          "Achats de biens/Métaux et produits métalliques",
          "Réseaux de chaleur / froid",
          "Process et émissions fugitives",
          "Achats de biens/Produits agro-alimentaires, plats préparés et boissons",
          "Achats de biens/Produits minéraux non métalliques",
          "Combustibles/Caractéristiques physiques",
          "UTCF/Forêts françaises",
          "Achats de biens/Véhicules automobiles et autres matériels de transport",
          "Transport de personnes/Transport guidé",
          "Achats de biens/Minerais, granulats",
          "Achats de biens/Hydrogène",
          "Achats de biens/Plastiques et produits chimiques",
          "Achats de biens/Mobilier",
          "Réseaux de chaleur / froid/Midi-Pyrénées",
          "Réseaux de chaleur / froid/Lorraine",
          "Achats de biens/Produits de l'agriculture et de la pêche",
          "Statistiques territoriales/Industrie",
          "Réseaux de chaleur / froid/Haute-Normandie",
          "Statistiques territoriales/Transport de marchandises",
          "Statistiques territoriales/Agriculture",
          "Combustibles/Fossiles",
          "Réseaux de chaleur / froid/Corse",
          "Statistiques territoriales/Coefficients climatiques",
          "Process et émissions fugitives/Agriculture",
          "Réseaux de chaleur / froid/Bretagne",
          "Achats de biens/Bois",
          "Process et émissions fugitives/Déchets",
          "Réseaux de chaleur / froid/Auvergne",
          "Réseaux de chaleur / froid/Aquitaine",
          "Achats de biens/Produits agro-alimentaires, plats préparés et boissons",
          "Achats de biens/Textile et habillement",
          "Achats de biens/Textile et habillement",
          "Traitement des déchets/Déchets plastiques",
          "UTCF/Forêts françaises",
          "",
          "Traitement des déchets/Déchets minéraux",
          "Statistiques territoriales",
          "Réseaux de chaleur / froid/Rhône-Alpes",
          "Statistiques territoriales",
          "Achats de biens",
          "Transport de marchandises",
          "Réseaux de chaleur / froid/Rhône-Alpes",
          "Achats de biens/Métaux et produits métalliques",
          "UTCF/Forêts françaises",
          "",
          "Electricité/Mix réseau électrique",
          "Achats de biens/Métaux et produits métalliques",
          "Transport de marchandises/Ferroviaire",
          "Réseaux de chaleur / froid/Rhône-Alpes",
          "UTCF/Forêts françaises",
          "Réseaux de chaleur / froid",
          "Réseaux de chaleur / froid/Île-de-France",
          "Achats de biens/Produits agro-alimentaires, plats préparés et boissons",
          "Transport de marchandises/Ferroviaire",
          "UTCF/Forêts françaises",
          "",
          "Statistiques territoriales/Résidentiel",
          "Réseaux de chaleur / froid/Île-de-France",
          "Achats de biens/Autres produits manufacturés",
          "Transport de marchandises/Maritime",
          "Transport de personnes/Ferroviaire",
          "UTCF/Forêts françaises",
          "",
          "Statistiques territoriales/Tertiaire",
          "Transport de personnes/Routier",
          "Achats de services",
          "UTCF/Forêts françaises",
          "",
          "Achats de biens/Métaux et produits métalliques",
          "Réseaux de chaleur / froid",
          "Transport de marchandises/Maritime",
          "Traitement des déchets/Déchets organiques",
          "Réseaux de chaleur / froid/Rhône-Alpes",
          "Achats de biens/Produits agro-alimentaires, plats préparés et boissons",
          "Transport de personnes/Aérien",
          "Electricité/Moyen de production",
          "Statistiques territoriales/Agriculture",
          "Achats de biens",
          "Statistiques territoriales/Résidentiel",
          "Réseaux de chaleur / froid/Rhône-Alpes",
          "Achats de biens/Produits minéraux non métalliques",
          "Réseaux de chaleur / froid/Rhône-Alpes",
          "Achats de biens/Produits agro-alimentaires, plats préparés et boissons",
          "Achats de biens/Produits minéraux non métalliques",
          "Transport de marchandises/Fluvial",
          "Achats de biens/Plastiques et produits chimiques",
          "Réseaux de chaleur / froid",
          "Réseaux de chaleur / froid/Île-de-France",
          "Achats de services",
          "Réseaux de chaleur / froid/Île-de-France",
          "Réseaux de chaleur / froid/Île-de-France",
          "UTCF/Forêts françaises",
          "Transport de personnes/Ferroviaire",
          "Réseaux de chaleur / froid/Rhône-Alpes",
          "Traitement des déchets/Déchets organiques",
          "Transport de personnes/Routier",
          "Combustibles/Fossiles",
          "UTCF/Forêts françaises",
          "",
          "Réseaux de chaleur / froid/Champagne-Ardenne",
          "Transport de personnes/Aérien",
          "",
          "Electricité/Moyen de production",
          "Transport de marchandises",
          "UTCF/Forêts françaises",
          "Achats de services/Restauration",
          "PRG/PRG à 100 ans du 5ème rapport du GIEC",
          "Process et émissions fugitives",
          "Achats de biens",
          "Transport de marchandises/Routier",
          "",
          "Réseaux de chaleur / froid",
          "Transport de marchandises/Maritime",
          "Achats de biens/Produits agro-alimentaires, plats préparés et boissons",
          "UTCF/Forêts françaises",
          "Achats de biens/Autres produits manufacturés",
          "Achats de biens/Produits agro-alimentaires, plats préparés et boissons",
          "UTCF/Forêts françaises",
          "UTCF/Forêts françaises",
          "Electricité/Mix réseau électrique",
          "Traitement des déchets/Déchets plastiques",
          "Traitement des déchets/Eaux usées",
          "Achats de biens/Eau,  traitement et distribution d'eau",
          "UTCF/Changement d'affectation des sols",
          "Réseaux de chaleur / froid/Bourgogne",
          "Réseaux de chaleur / froid/Basse-Normandie",
          "Réseaux de chaleur / froid/Alsace",
          "UTCF/Forêts françaises",
          "Achats de biens/Machines et équipements",
          "UTCF/Forêts françaises",
          "Achats de biens/Produits agro-alimentaires, plats préparés et boissons",
          "UTCF/Forêts françaises",
          "Transport de marchandises/Ferroviaire",
          "Statistiques territoriales/Agriculture",
          "Statistiques territoriales/Résidentiel",
          "Achats de biens/Machines et équipements",
          "Statistiques territoriales/Transport de marchandises",
          "Process et émissions fugitives/Process industriels",
          "Transport de personnes/Fluvial",
          "Réseaux de chaleur / froid/Franche-Comté",
          "",
          "Achats de services/Ratios monétaires",
          "Réseaux de chaleur / froid/Languedoc-Roussillon",
          "Réseaux de chaleur / froid/Île-de-France",
          "Réseaux de chaleur / froid/Île-de-France",
          "Réseaux de chaleur / froid/Île-de-France",
          "Achats de biens/Autres produits manufacturés",
          "Statistiques territoriales/Résidentiel",
          "Transport de marchandises/Aérien",
          "Réseaux de chaleur / froid",
          "Transport de marchandises/Aérien",
          "Réseaux de chaleur / froid/Limousin",
          "UTCF/Forêts françaises",
          "Transport de marchandises/Fluvial",
          "Process et émissions fugitives",
          "Transport de personnes",
          "UTCF/Forêts françaises",
          "Achats de biens/Bâtiments, ouvrages d'art et voirie",
          "Achats de biens",
          "UTCF/Forêts françaises",
          "Transport de marchandises/Routier",
          "Traitement des déchets/Déchets organiques",
          "Traitement des déchets/Déchets plastiques",
          "Achats de biens",
          "Réseaux de chaleur / froid",
          "Achats de biens",
          "UTCF/Forêts françaises",
          "UTCF/Forêts françaises",
          "Réseaux de chaleur / froid/Rhône-Alpes",
          "UTCF/Forêts françaises",
          "Transport de marchandises/Maritime",
          "Traitement des déchets/Ordures ménagères",
          "Achats de biens/Bâtiments, ouvrages d'art et voirie",
          "Achats de biens/Produits de l'agriculture et de la pêche",
          "Achats de services/Autres services",
          "Achats de biens",
          "Transport de personnes",
          "Statistiques territoriales",
          "Combustibles/Caractéristiques physiques",
          "Réseaux de chaleur / froid",
          "Statistiques territoriales",
          "Réseaux de chaleur / froid/Provence-Alpes-Côte d'Azur",
          "Réseaux de chaleur / froid/Picardie",
          "Réseaux de chaleur / froid",
          "Transport de personnes",
          "Réseaux de chaleur / froid",
          "Réseaux de chaleur / froid/Poitou-Charentes",
          "",
          "Combustibles/Organiques",
          "Transport de marchandises/Maritime",
          "Achats de biens/Produits agro-alimentaires, plats préparés et boissons",
          "Réseaux de chaleur / froid/Nord-Pas-de-Calais",
          "Achats de biens/Produits de l'agriculture et de la pêche",
          "Statistiques territoriales/Transport de personnes",
          "Combustibles",
          "PRG",
          "Achats de biens",
          "Transport de personnes/Routier",
          "Statistiques territoriales/Tertiaire",
          "Achats de biens",
          "Process et émissions fugitives/Réfrigération et climatisation",
          "Combustibles/Organiques",
          "Traitement des déchets/Déchets plastiques",
          "UTCF/Forêts françaises",
          "Achats de services",
          "Réseaux de chaleur / froid",
          "Transport de marchandises",
          "Statistiques territoriales",
          "Achats de biens/Papier, carton",
          "Réseaux de chaleur / froid/Pays de la Loire",
          "Transport de marchandises/Maritime",
          "Achats de biens/Textile et habillement",
          "Réseaux de chaleur / froid/Centre",
          "PRG/PRG à 100 ans du 5ème rapport du GIEC",
          "Achats de biens/Minerais, granulats",
          "PRG/PRG à 100 ans du 4ème rapport du GIEC",
          "Achats de biens/Produits agro-alimentaires, plats préparés et boissons",
          "Traitement des déchets/Déchets du bâtiment",
          "Process et émissions fugitives/Réfrigération et climatisation",
          "Achats de biens/Machines et équipements",
          "Réseaux de chaleur / froid",
          "",
          "Achats de biens/Machines et équipements",
          "Combustibles",
          "Réseaux de chaleur / froid",
          "Achats de biens/Produits minéraux non métalliques",
          "Transport de personnes/Routier",
          "",
          "Combustibles/Fossiles",
          "Traitement des déchets/Déchets plastiques",
          "PRG/PRG à 100 ans du 5ème rapport du GIEC",
          "Traitement des déchets/Déchets dangereux",
          "Combustibles",
          "Réseaux de chaleur / froid",
          "Achats de biens/Textile et habillement",
          "Achats de biens",
          "UTCF",
          "Statistiques territoriales",
          "Réseaux de chaleur / froid",
          "Process et émissions fugitives",
          "Traitement des déchets",
          "Traitement des déchets",
          "Traitement des déchets",
          "Réseaux de chaleur / froid",
          "Traitement des déchets",
          "Traitement des déchets",
          "Transport de marchandises",
          "Transport de personnes",
          "Transport de personnes",
          "UTCF",
          "Réseaux de chaleur / froid",
          "Réseaux de chaleur / froid",
          "Achats de biens",
          "Statistiques territoriales",
          "Achats de biens",
          "Traitement des déchets"
         ],
         "type": "icicle",
         "values": [
          18,
          109,
          24,
          11,
          9,
          32,
          639,
          459,
          18,
          103,
          51,
          27,
          119,
          12,
          138,
          5,
          259,
          1,
          25,
          34,
          16,
          78,
          9,
          10,
          2,
          29,
          7,
          40,
          12,
          49,
          8,
          19,
          6,
          2,
          20,
          62,
          103,
          32,
          33,
          356,
          88,
          24,
          138,
          121,
          153,
          1,
          15,
          7,
          20,
          3,
          2,
          31,
          24,
          548,
          18,
          30,
          5,
          8,
          666,
          8,
          499,
          37,
          166,
          126,
          118,
          24,
          2,
          8,
          1503,
          137,
          6,
          18,
          6,
          8,
          114,
          21,
          15,
          1,
          8,
          532,
          28,
          20,
          7,
          6,
          34,
          8,
          58,
          56,
          24,
          10,
          8,
          675,
          2,
          24,
          12,
          23,
          10,
          106,
          21,
          12,
          61,
          1869,
          83,
          12,
          7,
          13,
          71,
          12,
          6,
          16,
          18,
          3,
          36,
          20,
          15,
          8,
          2,
          7,
          18,
          9,
          718,
          8,
          126,
          20,
          98,
          1352,
          15,
          169,
          8,
          10,
          27,
          5,
          4,
          106,
          55,
          20,
          12,
          274,
          8,
          24,
          42,
          8,
          8,
          43,
          5,
          9,
          6,
          12,
          30,
          18,
          31,
          9,
          1,
          8,
          137,
          8,
          27,
          20,
          302,
          41,
          138,
          5,
          3,
          27,
          197,
          36,
          15,
          13,
          9,
          12,
          78,
          86,
          56,
          113,
          119,
          11,
          8,
          18,
          112,
          211,
          8,
          22,
          520,
          8,
          12,
          18,
          5,
          49,
          22,
          52,
          8,
          8,
          5,
          8,
          15,
          18,
          30,
          22,
          9,
          19,
          6,
          68,
          11,
          20,
          276,
          22,
          16,
          30,
          119,
          31,
          17,
          3475,
          147,
          6,
          361,
          29,
          81,
          68,
          308,
          57,
          12,
          34,
          110,
          459,
          70,
          42,
          10,
          8,
          9,
          31,
          175,
          391,
          12,
          25,
          108,
          42,
          22,
          4,
          2,
          1,
          16,
          24,
          42,
          250,
          17,
          162,
          228,
          60,
          22,
          18,
          144,
          402,
          113,
          5,
          26,
          9,
          984,
          15,
          36,
          3,
          12,
          15,
          1,
          2,
          9,
          8,
          59,
          33,
          35,
          9,
          46,
          54,
          3,
          185,
          27,
          24,
          54,
          88,
          6,
          24
         ]
        }
       ],
       "layout": {
        "legend": {
         "tracegroupgap": 0
        },
        "margin": {
         "t": 60
        },
        "template": {
         "data": {
          "bar": [
           {
            "error_x": {
             "color": "#2a3f5f"
            },
            "error_y": {
             "color": "#2a3f5f"
            },
            "marker": {
             "line": {
              "color": "#E5ECF6",
              "width": 0.5
             },
             "pattern": {
              "fillmode": "overlay",
              "size": 10,
              "solidity": 0.2
             }
            },
            "type": "bar"
           }
          ],
          "barpolar": [
           {
            "marker": {
             "line": {
              "color": "#E5ECF6",
              "width": 0.5
             },
             "pattern": {
              "fillmode": "overlay",
              "size": 10,
              "solidity": 0.2
             }
            },
            "type": "barpolar"
           }
          ],
          "carpet": [
           {
            "aaxis": {
             "endlinecolor": "#2a3f5f",
             "gridcolor": "white",
             "linecolor": "white",
             "minorgridcolor": "white",
             "startlinecolor": "#2a3f5f"
            },
            "baxis": {
             "endlinecolor": "#2a3f5f",
             "gridcolor": "white",
             "linecolor": "white",
             "minorgridcolor": "white",
             "startlinecolor": "#2a3f5f"
            },
            "type": "carpet"
           }
          ],
          "choropleth": [
           {
            "colorbar": {
             "outlinewidth": 0,
             "ticks": ""
            },
            "type": "choropleth"
           }
          ],
          "contour": [
           {
            "colorbar": {
             "outlinewidth": 0,
             "ticks": ""
            },
            "colorscale": [
             [
              0,
              "#0d0887"
             ],
             [
              0.1111111111111111,
              "#46039f"
             ],
             [
              0.2222222222222222,
              "#7201a8"
             ],
             [
              0.3333333333333333,
              "#9c179e"
             ],
             [
              0.4444444444444444,
              "#bd3786"
             ],
             [
              0.5555555555555556,
              "#d8576b"
             ],
             [
              0.6666666666666666,
              "#ed7953"
             ],
             [
              0.7777777777777778,
              "#fb9f3a"
             ],
             [
              0.8888888888888888,
              "#fdca26"
             ],
             [
              1,
              "#f0f921"
             ]
            ],
            "type": "contour"
           }
          ],
          "contourcarpet": [
           {
            "colorbar": {
             "outlinewidth": 0,
             "ticks": ""
            },
            "type": "contourcarpet"
           }
          ],
          "heatmap": [
           {
            "colorbar": {
             "outlinewidth": 0,
             "ticks": ""
            },
            "colorscale": [
             [
              0,
              "#0d0887"
             ],
             [
              0.1111111111111111,
              "#46039f"
             ],
             [
              0.2222222222222222,
              "#7201a8"
             ],
             [
              0.3333333333333333,
              "#9c179e"
             ],
             [
              0.4444444444444444,
              "#bd3786"
             ],
             [
              0.5555555555555556,
              "#d8576b"
             ],
             [
              0.6666666666666666,
              "#ed7953"
             ],
             [
              0.7777777777777778,
              "#fb9f3a"
             ],
             [
              0.8888888888888888,
              "#fdca26"
             ],
             [
              1,
              "#f0f921"
             ]
            ],
            "type": "heatmap"
           }
          ],
          "heatmapgl": [
           {
            "colorbar": {
             "outlinewidth": 0,
             "ticks": ""
            },
            "colorscale": [
             [
              0,
              "#0d0887"
             ],
             [
              0.1111111111111111,
              "#46039f"
             ],
             [
              0.2222222222222222,
              "#7201a8"
             ],
             [
              0.3333333333333333,
              "#9c179e"
             ],
             [
              0.4444444444444444,
              "#bd3786"
             ],
             [
              0.5555555555555556,
              "#d8576b"
             ],
             [
              0.6666666666666666,
              "#ed7953"
             ],
             [
              0.7777777777777778,
              "#fb9f3a"
             ],
             [
              0.8888888888888888,
              "#fdca26"
             ],
             [
              1,
              "#f0f921"
             ]
            ],
            "type": "heatmapgl"
           }
          ],
          "histogram": [
           {
            "marker": {
             "pattern": {
              "fillmode": "overlay",
              "size": 10,
              "solidity": 0.2
             }
            },
            "type": "histogram"
           }
          ],
          "histogram2d": [
           {
            "colorbar": {
             "outlinewidth": 0,
             "ticks": ""
            },
            "colorscale": [
             [
              0,
              "#0d0887"
             ],
             [
              0.1111111111111111,
              "#46039f"
             ],
             [
              0.2222222222222222,
              "#7201a8"
             ],
             [
              0.3333333333333333,
              "#9c179e"
             ],
             [
              0.4444444444444444,
              "#bd3786"
             ],
             [
              0.5555555555555556,
              "#d8576b"
             ],
             [
              0.6666666666666666,
              "#ed7953"
             ],
             [
              0.7777777777777778,
              "#fb9f3a"
             ],
             [
              0.8888888888888888,
              "#fdca26"
             ],
             [
              1,
              "#f0f921"
             ]
            ],
            "type": "histogram2d"
           }
          ],
          "histogram2dcontour": [
           {
            "colorbar": {
             "outlinewidth": 0,
             "ticks": ""
            },
            "colorscale": [
             [
              0,
              "#0d0887"
             ],
             [
              0.1111111111111111,
              "#46039f"
             ],
             [
              0.2222222222222222,
              "#7201a8"
             ],
             [
              0.3333333333333333,
              "#9c179e"
             ],
             [
              0.4444444444444444,
              "#bd3786"
             ],
             [
              0.5555555555555556,
              "#d8576b"
             ],
             [
              0.6666666666666666,
              "#ed7953"
             ],
             [
              0.7777777777777778,
              "#fb9f3a"
             ],
             [
              0.8888888888888888,
              "#fdca26"
             ],
             [
              1,
              "#f0f921"
             ]
            ],
            "type": "histogram2dcontour"
           }
          ],
          "mesh3d": [
           {
            "colorbar": {
             "outlinewidth": 0,
             "ticks": ""
            },
            "type": "mesh3d"
           }
          ],
          "parcoords": [
           {
            "line": {
             "colorbar": {
              "outlinewidth": 0,
              "ticks": ""
             }
            },
            "type": "parcoords"
           }
          ],
          "pie": [
           {
            "automargin": true,
            "type": "pie"
           }
          ],
          "scatter": [
           {
            "marker": {
             "colorbar": {
              "outlinewidth": 0,
              "ticks": ""
             }
            },
            "type": "scatter"
           }
          ],
          "scatter3d": [
           {
            "line": {
             "colorbar": {
              "outlinewidth": 0,
              "ticks": ""
             }
            },
            "marker": {
             "colorbar": {
              "outlinewidth": 0,
              "ticks": ""
             }
            },
            "type": "scatter3d"
           }
          ],
          "scattercarpet": [
           {
            "marker": {
             "colorbar": {
              "outlinewidth": 0,
              "ticks": ""
             }
            },
            "type": "scattercarpet"
           }
          ],
          "scattergeo": [
           {
            "marker": {
             "colorbar": {
              "outlinewidth": 0,
              "ticks": ""
             }
            },
            "type": "scattergeo"
           }
          ],
          "scattergl": [
           {
            "marker": {
             "colorbar": {
              "outlinewidth": 0,
              "ticks": ""
             }
            },
            "type": "scattergl"
           }
          ],
          "scattermapbox": [
           {
            "marker": {
             "colorbar": {
              "outlinewidth": 0,
              "ticks": ""
             }
            },
            "type": "scattermapbox"
           }
          ],
          "scatterpolar": [
           {
            "marker": {
             "colorbar": {
              "outlinewidth": 0,
              "ticks": ""
             }
            },
            "type": "scatterpolar"
           }
          ],
          "scatterpolargl": [
           {
            "marker": {
             "colorbar": {
              "outlinewidth": 0,
              "ticks": ""
             }
            },
            "type": "scatterpolargl"
           }
          ],
          "scatterternary": [
           {
            "marker": {
             "colorbar": {
              "outlinewidth": 0,
              "ticks": ""
             }
            },
            "type": "scatterternary"
           }
          ],
          "surface": [
           {
            "colorbar": {
             "outlinewidth": 0,
             "ticks": ""
            },
            "colorscale": [
             [
              0,
              "#0d0887"
             ],
             [
              0.1111111111111111,
              "#46039f"
             ],
             [
              0.2222222222222222,
              "#7201a8"
             ],
             [
              0.3333333333333333,
              "#9c179e"
             ],
             [
              0.4444444444444444,
              "#bd3786"
             ],
             [
              0.5555555555555556,
              "#d8576b"
             ],
             [
              0.6666666666666666,
              "#ed7953"
             ],
             [
              0.7777777777777778,
              "#fb9f3a"
             ],
             [
              0.8888888888888888,
              "#fdca26"
             ],
             [
              1,
              "#f0f921"
             ]
            ],
            "type": "surface"
           }
          ],
          "table": [
           {
            "cells": {
             "fill": {
              "color": "#EBF0F8"
             },
             "line": {
              "color": "white"
             }
            },
            "header": {
             "fill": {
              "color": "#C8D4E3"
             },
             "line": {
              "color": "white"
             }
            },
            "type": "table"
           }
          ]
         },
         "layout": {
          "annotationdefaults": {
           "arrowcolor": "#2a3f5f",
           "arrowhead": 0,
           "arrowwidth": 1
          },
          "autotypenumbers": "strict",
          "coloraxis": {
           "colorbar": {
            "outlinewidth": 0,
            "ticks": ""
           }
          },
          "colorscale": {
           "diverging": [
            [
             0,
             "#8e0152"
            ],
            [
             0.1,
             "#c51b7d"
            ],
            [
             0.2,
             "#de77ae"
            ],
            [
             0.3,
             "#f1b6da"
            ],
            [
             0.4,
             "#fde0ef"
            ],
            [
             0.5,
             "#f7f7f7"
            ],
            [
             0.6,
             "#e6f5d0"
            ],
            [
             0.7,
             "#b8e186"
            ],
            [
             0.8,
             "#7fbc41"
            ],
            [
             0.9,
             "#4d9221"
            ],
            [
             1,
             "#276419"
            ]
           ],
           "sequential": [
            [
             0,
             "#0d0887"
            ],
            [
             0.1111111111111111,
             "#46039f"
            ],
            [
             0.2222222222222222,
             "#7201a8"
            ],
            [
             0.3333333333333333,
             "#9c179e"
            ],
            [
             0.4444444444444444,
             "#bd3786"
            ],
            [
             0.5555555555555556,
             "#d8576b"
            ],
            [
             0.6666666666666666,
             "#ed7953"
            ],
            [
             0.7777777777777778,
             "#fb9f3a"
            ],
            [
             0.8888888888888888,
             "#fdca26"
            ],
            [
             1,
             "#f0f921"
            ]
           ],
           "sequentialminus": [
            [
             0,
             "#0d0887"
            ],
            [
             0.1111111111111111,
             "#46039f"
            ],
            [
             0.2222222222222222,
             "#7201a8"
            ],
            [
             0.3333333333333333,
             "#9c179e"
            ],
            [
             0.4444444444444444,
             "#bd3786"
            ],
            [
             0.5555555555555556,
             "#d8576b"
            ],
            [
             0.6666666666666666,
             "#ed7953"
            ],
            [
             0.7777777777777778,
             "#fb9f3a"
            ],
            [
             0.8888888888888888,
             "#fdca26"
            ],
            [
             1,
             "#f0f921"
            ]
           ]
          },
          "colorway": [
           "#636efa",
           "#EF553B",
           "#00cc96",
           "#ab63fa",
           "#FFA15A",
           "#19d3f3",
           "#FF6692",
           "#B6E880",
           "#FF97FF",
           "#FECB52"
          ],
          "font": {
           "color": "#2a3f5f"
          },
          "geo": {
           "bgcolor": "white",
           "lakecolor": "white",
           "landcolor": "#E5ECF6",
           "showlakes": true,
           "showland": true,
           "subunitcolor": "white"
          },
          "hoverlabel": {
           "align": "left"
          },
          "hovermode": "closest",
          "mapbox": {
           "style": "light"
          },
          "paper_bgcolor": "white",
          "plot_bgcolor": "#E5ECF6",
          "polar": {
           "angularaxis": {
            "gridcolor": "white",
            "linecolor": "white",
            "ticks": ""
           },
           "bgcolor": "#E5ECF6",
           "radialaxis": {
            "gridcolor": "white",
            "linecolor": "white",
            "ticks": ""
           }
          },
          "scene": {
           "xaxis": {
            "backgroundcolor": "#E5ECF6",
            "gridcolor": "white",
            "gridwidth": 2,
            "linecolor": "white",
            "showbackground": true,
            "ticks": "",
            "zerolinecolor": "white"
           },
           "yaxis": {
            "backgroundcolor": "#E5ECF6",
            "gridcolor": "white",
            "gridwidth": 2,
            "linecolor": "white",
            "showbackground": true,
            "ticks": "",
            "zerolinecolor": "white"
           },
           "zaxis": {
            "backgroundcolor": "#E5ECF6",
            "gridcolor": "white",
            "gridwidth": 2,
            "linecolor": "white",
            "showbackground": true,
            "ticks": "",
            "zerolinecolor": "white"
           }
          },
          "shapedefaults": {
           "line": {
            "color": "#2a3f5f"
           }
          },
          "ternary": {
           "aaxis": {
            "gridcolor": "white",
            "linecolor": "white",
            "ticks": ""
           },
           "baxis": {
            "gridcolor": "white",
            "linecolor": "white",
            "ticks": ""
           },
           "bgcolor": "#E5ECF6",
           "caxis": {
            "gridcolor": "white",
            "linecolor": "white",
            "ticks": ""
           }
          },
          "title": {
           "x": 0.05
          },
          "xaxis": {
           "automargin": true,
           "gridcolor": "white",
           "linecolor": "white",
           "ticks": "",
           "title": {
            "standoff": 15
           },
           "zerolinecolor": "white",
           "zerolinewidth": 2
          },
          "yaxis": {
           "automargin": true,
           "gridcolor": "white",
           "linecolor": "white",
           "ticks": "",
           "title": {
            "standoff": 15
           },
           "zerolinecolor": "white",
           "zerolinewidth": 2
          }
         }
        }
       }
      },
      "text/html": [
       "<div>                            <div id=\"220a98d8-33c3-4137-b9a0-3ac13f602680\" class=\"plotly-graph-div\" style=\"height:525px; width:100%;\"></div>            <script type=\"text/javascript\">                require([\"plotly\"], function(Plotly) {                    window.PLOTLYENV=window.PLOTLYENV || {};                                    if (document.getElementById(\"220a98d8-33c3-4137-b9a0-3ac13f602680\")) {                    Plotly.newPlot(                        \"220a98d8-33c3-4137-b9a0-3ac13f602680\",                        [{\"branchvalues\":\"total\",\"customdata\":[[\"Traitement des d\\u00e9chets\"],[\"Achats de biens\"],[\"Transport de marchandises\"],[\"R\\u00e9seaux de chaleur / froid\"],[\"Transport de personnes\"],[\"R\\u00e9seaux de chaleur / froid\"],[\"Electricit\\u00e9\"],[\"Electricit\\u00e9\"],[\"Transport de personnes\"],[\"Achats de biens\"],[\"Statistiques territoriales\"],[\"Electricit\\u00e9\"],[\"Combustibles\"],[\"Achats de biens\"],[\"Statistiques territoriales\"],[\"Traitement des d\\u00e9chets\"],[\"Achats de biens\"],[\"PRG\"],[\"R\\u00e9seaux de chaleur / froid\"],[\"Achats de biens\"],[\"R\\u00e9seaux de chaleur / froid\"],[\"Achats de biens\"],[\"Transport de personnes\"],[\"Transport de marchandises\"],[\"Achats de biens\"],[\"R\\u00e9seaux de chaleur / froid\"],[\"Process et \\u00e9missions fugitives\"],[\"Achats de biens\"],[\"Achats de biens\"],[\"Combustibles\"],[\"UTCF\"],[\"Achats de biens\"],[\"Transport de personnes\"],[\"Achats de biens\"],[\"Achats de biens\"],[\"Achats de biens\"],[\"Achats de biens\"],[\"R\\u00e9seaux de chaleur / froid\"],[\"R\\u00e9seaux de chaleur / froid\"],[\"Achats de biens\"],[\"Statistiques territoriales\"],[\"R\\u00e9seaux de chaleur / froid\"],[\"Statistiques territoriales\"],[\"Statistiques territoriales\"],[\"Combustibles\"],[\"R\\u00e9seaux de chaleur / froid\"],[\"Statistiques territoriales\"],[\"Process et \\u00e9missions fugitives\"],[\"R\\u00e9seaux de chaleur / froid\"],[\"Achats de biens\"],[\"Process et \\u00e9missions fugitives\"],[\"R\\u00e9seaux de chaleur / froid\"],[\"R\\u00e9seaux de chaleur / froid\"],[\"Achats de biens\"],[\"Achats de biens\"],[\"Achats de biens\"],[\"Traitement des d\\u00e9chets\"],[\"UTCF\"],[\"Electricit\\u00e9\"],[\"Traitement des d\\u00e9chets\"],[\"Statistiques territoriales\"],[\"R\\u00e9seaux de chaleur / froid\"],[\"Statistiques territoriales\"],[\"Achats de biens\"],[\"Transport de marchandises\"],[\"R\\u00e9seaux de chaleur / froid\"],[\"Achats de biens\"],[\"UTCF\"],[\"Statistiques territoriales\"],[\"Electricit\\u00e9\"],[\"Achats de biens\"],[\"Transport de marchandises\"],[\"R\\u00e9seaux de chaleur / froid\"],[\"UTCF\"],[\"R\\u00e9seaux de chaleur / froid\"],[\"R\\u00e9seaux de chaleur / froid\"],[\"Achats de biens\"],[\"Transport de marchandises\"],[\"UTCF\"],[\"Transport de marchandises\"],[\"Statistiques territoriales\"],[\"R\\u00e9seaux de chaleur / froid\"],[\"Achats de biens\"],[\"Transport de marchandises\"],[\"Transport de personnes\"],[\"UTCF\"],[\"PRG\"],[\"Statistiques territoriales\"],[\"Transport de personnes\"],[\"Achats de services\"],[\"UTCF\"],[\"R\\u00e9seaux de chaleur / froid\"],[\"Achats de biens\"],[\"R\\u00e9seaux de chaleur / froid\"],[\"Transport de marchandises\"],[\"Traitement des d\\u00e9chets\"],[\"R\\u00e9seaux de chaleur / froid\"],[\"Achats de biens\"],[\"Transport de personnes\"],[\"Electricit\\u00e9\"],[\"Statistiques territoriales\"],[\"Achats de biens\"],[\"Statistiques territoriales\"],[\"R\\u00e9seaux de chaleur / froid\"],[\"Achats de biens\"],[\"R\\u00e9seaux de chaleur / froid\"],[\"Achats de biens\"],[\"Achats de biens\"],[\"Transport de marchandises\"],[\"Achats de biens\"],[\"R\\u00e9seaux de chaleur / froid\"],[\"R\\u00e9seaux de chaleur / froid\"],[\"Achats de services\"],[\"R\\u00e9seaux de chaleur / froid\"],[\"R\\u00e9seaux de chaleur / froid\"],[\"UTCF\"],[\"Transport de personnes\"],[\"R\\u00e9seaux de chaleur / froid\"],[\"Traitement des d\\u00e9chets\"],[\"Transport de personnes\"],[\"Combustibles\"],[\"UTCF\"],[\"Process et \\u00e9missions fugitives\"],[\"R\\u00e9seaux de chaleur / froid\"],[\"Transport de personnes\"],[\"Combustibles\"],[\"Electricit\\u00e9\"],[\"Transport de marchandises\"],[\"UTCF\"],[\"Achats de services\"],[\"PRG\"],[\"Process et \\u00e9missions fugitives\"],[\"Achats de biens\"],[\"Transport de marchandises\"],[\"Achats de services\"],[\"R\\u00e9seaux de chaleur / froid\"],[\"Transport de marchandises\"],[\"Achats de biens\"],[\"UTCF\"],[\"Achats de biens\"],[\"Achats de biens\"],[\"UTCF\"],[\"UTCF\"],[\"Electricit\\u00e9\"],[\"Traitement des d\\u00e9chets\"],[\"Traitement des d\\u00e9chets\"],[\"Achats de biens\"],[\"UTCF\"],[\"R\\u00e9seaux de chaleur / froid\"],[\"R\\u00e9seaux de chaleur / froid\"],[\"R\\u00e9seaux de chaleur / froid\"],[\"UTCF\"],[\"Achats de biens\"],[\"UTCF\"],[\"Achats de biens\"],[\"UTCF\"],[\"Transport de marchandises\"],[\"Statistiques territoriales\"],[\"Statistiques territoriales\"],[\"Achats de biens\"],[\"Statistiques territoriales\"],[\"Process et \\u00e9missions fugitives\"],[\"Transport de personnes\"],[\"R\\u00e9seaux de chaleur / froid\"],[\"UTCF\"],[\"Achats de services\"],[\"R\\u00e9seaux de chaleur / froid\"],[\"R\\u00e9seaux de chaleur / froid\"],[\"R\\u00e9seaux de chaleur / froid\"],[\"R\\u00e9seaux de chaleur / froid\"],[\"Achats de biens\"],[\"Statistiques territoriales\"],[\"Transport de marchandises\"],[\"R\\u00e9seaux de chaleur / froid\"],[\"Transport de marchandises\"],[\"R\\u00e9seaux de chaleur / froid\"],[\"UTCF\"],[\"Transport de marchandises\"],[\"Process et \\u00e9missions fugitives\"],[\"Transport de personnes\"],[\"UTCF\"],[\"Achats de biens\"],[\"Achats de biens\"],[\"UTCF\"],[\"Transport de marchandises\"],[\"Traitement des d\\u00e9chets\"],[\"Traitement des d\\u00e9chets\"],[\"Achats de biens\"],[\"R\\u00e9seaux de chaleur / froid\"],[\"Achats de biens\"],[\"UTCF\"],[\"UTCF\"],[\"R\\u00e9seaux de chaleur / froid\"],[\"UTCF\"],[\"Transport de marchandises\"],[\"Traitement des d\\u00e9chets\"],[\"Achats de biens\"],[\"Achats de biens\"],[\"Achats de services\"],[\"Achats de biens\"],[\"Transport de personnes\"],[\"Statistiques territoriales\"],[\"Combustibles\"],[\"R\\u00e9seaux de chaleur / froid\"],[\"Statistiques territoriales\"],[\"R\\u00e9seaux de chaleur / froid\"],[\"R\\u00e9seaux de chaleur / froid\"],[\"R\\u00e9seaux de chaleur / froid\"],[\"Transport de personnes\"],[\"R\\u00e9seaux de chaleur / froid\"],[\"R\\u00e9seaux de chaleur / froid\"],[\"Achats de biens\"],[\"Combustibles\"],[\"Transport de marchandises\"],[\"Achats de biens\"],[\"R\\u00e9seaux de chaleur / froid\"],[\"Achats de biens\"],[\"Statistiques territoriales\"],[\"Combustibles\"],[\"PRG\"],[\"Achats de biens\"],[\"Transport de personnes\"],[\"Statistiques territoriales\"],[\"Achats de biens\"],[\"Process et \\u00e9missions fugitives\"],[\"Combustibles\"],[\"Traitement des d\\u00e9chets\"],[\"UTCF\"],[\"Achats de services\"],[\"R\\u00e9seaux de chaleur / froid\"],[\"Transport de marchandises\"],[\"Statistiques territoriales\"],[\"Achats de biens\"],[\"R\\u00e9seaux de chaleur / froid\"],[\"Transport de marchandises\"],[\"Achats de biens\"],[\"R\\u00e9seaux de chaleur / froid\"],[\"PRG\"],[\"Achats de biens\"],[\"PRG\"],[\"Achats de biens\"],[\"Traitement des d\\u00e9chets\"],[\"Process et \\u00e9missions fugitives\"],[\"Achats de biens\"],[\"R\\u00e9seaux de chaleur / froid\"],[\"Traitement des d\\u00e9chets\"],[\"Achats de biens\"],[\"Combustibles\"],[\"R\\u00e9seaux de chaleur / froid\"],[\"Achats de biens\"],[\"Transport de personnes\"],[\"Transport de personnes\"],[\"Combustibles\"],[\"Traitement des d\\u00e9chets\"],[\"PRG\"],[\"Traitement des d\\u00e9chets\"],[\"Combustibles\"],[\"R\\u00e9seaux de chaleur / froid\"],[\"Achats de biens\"],[\"Achats de biens\"],[\"UTCF\"],[\"Statistiques territoriales\"],[\"R\\u00e9seaux de chaleur / froid\"],[\"Process et \\u00e9missions fugitives\"],[\"Traitement des d\\u00e9chets\"],[\"Traitement des d\\u00e9chets\"],[\"Traitement des d\\u00e9chets\"],[\"R\\u00e9seaux de chaleur / froid\"],[\"Traitement des d\\u00e9chets\"],[\"Traitement des d\\u00e9chets\"],[\"Transport de marchandises\"],[\"Transport de personnes\"],[\"Transport de personnes\"],[\"UTCF\"],[\"R\\u00e9seaux de chaleur / froid\"],[\"R\\u00e9seaux de chaleur / froid\"],[\"Achats de biens\"],[\"Statistiques territoriales\"],[\"Achats de biens\"],[\"Traitement des d\\u00e9chets\"]],\"domain\":{\"x\":[0.0,1.0],\"y\":[0.0,1.0]},\"hovertemplate\":\"labels=%{label}<br>count=%{value}<br>parent=%{parent}<br>id=%{id}<br>category1=%{customdata[0]}<extra></extra>\",\"ids\":[\"Traitement des d\\u00e9chets/Ordures m\\u00e9nag\\u00e8res\",\"Achats de biens/Autres produits manufactur\\u00e9s\",\"Transport de marchandises/Fluvial\",\"R\\u00e9seaux de chaleur / froid/Limousin\",\"Transport de personnes/Maritime\",\"R\\u00e9seaux de chaleur / froid/Midi-Pyr\\u00e9n\\u00e9es\",\"Electricit\\u00e9/Mix r\\u00e9seau \\u00e9lectrique\",\"Electricit\\u00e9/Mix r\\u00e9seau \\u00e9lectrique/France continentale\",\"Transport de personnes/Ferroviaire/France continentale\",\"Achats de biens/Mobilier\",\"Statistiques territoriales/Agriculture/Fraises\",\"Electricit\\u00e9/Moyen de production\",\"Combustibles/Organiques/Liquides\",\"Achats de biens/M\\u00e9taux et produits m\\u00e9talliques\",\"Statistiques territoriales/Agriculture/Epandage d'engrais azot\\u00e9\",\"Traitement des d\\u00e9chets/D\\u00e9chets plastiques/PS\",\"Achats de biens/Produits agro-alimentaires, plats pr\\u00e9par\\u00e9s et boissons/Entr\\u00e9es et plats compos\\u00e9s\",\"PRG/PRG \\u00e0 100 ans du 4\\u00e8me rapport du GIEC\",\"R\\u00e9seaux de chaleur / froid/Pays de la Loire\",\"Achats de biens/Hydrog\\u00e8ne/Distribution en station\",\"R\\u00e9seaux de chaleur / froid/Picardie\",\"Achats de biens/Plastiques et produits chimiques\",\"Transport de personnes/Maritime/DOM COM\",\"Transport de marchandises/Maritime/DOM COM\",\"Achats de biens/M\\u00e9taux et produits m\\u00e9talliques/Cuivre\",\"R\\u00e9seaux de chaleur / froid/Nord-Pas-de-Calais\",\"Process et \\u00e9missions fugitives/Agriculture\",\"Achats de biens/Produits agro-alimentaires, plats pr\\u00e9par\\u00e9s et boissons/Mati\\u00e8res grasses\",\"Achats de biens/Produits min\\u00e9raux non m\\u00e9talliques/Mat\\u00e9riaux de construction\",\"Combustibles/Caract\\u00e9ristiques physiques/PCI - Pouvoir Calorifique Inf\\u00e9rieur\",\"UTCF/For\\u00eats fran\\u00e7aises/Nord-Pas-de-Calais\",\"Achats de biens/V\\u00e9hicules automobiles et autres mat\\u00e9riels de transport/No category\",\"Transport de personnes/Transport guid\\u00e9/No category\",\"Achats de biens/Minerais, granulats/Pierres de carri\\u00e8re\",\"Achats de biens/Hydrog\\u00e8ne/Production d'hydrog\\u00e8ne\",\"Achats de biens/Plastiques et produits chimiques/Produits chimiques\",\"Achats de biens/Mobilier/No category\",\"R\\u00e9seaux de chaleur / froid/Midi-Pyr\\u00e9n\\u00e9es/No category\",\"R\\u00e9seaux de chaleur / froid/Lorraine/No category\",\"Achats de biens/Produits de l'agriculture et de la p\\u00eache/Produits v\\u00e9g\\u00e9taux\",\"Statistiques territoriales/Industrie/No category\",\"R\\u00e9seaux de chaleur / froid/Haute-Normandie/No category\",\"Statistiques territoriales/Transport de marchandises/Re\\u00e7us\",\"Statistiques territoriales/Agriculture/Serres\",\"Combustibles/Fossiles/Solides\",\"R\\u00e9seaux de chaleur / froid/Corse/No category\",\"Statistiques territoriales/Coefficients climatiques/No category\",\"Process et \\u00e9missions fugitives/Agriculture/Sols agricoles\",\"R\\u00e9seaux de chaleur / froid/Bretagne/No category\",\"Achats de biens/Bois/No category\",\"Process et \\u00e9missions fugitives/D\\u00e9chets/Traitement des eaux us\\u00e9es\",\"R\\u00e9seaux de chaleur / froid/Auvergne/No category\",\"R\\u00e9seaux de chaleur / froid/Aquitaine/No category\",\"Achats de biens/Produits agro-alimentaires, plats pr\\u00e9par\\u00e9s et boissons/Viandes, ?ufs, poissons\",\"Achats de biens/Textile et habillement/Cuir\",\"Achats de biens/Textile et habillement/Coton\",\"Traitement des d\\u00e9chets/D\\u00e9chets plastiques/PET\",\"UTCF/For\\u00eats fran\\u00e7aises/Auvergne\",\"Electricit\\u00e9\",\"Traitement des d\\u00e9chets/D\\u00e9chets min\\u00e9raux/Autres d\\u00e9chets min\\u00e9raux\",\"Statistiques territoriales/R\\u00e9sidentiel\",\"R\\u00e9seaux de chaleur / froid/Rh\\u00f4ne-Alpes/42. Loire\",\"Statistiques territoriales/Tertiaire\",\"Achats de biens/Textile et habillement\",\"Transport de marchandises/Routier\",\"R\\u00e9seaux de chaleur / froid/Rh\\u00f4ne-Alpes/69. Rh\\u00f4ne\",\"Achats de biens/M\\u00e9taux et produits m\\u00e9talliques/Acier\",\"UTCF/For\\u00eats fran\\u00e7aises/Corse\",\"Statistiques territoriales\",\"Electricit\\u00e9/Mix r\\u00e9seau \\u00e9lectrique/Autres pays du monde\",\"Achats de biens/M\\u00e9taux et produits m\\u00e9talliques/Autres m\\u00e9taux\",\"Transport de marchandises/Ferroviaire/Autres pays du monde\",\"R\\u00e9seaux de chaleur / froid/Rh\\u00f4ne-Alpes/7. Ard\\u00e8che\",\"UTCF/For\\u00eats fran\\u00e7aises/Bretagne\",\"R\\u00e9seaux de chaleur / froid/Rh\\u00f4ne-Alpes\",\"R\\u00e9seaux de chaleur / froid/\\u00cele-de-France/92. Hauts-de-Seine\",\"Achats de biens/Produits agro-alimentaires, plats pr\\u00e9par\\u00e9s et boissons/Aliments infantiles\",\"Transport de marchandises/Ferroviaire/Corse\",\"UTCF/For\\u00eats fran\\u00e7aises/Alsace\",\"Transport de marchandises\",\"Statistiques territoriales/R\\u00e9sidentiel/Consommation totale\",\"R\\u00e9seaux de chaleur / froid/\\u00cele-de-France/93. Seine-Saint-Denis\",\"Achats de biens/Autres produits manufactur\\u00e9s/Consommables de bureau\",\"Transport de marchandises/Maritime/Cargo\",\"Transport de personnes/Ferroviaire/Autres pays du monde\",\"UTCF/For\\u00eats fran\\u00e7aises/Aquitaine\",\"PRG\",\"Statistiques territoriales/Tertiaire/Chauffage / Eau chaude sanitaire\",\"Transport de personnes/Routier/Autobus - Autocar\",\"Achats de services/Restauration\",\"UTCF/For\\u00eats fran\\u00e7aises/Centre-Val de Loire\",\"R\\u00e9seaux de chaleur / froid\",\"Achats de biens/M\\u00e9taux et produits m\\u00e9talliques/Aluminium\",\"R\\u00e9seaux de chaleur / froid/Aquitaine\",\"Transport de marchandises/Maritime/Vraquiers\",\"Traitement des d\\u00e9chets/D\\u00e9chets organiques/D\\u00e9chets alimentaires et d\\u00e9chets verts\",\"R\\u00e9seaux de chaleur / froid/Rh\\u00f4ne-Alpes/73. Savoie\",\"Achats de biens/Produits agro-alimentaires, plats pr\\u00e9par\\u00e9s et boissons/Aides culinaires et ingr\\u00e9dients divers\",\"Transport de personnes/A\\u00e9rien/Court, Moyen, Long courrier (Valeurs moyennes)\",\"Electricit\\u00e9/Moyen de production/Conventionnels\",\"Statistiques territoriales/Agriculture/Consommation de carburant\",\"Achats de biens/Produits agro-alimentaires, plats pr\\u00e9par\\u00e9s et boissons\",\"Statistiques territoriales/R\\u00e9sidentiel/Eau chaude sanitaire\",\"R\\u00e9seaux de chaleur / froid/Rh\\u00f4ne-Alpes/74. Haute-Savoie\",\"Achats de biens/Produits min\\u00e9raux non m\\u00e9talliques/Ciment, chaux, pl\\u00e2tre, b\\u00e9ton\",\"R\\u00e9seaux de chaleur / froid/Rh\\u00f4ne-Alpes/38. Is\\u00e8re\",\"Achats de biens/Produits agro-alimentaires, plats pr\\u00e9par\\u00e9s et boissons/Boissons\",\"Achats de biens/Produits min\\u00e9raux non m\\u00e9talliques/Verres et articles en verre\",\"Transport de marchandises/Fluvial/Bateau pousseur\",\"Achats de biens/Plastiques et produits chimiques/Plastiques et caoutchouc\",\"R\\u00e9seaux de chaleur / froid/Basse-Normandie\",\"R\\u00e9seaux de chaleur / froid/\\u00cele-de-France/75. Paris\",\"Achats de services/Ratios mon\\u00e9taires\",\"R\\u00e9seaux de chaleur / froid/\\u00cele-de-France/94. Val de Marne\",\"R\\u00e9seaux de chaleur / froid/\\u00cele-de-France/91. Essonne\",\"UTCF/For\\u00eats fran\\u00e7aises/Poitou-Charentes\",\"Transport de personnes/Ferroviaire/Corse\",\"R\\u00e9seaux de chaleur / froid/Rh\\u00f4ne-Alpes/1. Ain\",\"Traitement des d\\u00e9chets/D\\u00e9chets organiques/Cartons\",\"Transport de personnes/Routier/Taxi ? VTC\",\"Combustibles/Fossiles/Liquides\",\"UTCF/For\\u00eats fran\\u00e7aises/Limousin\",\"Process et \\u00e9missions fugitives\",\"R\\u00e9seaux de chaleur / froid/Champagne-Ardenne/No category\",\"Transport de personnes/A\\u00e9rien/Par capacit\\u00e9 d'avion\",\"Combustibles\",\"Electricit\\u00e9/Moyen de production/Renouvelables\",\"Transport de marchandises/Maritime\",\"UTCF/For\\u00eats fran\\u00e7aises/Languedoc-Roussillon\",\"Achats de services/Restauration/No category\",\"PRG/PRG \\u00e0 100 ans du 5\\u00e8me rapport du GIEC/Substances controll\\u00e9es par le protocole de Montr\\u00e9al\",\"Process et \\u00e9missions fugitives/Process industriels\",\"Achats de biens/Minerais, granulats\",\"Transport de marchandises/Routier/Par cat\\u00e9gorie\",\"Achats de services\",\"R\\u00e9seaux de chaleur / froid/Bretagne\",\"Transport de marchandises/Maritime/Rouliers\",\"Achats de biens/Produits agro-alimentaires, plats pr\\u00e9par\\u00e9s et boissons/Produits c\\u00e9r\\u00e9aliers\",\"UTCF/For\\u00eats fran\\u00e7aises/\\u00cele-de-France\",\"Achats de biens/Autres produits manufactur\\u00e9s/Usage viticulture\",\"Achats de biens/Produits agro-alimentaires, plats pr\\u00e9par\\u00e9s et boissons/Produits sucr\\u00e9s\",\"UTCF/For\\u00eats fran\\u00e7aises/Picardie\",\"UTCF/For\\u00eats fran\\u00e7aises/Rh\\u00f4ne-Alpes\",\"Electricit\\u00e9/Mix r\\u00e9seau \\u00e9lectrique/Outre mer\",\"Traitement des d\\u00e9chets/D\\u00e9chets plastiques/PE\",\"Traitement des d\\u00e9chets/Eaux us\\u00e9es/No category\",\"Achats de biens/Eau,  traitement et distribution d'eau/No category\",\"UTCF/Changement d'affectation des sols/No category\",\"R\\u00e9seaux de chaleur / froid/Bourgogne/No category\",\"R\\u00e9seaux de chaleur / froid/Basse-Normandie/No category\",\"R\\u00e9seaux de chaleur / froid/Alsace/No category\",\"UTCF/For\\u00eats fran\\u00e7aises/Moyenne nationale\",\"Achats de biens/Machines et \\u00e9quipements/Machines industrielles\",\"UTCF/For\\u00eats fran\\u00e7aises/Lorraine\",\"Achats de biens/Produits agro-alimentaires, plats pr\\u00e9par\\u00e9s et boissons/Lait et produits laitiers\",\"UTCF/For\\u00eats fran\\u00e7aises/Franche-Comt\\u00e9\",\"Transport de marchandises/Ferroviaire/France continentale\",\"Statistiques territoriales/Agriculture/Fabrication d'engin / ha\",\"Statistiques territoriales/R\\u00e9sidentiel/Equipements \\u00e9lectriques\",\"Achats de biens/Machines et \\u00e9quipements/Equipements \\u00e9lectriques\",\"Statistiques territoriales/Transport de marchandises/Envoy\\u00e9es\",\"Process et \\u00e9missions fugitives/Process industriels/Decarbonation\",\"Transport de personnes/Fluvial/No category\",\"R\\u00e9seaux de chaleur / froid/Franche-Comt\\u00e9/No category\",\"UTCF\",\"Achats de services/Ratios mon\\u00e9taires/No category\",\"R\\u00e9seaux de chaleur / froid/Languedoc-Roussillon/No category\",\"R\\u00e9seaux de chaleur / froid/\\u00cele-de-France/77. Seine-et-Marne\",\"R\\u00e9seaux de chaleur / froid/\\u00cele-de-France/78. Yvelines\",\"R\\u00e9seaux de chaleur / froid/\\u00cele-de-France/95. Val-d'Oise\",\"Achats de biens/Autres produits manufactur\\u00e9s/Articles de sport\",\"Statistiques territoriales/R\\u00e9sidentiel/Chauffage\",\"Transport de marchandises/A\\u00e9rien/Avion Cargo\",\"R\\u00e9seaux de chaleur / froid/\\u00cele-de-France\",\"Transport de marchandises/A\\u00e9rien/Avion passager\",\"R\\u00e9seaux de chaleur / froid/Limousin/No category\",\"UTCF/For\\u00eats fran\\u00e7aises/Basse-Normandie\",\"Transport de marchandises/Fluvial/Bateau automoteur\",\"Process et \\u00e9missions fugitives/R\\u00e9frig\\u00e9ration et climatisation\",\"Transport de personnes/Routier\",\"UTCF/For\\u00eats fran\\u00e7aises/Bourgogne\",\"Achats de biens/B\\u00e2timents, ouvrages d'art et voirie/B\\u00e2timents\",\"Achats de biens/Machines et \\u00e9quipements\",\"UTCF/For\\u00eats fran\\u00e7aises/Pays de la Loire\",\"Transport de marchandises/Routier/Par usage\",\"Traitement des d\\u00e9chets/D\\u00e9chets organiques/Papiers\",\"Traitement des d\\u00e9chets/D\\u00e9chets plastiques/PVC\",\"Achats de biens/Produits min\\u00e9raux non m\\u00e9talliques\",\"R\\u00e9seaux de chaleur / froid/Provence-Alpes-C\\u00f4te d'Azur\",\"Achats de biens/B\\u00e2timents, ouvrages d'art et voirie\",\"UTCF/For\\u00eats fran\\u00e7aises/Haute-Normandie\",\"UTCF/For\\u00eats fran\\u00e7aises/Champagne-Ardenne\",\"R\\u00e9seaux de chaleur / froid/Rh\\u00f4ne-Alpes/26. Dr\\u00f4me\",\"UTCF/For\\u00eats fran\\u00e7aises/Provence-Alpes-C\\u00f4te d'Azur\",\"Transport de marchandises/Maritime/P\\u00e9troliers\",\"Traitement des d\\u00e9chets/Ordures m\\u00e9nag\\u00e8res/No category\",\"Achats de biens/B\\u00e2timents, ouvrages d'art et voirie/Voirie\",\"Achats de biens/Produits de l'agriculture et de la p\\u00eache/Produits de la mer\",\"Achats de services/Autres services/No category\",\"Achats de biens/V\\u00e9hicules automobiles et autres mat\\u00e9riels de transport\",\"Transport de personnes/Transport guid\\u00e9\",\"Statistiques territoriales/Transport de personnes\",\"Combustibles/Caract\\u00e9ristiques physiques/Masses volumiques\",\"R\\u00e9seaux de chaleur / froid/Champagne-Ardenne\",\"Statistiques territoriales/Transport de marchandises\",\"R\\u00e9seaux de chaleur / froid/Provence-Alpes-C\\u00f4te d'Azur/No category\",\"R\\u00e9seaux de chaleur / froid/Picardie/No category\",\"R\\u00e9seaux de chaleur / froid/Bourgogne\",\"Transport de personnes/A\\u00e9rien\",\"R\\u00e9seaux de chaleur / froid/Alsace\",\"R\\u00e9seaux de chaleur / froid/Poitou-Charentes/No category\",\"Achats de biens\",\"Combustibles/Organiques/Gazeux\",\"Transport de marchandises/Maritime/Gaziers\",\"Achats de biens/Produits agro-alimentaires, plats pr\\u00e9par\\u00e9s et boissons/Fruits, l\\u00e9gumes, l\\u00e9gumineuses et ol\\u00e9agineux\",\"R\\u00e9seaux de chaleur / froid/Nord-Pas-de-Calais/No category\",\"Achats de biens/Produits de l'agriculture et de la p\\u00eache/Produits animaux\",\"Statistiques territoriales/Transport de personnes/R\\u00e9partition par mode de transports\",\"Combustibles/Organiques\",\"PRG/PRG \\u00e0 100 ans du 5\\u00e8me rapport du GIEC\",\"Achats de biens/Papier, carton\",\"Transport de personnes/Routier/Deux roues\",\"Statistiques territoriales/Tertiaire/Consommation totale\",\"Achats de biens/Produits de l'agriculture et de la p\\u00eache\",\"Process et \\u00e9missions fugitives/R\\u00e9frig\\u00e9ration et climatisation/R\\u00e9frig\\u00e9ration\",\"Combustibles/Organiques/Solides\",\"Traitement des d\\u00e9chets/D\\u00e9chets plastiques/Plastique \\\"moyen\\\"\",\"UTCF/For\\u00eats fran\\u00e7aises/Midi-Pyren\\u00e9es\",\"Achats de services/Autres services\",\"R\\u00e9seaux de chaleur / froid/Auvergne\",\"Transport de marchandises/A\\u00e9rien\",\"Statistiques territoriales/Agriculture\",\"Achats de biens/Papier, carton/No category\",\"R\\u00e9seaux de chaleur / froid/Pays de la Loire/No category\",\"Transport de marchandises/Maritime/Porte-conteneur\",\"Achats de biens/Textile et habillement/Autres\",\"R\\u00e9seaux de chaleur / froid/Centre/No category\",\"PRG/PRG \\u00e0 100 ans du 5\\u00e8me rapport du GIEC/Principaux gaz \\u00e0 effet de serre (CO2, CH4 et N2O)\",\"Achats de biens/Minerais, granulats/Granulats\",\"PRG/PRG \\u00e0 100 ans du 4\\u00e8me rapport du GIEC/Autres gaz \\u00e0 effet de serre fluor\\u00e9s\",\"Achats de biens/Produits agro-alimentaires, plats pr\\u00e9par\\u00e9s et boissons/Glaces et sorbets\",\"Traitement des d\\u00e9chets/D\\u00e9chets du b\\u00e2timent/No category\",\"Process et \\u00e9missions fugitives/R\\u00e9frig\\u00e9ration et climatisation/Climatisation\",\"Achats de biens/Machines et \\u00e9quipements/Informatique et \\u00e9quipements \\u00e9lectroniques\",\"R\\u00e9seaux de chaleur / froid/Poitou-Charentes\",\"Traitement des d\\u00e9chets\",\"Achats de biens/Machines et \\u00e9quipements/Electrom\\u00e9nager\",\"Combustibles/Caract\\u00e9ristiques physiques\",\"R\\u00e9seaux de chaleur / froid/Centre\",\"Achats de biens/Produits min\\u00e9raux non m\\u00e9talliques/Enrob\\u00e9s pour la route\",\"Transport de personnes/Routier/Voiture particuli\\u00e8re\",\"Transport de personnes\",\"Combustibles/Fossiles/Gazeux\",\"Traitement des d\\u00e9chets/D\\u00e9chets plastiques/PP\",\"PRG/PRG \\u00e0 100 ans du 5\\u00e8me rapport du GIEC/Principaux gaz \\u00e0 effet de serre fluor\\u00e9s\",\"Traitement des d\\u00e9chets/D\\u00e9chets dangereux/No category\",\"Combustibles/Fossiles\",\"R\\u00e9seaux de chaleur / froid/Languedoc-Roussillon\",\"Achats de biens/Textile et habillement/Synth\\u00e9tique\",\"Achats de biens/Bois\",\"UTCF/Changement d'affectation des sols\",\"Statistiques territoriales/Coefficients climatiques\",\"R\\u00e9seaux de chaleur / froid/Corse\",\"Process et \\u00e9missions fugitives/D\\u00e9chets\",\"Traitement des d\\u00e9chets/D\\u00e9chets dangereux\",\"Traitement des d\\u00e9chets/D\\u00e9chets min\\u00e9raux\",\"Traitement des d\\u00e9chets/D\\u00e9chets organiques\",\"R\\u00e9seaux de chaleur / froid/Lorraine\",\"Traitement des d\\u00e9chets/D\\u00e9chets plastiques\",\"Traitement des d\\u00e9chets/Eaux us\\u00e9es\",\"Transport de marchandises/Ferroviaire\",\"Transport de personnes/Ferroviaire\",\"Transport de personnes/Fluvial\",\"UTCF/For\\u00eats fran\\u00e7aises\",\"R\\u00e9seaux de chaleur / froid/Franche-Comt\\u00e9\",\"R\\u00e9seaux de chaleur / froid/Haute-Normandie\",\"Achats de biens/Hydrog\\u00e8ne\",\"Statistiques territoriales/Industrie\",\"Achats de biens/Eau,  traitement et distribution d'eau\",\"Traitement des d\\u00e9chets/D\\u00e9chets du b\\u00e2timent\"],\"labels\":[\"Ordures m\\u00e9nag\\u00e8res\",\"Autres produits manufactur\\u00e9s\",\"Fluvial\",\"Limousin\",\"Maritime\",\"Midi-Pyr\\u00e9n\\u00e9es\",\"Mix r\\u00e9seau \\u00e9lectrique\",\"France continentale\",\"France continentale\",\"Mobilier\",\"Fraises\",\"Moyen de production\",\"Liquides\",\"M\\u00e9taux et produits m\\u00e9talliques\",\"Epandage d'engrais azot\\u00e9\",\"PS\",\"Entr\\u00e9es et plats compos\\u00e9s\",\"PRG \\u00e0 100 ans du 4\\u00e8me rapport du GIEC\",\"Pays de la Loire\",\"Distribution en station\",\"Picardie\",\"Plastiques et produits chimiques\",\"DOM COM\",\"DOM COM\",\"Cuivre\",\"Nord-Pas-de-Calais\",\"Agriculture\",\"Mati\\u00e8res grasses\",\"Mat\\u00e9riaux de construction\",\"PCI - Pouvoir Calorifique Inf\\u00e9rieur\",\"Nord-Pas-de-Calais\",\"No category\",\"No category\",\"Pierres de carri\\u00e8re\",\"Production d'hydrog\\u00e8ne\",\"Produits chimiques\",\"No category\",\"No category\",\"No category\",\"Produits v\\u00e9g\\u00e9taux\",\"No category\",\"No category\",\"Re\\u00e7us\",\"Serres\",\"Solides\",\"No category\",\"No category\",\"Sols agricoles\",\"No category\",\"No category\",\"Traitement des eaux us\\u00e9es\",\"No category\",\"No category\",\"Viandes, ?ufs, poissons\",\"Cuir\",\"Coton\",\"PET\",\"Auvergne\",\"Electricit\\u00e9\",\"Autres d\\u00e9chets min\\u00e9raux\",\"R\\u00e9sidentiel\",\"42. Loire\",\"Tertiaire\",\"Textile et habillement\",\"Routier\",\"69. Rh\\u00f4ne\",\"Acier\",\"Corse\",\"Statistiques territoriales\",\"Autres pays du monde\",\"Autres m\\u00e9taux\",\"Autres pays du monde\",\"7. Ard\\u00e8che\",\"Bretagne\",\"Rh\\u00f4ne-Alpes\",\"92. Hauts-de-Seine\",\"Aliments infantiles\",\"Corse\",\"Alsace\",\"Transport de marchandises\",\"Consommation totale\",\"93. Seine-Saint-Denis\",\"Consommables de bureau\",\"Cargo\",\"Autres pays du monde\",\"Aquitaine\",\"PRG\",\"Chauffage / Eau chaude sanitaire\",\"Autobus - Autocar\",\"Restauration\",\"Centre-Val de Loire\",\"R\\u00e9seaux de chaleur / froid\",\"Aluminium\",\"Aquitaine\",\"Vraquiers\",\"D\\u00e9chets alimentaires et d\\u00e9chets verts\",\"73. Savoie\",\"Aides culinaires et ingr\\u00e9dients divers\",\"Court, Moyen, Long courrier (Valeurs moyennes)\",\"Conventionnels\",\"Consommation de carburant\",\"Produits agro-alimentaires, plats pr\\u00e9par\\u00e9s et boissons\",\"Eau chaude sanitaire\",\"74. Haute-Savoie\",\"Ciment, chaux, pl\\u00e2tre, b\\u00e9ton\",\"38. Is\\u00e8re\",\"Boissons\",\"Verres et articles en verre\",\"Bateau pousseur\",\"Plastiques et caoutchouc\",\"Basse-Normandie\",\"75. Paris\",\"Ratios mon\\u00e9taires\",\"94. Val de Marne\",\"91. Essonne\",\"Poitou-Charentes\",\"Corse\",\"1. Ain\",\"Cartons\",\"Taxi ? VTC\",\"Liquides\",\"Limousin\",\"Process et \\u00e9missions fugitives\",\"No category\",\"Par capacit\\u00e9 d'avion\",\"Combustibles\",\"Renouvelables\",\"Maritime\",\"Languedoc-Roussillon\",\"No category\",\"Substances controll\\u00e9es par le protocole de Montr\\u00e9al\",\"Process industriels\",\"Minerais, granulats\",\"Par cat\\u00e9gorie\",\"Achats de services\",\"Bretagne\",\"Rouliers\",\"Produits c\\u00e9r\\u00e9aliers\",\"\\u00cele-de-France\",\"Usage viticulture\",\"Produits sucr\\u00e9s\",\"Picardie\",\"Rh\\u00f4ne-Alpes\",\"Outre mer\",\"PE\",\"No category\",\"No category\",\"No category\",\"No category\",\"No category\",\"No category\",\"Moyenne nationale\",\"Machines industrielles\",\"Lorraine\",\"Lait et produits laitiers\",\"Franche-Comt\\u00e9\",\"France continentale\",\"Fabrication d'engin / ha\",\"Equipements \\u00e9lectriques\",\"Equipements \\u00e9lectriques\",\"Envoy\\u00e9es\",\"Decarbonation\",\"No category\",\"No category\",\"UTCF\",\"No category\",\"No category\",\"77. Seine-et-Marne\",\"78. Yvelines\",\"95. Val-d'Oise\",\"Articles de sport\",\"Chauffage\",\"Avion Cargo\",\"\\u00cele-de-France\",\"Avion passager\",\"No category\",\"Basse-Normandie\",\"Bateau automoteur\",\"R\\u00e9frig\\u00e9ration et climatisation\",\"Routier\",\"Bourgogne\",\"B\\u00e2timents\",\"Machines et \\u00e9quipements\",\"Pays de la Loire\",\"Par usage\",\"Papiers\",\"PVC\",\"Produits min\\u00e9raux non m\\u00e9talliques\",\"Provence-Alpes-C\\u00f4te d'Azur\",\"B\\u00e2timents, ouvrages d'art et voirie\",\"Haute-Normandie\",\"Champagne-Ardenne\",\"26. Dr\\u00f4me\",\"Provence-Alpes-C\\u00f4te d'Azur\",\"P\\u00e9troliers\",\"No category\",\"Voirie\",\"Produits de la mer\",\"No category\",\"V\\u00e9hicules automobiles et autres mat\\u00e9riels de transport\",\"Transport guid\\u00e9\",\"Transport de personnes\",\"Masses volumiques\",\"Champagne-Ardenne\",\"Transport de marchandises\",\"No category\",\"No category\",\"Bourgogne\",\"A\\u00e9rien\",\"Alsace\",\"No category\",\"Achats de biens\",\"Gazeux\",\"Gaziers\",\"Fruits, l\\u00e9gumes, l\\u00e9gumineuses et ol\\u00e9agineux\",\"No category\",\"Produits animaux\",\"R\\u00e9partition par mode de transports\",\"Organiques\",\"PRG \\u00e0 100 ans du 5\\u00e8me rapport du GIEC\",\"Papier, carton\",\"Deux roues\",\"Consommation totale\",\"Produits de l'agriculture et de la p\\u00eache\",\"R\\u00e9frig\\u00e9ration\",\"Solides\",\"Plastique \\\"moyen\\\"\",\"Midi-Pyren\\u00e9es\",\"Autres services\",\"Auvergne\",\"A\\u00e9rien\",\"Agriculture\",\"No category\",\"No category\",\"Porte-conteneur\",\"Autres\",\"No category\",\"Principaux gaz \\u00e0 effet de serre (CO2, CH4 et N2O)\",\"Granulats\",\"Autres gaz \\u00e0 effet de serre fluor\\u00e9s\",\"Glaces et sorbets\",\"No category\",\"Climatisation\",\"Informatique et \\u00e9quipements \\u00e9lectroniques\",\"Poitou-Charentes\",\"Traitement des d\\u00e9chets\",\"Electrom\\u00e9nager\",\"Caract\\u00e9ristiques physiques\",\"Centre\",\"Enrob\\u00e9s pour la route\",\"Voiture particuli\\u00e8re\",\"Transport de personnes\",\"Gazeux\",\"PP\",\"Principaux gaz \\u00e0 effet de serre fluor\\u00e9s\",\"No category\",\"Fossiles\",\"Languedoc-Roussillon\",\"Synth\\u00e9tique\",\"Bois\",\"Changement d'affectation des sols\",\"Coefficients climatiques\",\"Corse\",\"D\\u00e9chets\",\"D\\u00e9chets dangereux\",\"D\\u00e9chets min\\u00e9raux\",\"D\\u00e9chets organiques\",\"Lorraine\",\"D\\u00e9chets plastiques\",\"Eaux us\\u00e9es\",\"Ferroviaire\",\"Ferroviaire\",\"Fluvial\",\"For\\u00eats fran\\u00e7aises\",\"Franche-Comt\\u00e9\",\"Haute-Normandie\",\"Hydrog\\u00e8ne\",\"Industrie\",\"Eau,  traitement et distribution d'eau\",\"D\\u00e9chets du b\\u00e2timent\"],\"marker\":{\"colors\":[\"#636efa\",\"#EF553B\",\"#00cc96\",\"#ab63fa\",\"#FFA15A\",\"#ab63fa\",\"#19d3f3\",\"#19d3f3\",\"#FFA15A\",\"#EF553B\",\"#FF6692\",\"#19d3f3\",\"#B6E880\",\"#EF553B\",\"#FF6692\",\"#636efa\",\"#EF553B\",\"#FF97FF\",\"#ab63fa\",\"#EF553B\",\"#ab63fa\",\"#EF553B\",\"#FFA15A\",\"#00cc96\",\"#EF553B\",\"#ab63fa\",\"#FECB52\",\"#EF553B\",\"#EF553B\",\"#B6E880\",\"#636efa\",\"#EF553B\",\"#FFA15A\",\"#EF553B\",\"#EF553B\",\"#EF553B\",\"#EF553B\",\"#ab63fa\",\"#ab63fa\",\"#EF553B\",\"#FF6692\",\"#ab63fa\",\"#FF6692\",\"#FF6692\",\"#B6E880\",\"#ab63fa\",\"#FF6692\",\"#FECB52\",\"#ab63fa\",\"#EF553B\",\"#FECB52\",\"#ab63fa\",\"#ab63fa\",\"#EF553B\",\"#EF553B\",\"#EF553B\",\"#636efa\",\"#636efa\",\"#19d3f3\",\"#636efa\",\"#FF6692\",\"#ab63fa\",\"#FF6692\",\"#EF553B\",\"#00cc96\",\"#ab63fa\",\"#EF553B\",\"#636efa\",\"#FF6692\",\"#19d3f3\",\"#EF553B\",\"#00cc96\",\"#ab63fa\",\"#636efa\",\"#ab63fa\",\"#ab63fa\",\"#EF553B\",\"#00cc96\",\"#636efa\",\"#00cc96\",\"#FF6692\",\"#ab63fa\",\"#EF553B\",\"#00cc96\",\"#FFA15A\",\"#636efa\",\"#FF97FF\",\"#FF6692\",\"#FFA15A\",\"#EF553B\",\"#636efa\",\"#ab63fa\",\"#EF553B\",\"#ab63fa\",\"#00cc96\",\"#636efa\",\"#ab63fa\",\"#EF553B\",\"#FFA15A\",\"#19d3f3\",\"#FF6692\",\"#EF553B\",\"#FF6692\",\"#ab63fa\",\"#EF553B\",\"#ab63fa\",\"#EF553B\",\"#EF553B\",\"#00cc96\",\"#EF553B\",\"#ab63fa\",\"#ab63fa\",\"#EF553B\",\"#ab63fa\",\"#ab63fa\",\"#636efa\",\"#FFA15A\",\"#ab63fa\",\"#636efa\",\"#FFA15A\",\"#B6E880\",\"#636efa\",\"#FECB52\",\"#ab63fa\",\"#FFA15A\",\"#B6E880\",\"#19d3f3\",\"#00cc96\",\"#636efa\",\"#EF553B\",\"#FF97FF\",\"#FECB52\",\"#EF553B\",\"#00cc96\",\"#EF553B\",\"#ab63fa\",\"#00cc96\",\"#EF553B\",\"#636efa\",\"#EF553B\",\"#EF553B\",\"#636efa\",\"#636efa\",\"#19d3f3\",\"#636efa\",\"#636efa\",\"#EF553B\",\"#636efa\",\"#ab63fa\",\"#ab63fa\",\"#ab63fa\",\"#636efa\",\"#EF553B\",\"#636efa\",\"#EF553B\",\"#636efa\",\"#00cc96\",\"#FF6692\",\"#FF6692\",\"#EF553B\",\"#FF6692\",\"#FECB52\",\"#FFA15A\",\"#ab63fa\",\"#636efa\",\"#EF553B\",\"#ab63fa\",\"#ab63fa\",\"#ab63fa\",\"#ab63fa\",\"#EF553B\",\"#FF6692\",\"#00cc96\",\"#ab63fa\",\"#00cc96\",\"#ab63fa\",\"#636efa\",\"#00cc96\",\"#FECB52\",\"#FFA15A\",\"#636efa\",\"#EF553B\",\"#EF553B\",\"#636efa\",\"#00cc96\",\"#636efa\",\"#636efa\",\"#EF553B\",\"#ab63fa\",\"#EF553B\",\"#636efa\",\"#636efa\",\"#ab63fa\",\"#636efa\",\"#00cc96\",\"#636efa\",\"#EF553B\",\"#EF553B\",\"#EF553B\",\"#EF553B\",\"#FFA15A\",\"#FF6692\",\"#B6E880\",\"#ab63fa\",\"#FF6692\",\"#ab63fa\",\"#ab63fa\",\"#ab63fa\",\"#FFA15A\",\"#ab63fa\",\"#ab63fa\",\"#EF553B\",\"#B6E880\",\"#00cc96\",\"#EF553B\",\"#ab63fa\",\"#EF553B\",\"#FF6692\",\"#B6E880\",\"#FF97FF\",\"#EF553B\",\"#FFA15A\",\"#FF6692\",\"#EF553B\",\"#FECB52\",\"#B6E880\",\"#636efa\",\"#636efa\",\"#EF553B\",\"#ab63fa\",\"#00cc96\",\"#FF6692\",\"#EF553B\",\"#ab63fa\",\"#00cc96\",\"#EF553B\",\"#ab63fa\",\"#FF97FF\",\"#EF553B\",\"#FF97FF\",\"#EF553B\",\"#636efa\",\"#FECB52\",\"#EF553B\",\"#ab63fa\",\"#636efa\",\"#EF553B\",\"#B6E880\",\"#ab63fa\",\"#EF553B\",\"#FFA15A\",\"#FFA15A\",\"#B6E880\",\"#636efa\",\"#FF97FF\",\"#636efa\",\"#B6E880\",\"#ab63fa\",\"#EF553B\",\"#EF553B\",\"#636efa\",\"#FF6692\",\"#ab63fa\",\"#FECB52\",\"#636efa\",\"#636efa\",\"#636efa\",\"#ab63fa\",\"#636efa\",\"#636efa\",\"#00cc96\",\"#FFA15A\",\"#FFA15A\",\"#636efa\",\"#ab63fa\",\"#ab63fa\",\"#EF553B\",\"#FF6692\",\"#EF553B\",\"#636efa\"]},\"name\":\"\",\"parents\":[\"Traitement des d\\u00e9chets\",\"Achats de biens\",\"Transport de marchandises\",\"R\\u00e9seaux de chaleur / froid\",\"Transport de personnes\",\"R\\u00e9seaux de chaleur / froid\",\"Electricit\\u00e9\",\"Electricit\\u00e9/Mix r\\u00e9seau \\u00e9lectrique\",\"Transport de personnes/Ferroviaire\",\"Achats de biens\",\"Statistiques territoriales/Agriculture\",\"Electricit\\u00e9\",\"Combustibles/Organiques\",\"Achats de biens\",\"Statistiques territoriales/Agriculture\",\"Traitement des d\\u00e9chets/D\\u00e9chets plastiques\",\"Achats de biens/Produits agro-alimentaires, plats pr\\u00e9par\\u00e9s et boissons\",\"PRG\",\"R\\u00e9seaux de chaleur / froid\",\"Achats de biens/Hydrog\\u00e8ne\",\"R\\u00e9seaux de chaleur / froid\",\"Achats de biens\",\"Transport de personnes/Maritime\",\"Transport de marchandises/Maritime\",\"Achats de biens/M\\u00e9taux et produits m\\u00e9talliques\",\"R\\u00e9seaux de chaleur / froid\",\"Process et \\u00e9missions fugitives\",\"Achats de biens/Produits agro-alimentaires, plats pr\\u00e9par\\u00e9s et boissons\",\"Achats de biens/Produits min\\u00e9raux non m\\u00e9talliques\",\"Combustibles/Caract\\u00e9ristiques physiques\",\"UTCF/For\\u00eats fran\\u00e7aises\",\"Achats de biens/V\\u00e9hicules automobiles et autres mat\\u00e9riels de transport\",\"Transport de personnes/Transport guid\\u00e9\",\"Achats de biens/Minerais, granulats\",\"Achats de biens/Hydrog\\u00e8ne\",\"Achats de biens/Plastiques et produits chimiques\",\"Achats de biens/Mobilier\",\"R\\u00e9seaux de chaleur / froid/Midi-Pyr\\u00e9n\\u00e9es\",\"R\\u00e9seaux de chaleur / froid/Lorraine\",\"Achats de biens/Produits de l'agriculture et de la p\\u00eache\",\"Statistiques territoriales/Industrie\",\"R\\u00e9seaux de chaleur / froid/Haute-Normandie\",\"Statistiques territoriales/Transport de marchandises\",\"Statistiques territoriales/Agriculture\",\"Combustibles/Fossiles\",\"R\\u00e9seaux de chaleur / froid/Corse\",\"Statistiques territoriales/Coefficients climatiques\",\"Process et \\u00e9missions fugitives/Agriculture\",\"R\\u00e9seaux de chaleur / froid/Bretagne\",\"Achats de biens/Bois\",\"Process et \\u00e9missions fugitives/D\\u00e9chets\",\"R\\u00e9seaux de chaleur / froid/Auvergne\",\"R\\u00e9seaux de chaleur / froid/Aquitaine\",\"Achats de biens/Produits agro-alimentaires, plats pr\\u00e9par\\u00e9s et boissons\",\"Achats de biens/Textile et habillement\",\"Achats de biens/Textile et habillement\",\"Traitement des d\\u00e9chets/D\\u00e9chets plastiques\",\"UTCF/For\\u00eats fran\\u00e7aises\",\"\",\"Traitement des d\\u00e9chets/D\\u00e9chets min\\u00e9raux\",\"Statistiques territoriales\",\"R\\u00e9seaux de chaleur / froid/Rh\\u00f4ne-Alpes\",\"Statistiques territoriales\",\"Achats de biens\",\"Transport de marchandises\",\"R\\u00e9seaux de chaleur / froid/Rh\\u00f4ne-Alpes\",\"Achats de biens/M\\u00e9taux et produits m\\u00e9talliques\",\"UTCF/For\\u00eats fran\\u00e7aises\",\"\",\"Electricit\\u00e9/Mix r\\u00e9seau \\u00e9lectrique\",\"Achats de biens/M\\u00e9taux et produits m\\u00e9talliques\",\"Transport de marchandises/Ferroviaire\",\"R\\u00e9seaux de chaleur / froid/Rh\\u00f4ne-Alpes\",\"UTCF/For\\u00eats fran\\u00e7aises\",\"R\\u00e9seaux de chaleur / froid\",\"R\\u00e9seaux de chaleur / froid/\\u00cele-de-France\",\"Achats de biens/Produits agro-alimentaires, plats pr\\u00e9par\\u00e9s et boissons\",\"Transport de marchandises/Ferroviaire\",\"UTCF/For\\u00eats fran\\u00e7aises\",\"\",\"Statistiques territoriales/R\\u00e9sidentiel\",\"R\\u00e9seaux de chaleur / froid/\\u00cele-de-France\",\"Achats de biens/Autres produits manufactur\\u00e9s\",\"Transport de marchandises/Maritime\",\"Transport de personnes/Ferroviaire\",\"UTCF/For\\u00eats fran\\u00e7aises\",\"\",\"Statistiques territoriales/Tertiaire\",\"Transport de personnes/Routier\",\"Achats de services\",\"UTCF/For\\u00eats fran\\u00e7aises\",\"\",\"Achats de biens/M\\u00e9taux et produits m\\u00e9talliques\",\"R\\u00e9seaux de chaleur / froid\",\"Transport de marchandises/Maritime\",\"Traitement des d\\u00e9chets/D\\u00e9chets organiques\",\"R\\u00e9seaux de chaleur / froid/Rh\\u00f4ne-Alpes\",\"Achats de biens/Produits agro-alimentaires, plats pr\\u00e9par\\u00e9s et boissons\",\"Transport de personnes/A\\u00e9rien\",\"Electricit\\u00e9/Moyen de production\",\"Statistiques territoriales/Agriculture\",\"Achats de biens\",\"Statistiques territoriales/R\\u00e9sidentiel\",\"R\\u00e9seaux de chaleur / froid/Rh\\u00f4ne-Alpes\",\"Achats de biens/Produits min\\u00e9raux non m\\u00e9talliques\",\"R\\u00e9seaux de chaleur / froid/Rh\\u00f4ne-Alpes\",\"Achats de biens/Produits agro-alimentaires, plats pr\\u00e9par\\u00e9s et boissons\",\"Achats de biens/Produits min\\u00e9raux non m\\u00e9talliques\",\"Transport de marchandises/Fluvial\",\"Achats de biens/Plastiques et produits chimiques\",\"R\\u00e9seaux de chaleur / froid\",\"R\\u00e9seaux de chaleur / froid/\\u00cele-de-France\",\"Achats de services\",\"R\\u00e9seaux de chaleur / froid/\\u00cele-de-France\",\"R\\u00e9seaux de chaleur / froid/\\u00cele-de-France\",\"UTCF/For\\u00eats fran\\u00e7aises\",\"Transport de personnes/Ferroviaire\",\"R\\u00e9seaux de chaleur / froid/Rh\\u00f4ne-Alpes\",\"Traitement des d\\u00e9chets/D\\u00e9chets organiques\",\"Transport de personnes/Routier\",\"Combustibles/Fossiles\",\"UTCF/For\\u00eats fran\\u00e7aises\",\"\",\"R\\u00e9seaux de chaleur / froid/Champagne-Ardenne\",\"Transport de personnes/A\\u00e9rien\",\"\",\"Electricit\\u00e9/Moyen de production\",\"Transport de marchandises\",\"UTCF/For\\u00eats fran\\u00e7aises\",\"Achats de services/Restauration\",\"PRG/PRG \\u00e0 100 ans du 5\\u00e8me rapport du GIEC\",\"Process et \\u00e9missions fugitives\",\"Achats de biens\",\"Transport de marchandises/Routier\",\"\",\"R\\u00e9seaux de chaleur / froid\",\"Transport de marchandises/Maritime\",\"Achats de biens/Produits agro-alimentaires, plats pr\\u00e9par\\u00e9s et boissons\",\"UTCF/For\\u00eats fran\\u00e7aises\",\"Achats de biens/Autres produits manufactur\\u00e9s\",\"Achats de biens/Produits agro-alimentaires, plats pr\\u00e9par\\u00e9s et boissons\",\"UTCF/For\\u00eats fran\\u00e7aises\",\"UTCF/For\\u00eats fran\\u00e7aises\",\"Electricit\\u00e9/Mix r\\u00e9seau \\u00e9lectrique\",\"Traitement des d\\u00e9chets/D\\u00e9chets plastiques\",\"Traitement des d\\u00e9chets/Eaux us\\u00e9es\",\"Achats de biens/Eau,  traitement et distribution d'eau\",\"UTCF/Changement d'affectation des sols\",\"R\\u00e9seaux de chaleur / froid/Bourgogne\",\"R\\u00e9seaux de chaleur / froid/Basse-Normandie\",\"R\\u00e9seaux de chaleur / froid/Alsace\",\"UTCF/For\\u00eats fran\\u00e7aises\",\"Achats de biens/Machines et \\u00e9quipements\",\"UTCF/For\\u00eats fran\\u00e7aises\",\"Achats de biens/Produits agro-alimentaires, plats pr\\u00e9par\\u00e9s et boissons\",\"UTCF/For\\u00eats fran\\u00e7aises\",\"Transport de marchandises/Ferroviaire\",\"Statistiques territoriales/Agriculture\",\"Statistiques territoriales/R\\u00e9sidentiel\",\"Achats de biens/Machines et \\u00e9quipements\",\"Statistiques territoriales/Transport de marchandises\",\"Process et \\u00e9missions fugitives/Process industriels\",\"Transport de personnes/Fluvial\",\"R\\u00e9seaux de chaleur / froid/Franche-Comt\\u00e9\",\"\",\"Achats de services/Ratios mon\\u00e9taires\",\"R\\u00e9seaux de chaleur / froid/Languedoc-Roussillon\",\"R\\u00e9seaux de chaleur / froid/\\u00cele-de-France\",\"R\\u00e9seaux de chaleur / froid/\\u00cele-de-France\",\"R\\u00e9seaux de chaleur / froid/\\u00cele-de-France\",\"Achats de biens/Autres produits manufactur\\u00e9s\",\"Statistiques territoriales/R\\u00e9sidentiel\",\"Transport de marchandises/A\\u00e9rien\",\"R\\u00e9seaux de chaleur / froid\",\"Transport de marchandises/A\\u00e9rien\",\"R\\u00e9seaux de chaleur / froid/Limousin\",\"UTCF/For\\u00eats fran\\u00e7aises\",\"Transport de marchandises/Fluvial\",\"Process et \\u00e9missions fugitives\",\"Transport de personnes\",\"UTCF/For\\u00eats fran\\u00e7aises\",\"Achats de biens/B\\u00e2timents, ouvrages d'art et voirie\",\"Achats de biens\",\"UTCF/For\\u00eats fran\\u00e7aises\",\"Transport de marchandises/Routier\",\"Traitement des d\\u00e9chets/D\\u00e9chets organiques\",\"Traitement des d\\u00e9chets/D\\u00e9chets plastiques\",\"Achats de biens\",\"R\\u00e9seaux de chaleur / froid\",\"Achats de biens\",\"UTCF/For\\u00eats fran\\u00e7aises\",\"UTCF/For\\u00eats fran\\u00e7aises\",\"R\\u00e9seaux de chaleur / froid/Rh\\u00f4ne-Alpes\",\"UTCF/For\\u00eats fran\\u00e7aises\",\"Transport de marchandises/Maritime\",\"Traitement des d\\u00e9chets/Ordures m\\u00e9nag\\u00e8res\",\"Achats de biens/B\\u00e2timents, ouvrages d'art et voirie\",\"Achats de biens/Produits de l'agriculture et de la p\\u00eache\",\"Achats de services/Autres services\",\"Achats de biens\",\"Transport de personnes\",\"Statistiques territoriales\",\"Combustibles/Caract\\u00e9ristiques physiques\",\"R\\u00e9seaux de chaleur / froid\",\"Statistiques territoriales\",\"R\\u00e9seaux de chaleur / froid/Provence-Alpes-C\\u00f4te d'Azur\",\"R\\u00e9seaux de chaleur / froid/Picardie\",\"R\\u00e9seaux de chaleur / froid\",\"Transport de personnes\",\"R\\u00e9seaux de chaleur / froid\",\"R\\u00e9seaux de chaleur / froid/Poitou-Charentes\",\"\",\"Combustibles/Organiques\",\"Transport de marchandises/Maritime\",\"Achats de biens/Produits agro-alimentaires, plats pr\\u00e9par\\u00e9s et boissons\",\"R\\u00e9seaux de chaleur / froid/Nord-Pas-de-Calais\",\"Achats de biens/Produits de l'agriculture et de la p\\u00eache\",\"Statistiques territoriales/Transport de personnes\",\"Combustibles\",\"PRG\",\"Achats de biens\",\"Transport de personnes/Routier\",\"Statistiques territoriales/Tertiaire\",\"Achats de biens\",\"Process et \\u00e9missions fugitives/R\\u00e9frig\\u00e9ration et climatisation\",\"Combustibles/Organiques\",\"Traitement des d\\u00e9chets/D\\u00e9chets plastiques\",\"UTCF/For\\u00eats fran\\u00e7aises\",\"Achats de services\",\"R\\u00e9seaux de chaleur / froid\",\"Transport de marchandises\",\"Statistiques territoriales\",\"Achats de biens/Papier, carton\",\"R\\u00e9seaux de chaleur / froid/Pays de la Loire\",\"Transport de marchandises/Maritime\",\"Achats de biens/Textile et habillement\",\"R\\u00e9seaux de chaleur / froid/Centre\",\"PRG/PRG \\u00e0 100 ans du 5\\u00e8me rapport du GIEC\",\"Achats de biens/Minerais, granulats\",\"PRG/PRG \\u00e0 100 ans du 4\\u00e8me rapport du GIEC\",\"Achats de biens/Produits agro-alimentaires, plats pr\\u00e9par\\u00e9s et boissons\",\"Traitement des d\\u00e9chets/D\\u00e9chets du b\\u00e2timent\",\"Process et \\u00e9missions fugitives/R\\u00e9frig\\u00e9ration et climatisation\",\"Achats de biens/Machines et \\u00e9quipements\",\"R\\u00e9seaux de chaleur / froid\",\"\",\"Achats de biens/Machines et \\u00e9quipements\",\"Combustibles\",\"R\\u00e9seaux de chaleur / froid\",\"Achats de biens/Produits min\\u00e9raux non m\\u00e9talliques\",\"Transport de personnes/Routier\",\"\",\"Combustibles/Fossiles\",\"Traitement des d\\u00e9chets/D\\u00e9chets plastiques\",\"PRG/PRG \\u00e0 100 ans du 5\\u00e8me rapport du GIEC\",\"Traitement des d\\u00e9chets/D\\u00e9chets dangereux\",\"Combustibles\",\"R\\u00e9seaux de chaleur / froid\",\"Achats de biens/Textile et habillement\",\"Achats de biens\",\"UTCF\",\"Statistiques territoriales\",\"R\\u00e9seaux de chaleur / froid\",\"Process et \\u00e9missions fugitives\",\"Traitement des d\\u00e9chets\",\"Traitement des d\\u00e9chets\",\"Traitement des d\\u00e9chets\",\"R\\u00e9seaux de chaleur / froid\",\"Traitement des d\\u00e9chets\",\"Traitement des d\\u00e9chets\",\"Transport de marchandises\",\"Transport de personnes\",\"Transport de personnes\",\"UTCF\",\"R\\u00e9seaux de chaleur / froid\",\"R\\u00e9seaux de chaleur / froid\",\"Achats de biens\",\"Statistiques territoriales\",\"Achats de biens\",\"Traitement des d\\u00e9chets\"],\"type\":\"icicle\",\"values\":[18,109,24,11,9,32,639,459,18,103,51,27,119,12,138,5,259,1,25,34,16,78,9,10,2,29,7,40,12,49,8,19,6,2,20,62,103,32,33,356,88,24,138,121,153,1,15,7,20,3,2,31,24,548,18,30,5,8,666,8,499,37,166,126,118,24,2,8,1503,137,6,18,6,8,114,21,15,1,8,532,28,20,7,6,34,8,58,56,24,10,8,675,2,24,12,23,10,106,21,12,61,1869,83,12,7,13,71,12,6,16,18,3,36,20,15,8,2,7,18,9,718,8,126,20,98,1352,15,169,8,10,27,5,4,106,55,20,12,274,8,24,42,8,8,43,5,9,6,12,30,18,31,9,1,8,137,8,27,20,302,41,138,5,3,27,197,36,15,13,9,12,78,86,56,113,119,11,8,18,112,211,8,22,520,8,12,18,5,49,22,52,8,8,5,8,15,18,30,22,9,19,6,68,11,20,276,22,16,30,119,31,17,3475,147,6,361,29,81,68,308,57,12,34,110,459,70,42,10,8,9,31,175,391,12,25,108,42,22,4,2,1,16,24,42,250,17,162,228,60,22,18,144,402,113,5,26,9,984,15,36,3,12,15,1,2,9,8,59,33,35,9,46,54,3,185,27,24,54,88,6,24]}],                        {\"legend\":{\"tracegroupgap\":0},\"margin\":{\"t\":60},\"template\":{\"data\":{\"bar\":[{\"error_x\":{\"color\":\"#2a3f5f\"},\"error_y\":{\"color\":\"#2a3f5f\"},\"marker\":{\"line\":{\"color\":\"#E5ECF6\",\"width\":0.5},\"pattern\":{\"fillmode\":\"overlay\",\"size\":10,\"solidity\":0.2}},\"type\":\"bar\"}],\"barpolar\":[{\"marker\":{\"line\":{\"color\":\"#E5ECF6\",\"width\":0.5},\"pattern\":{\"fillmode\":\"overlay\",\"size\":10,\"solidity\":0.2}},\"type\":\"barpolar\"}],\"carpet\":[{\"aaxis\":{\"endlinecolor\":\"#2a3f5f\",\"gridcolor\":\"white\",\"linecolor\":\"white\",\"minorgridcolor\":\"white\",\"startlinecolor\":\"#2a3f5f\"},\"baxis\":{\"endlinecolor\":\"#2a3f5f\",\"gridcolor\":\"white\",\"linecolor\":\"white\",\"minorgridcolor\":\"white\",\"startlinecolor\":\"#2a3f5f\"},\"type\":\"carpet\"}],\"choropleth\":[{\"colorbar\":{\"outlinewidth\":0,\"ticks\":\"\"},\"type\":\"choropleth\"}],\"contour\":[{\"colorbar\":{\"outlinewidth\":0,\"ticks\":\"\"},\"colorscale\":[[0.0,\"#0d0887\"],[0.1111111111111111,\"#46039f\"],[0.2222222222222222,\"#7201a8\"],[0.3333333333333333,\"#9c179e\"],[0.4444444444444444,\"#bd3786\"],[0.5555555555555556,\"#d8576b\"],[0.6666666666666666,\"#ed7953\"],[0.7777777777777778,\"#fb9f3a\"],[0.8888888888888888,\"#fdca26\"],[1.0,\"#f0f921\"]],\"type\":\"contour\"}],\"contourcarpet\":[{\"colorbar\":{\"outlinewidth\":0,\"ticks\":\"\"},\"type\":\"contourcarpet\"}],\"heatmap\":[{\"colorbar\":{\"outlinewidth\":0,\"ticks\":\"\"},\"colorscale\":[[0.0,\"#0d0887\"],[0.1111111111111111,\"#46039f\"],[0.2222222222222222,\"#7201a8\"],[0.3333333333333333,\"#9c179e\"],[0.4444444444444444,\"#bd3786\"],[0.5555555555555556,\"#d8576b\"],[0.6666666666666666,\"#ed7953\"],[0.7777777777777778,\"#fb9f3a\"],[0.8888888888888888,\"#fdca26\"],[1.0,\"#f0f921\"]],\"type\":\"heatmap\"}],\"heatmapgl\":[{\"colorbar\":{\"outlinewidth\":0,\"ticks\":\"\"},\"colorscale\":[[0.0,\"#0d0887\"],[0.1111111111111111,\"#46039f\"],[0.2222222222222222,\"#7201a8\"],[0.3333333333333333,\"#9c179e\"],[0.4444444444444444,\"#bd3786\"],[0.5555555555555556,\"#d8576b\"],[0.6666666666666666,\"#ed7953\"],[0.7777777777777778,\"#fb9f3a\"],[0.8888888888888888,\"#fdca26\"],[1.0,\"#f0f921\"]],\"type\":\"heatmapgl\"}],\"histogram\":[{\"marker\":{\"pattern\":{\"fillmode\":\"overlay\",\"size\":10,\"solidity\":0.2}},\"type\":\"histogram\"}],\"histogram2d\":[{\"colorbar\":{\"outlinewidth\":0,\"ticks\":\"\"},\"colorscale\":[[0.0,\"#0d0887\"],[0.1111111111111111,\"#46039f\"],[0.2222222222222222,\"#7201a8\"],[0.3333333333333333,\"#9c179e\"],[0.4444444444444444,\"#bd3786\"],[0.5555555555555556,\"#d8576b\"],[0.6666666666666666,\"#ed7953\"],[0.7777777777777778,\"#fb9f3a\"],[0.8888888888888888,\"#fdca26\"],[1.0,\"#f0f921\"]],\"type\":\"histogram2d\"}],\"histogram2dcontour\":[{\"colorbar\":{\"outlinewidth\":0,\"ticks\":\"\"},\"colorscale\":[[0.0,\"#0d0887\"],[0.1111111111111111,\"#46039f\"],[0.2222222222222222,\"#7201a8\"],[0.3333333333333333,\"#9c179e\"],[0.4444444444444444,\"#bd3786\"],[0.5555555555555556,\"#d8576b\"],[0.6666666666666666,\"#ed7953\"],[0.7777777777777778,\"#fb9f3a\"],[0.8888888888888888,\"#fdca26\"],[1.0,\"#f0f921\"]],\"type\":\"histogram2dcontour\"}],\"mesh3d\":[{\"colorbar\":{\"outlinewidth\":0,\"ticks\":\"\"},\"type\":\"mesh3d\"}],\"parcoords\":[{\"line\":{\"colorbar\":{\"outlinewidth\":0,\"ticks\":\"\"}},\"type\":\"parcoords\"}],\"pie\":[{\"automargin\":true,\"type\":\"pie\"}],\"scatter\":[{\"marker\":{\"colorbar\":{\"outlinewidth\":0,\"ticks\":\"\"}},\"type\":\"scatter\"}],\"scatter3d\":[{\"line\":{\"colorbar\":{\"outlinewidth\":0,\"ticks\":\"\"}},\"marker\":{\"colorbar\":{\"outlinewidth\":0,\"ticks\":\"\"}},\"type\":\"scatter3d\"}],\"scattercarpet\":[{\"marker\":{\"colorbar\":{\"outlinewidth\":0,\"ticks\":\"\"}},\"type\":\"scattercarpet\"}],\"scattergeo\":[{\"marker\":{\"colorbar\":{\"outlinewidth\":0,\"ticks\":\"\"}},\"type\":\"scattergeo\"}],\"scattergl\":[{\"marker\":{\"colorbar\":{\"outlinewidth\":0,\"ticks\":\"\"}},\"type\":\"scattergl\"}],\"scattermapbox\":[{\"marker\":{\"colorbar\":{\"outlinewidth\":0,\"ticks\":\"\"}},\"type\":\"scattermapbox\"}],\"scatterpolar\":[{\"marker\":{\"colorbar\":{\"outlinewidth\":0,\"ticks\":\"\"}},\"type\":\"scatterpolar\"}],\"scatterpolargl\":[{\"marker\":{\"colorbar\":{\"outlinewidth\":0,\"ticks\":\"\"}},\"type\":\"scatterpolargl\"}],\"scatterternary\":[{\"marker\":{\"colorbar\":{\"outlinewidth\":0,\"ticks\":\"\"}},\"type\":\"scatterternary\"}],\"surface\":[{\"colorbar\":{\"outlinewidth\":0,\"ticks\":\"\"},\"colorscale\":[[0.0,\"#0d0887\"],[0.1111111111111111,\"#46039f\"],[0.2222222222222222,\"#7201a8\"],[0.3333333333333333,\"#9c179e\"],[0.4444444444444444,\"#bd3786\"],[0.5555555555555556,\"#d8576b\"],[0.6666666666666666,\"#ed7953\"],[0.7777777777777778,\"#fb9f3a\"],[0.8888888888888888,\"#fdca26\"],[1.0,\"#f0f921\"]],\"type\":\"surface\"}],\"table\":[{\"cells\":{\"fill\":{\"color\":\"#EBF0F8\"},\"line\":{\"color\":\"white\"}},\"header\":{\"fill\":{\"color\":\"#C8D4E3\"},\"line\":{\"color\":\"white\"}},\"type\":\"table\"}]},\"layout\":{\"annotationdefaults\":{\"arrowcolor\":\"#2a3f5f\",\"arrowhead\":0,\"arrowwidth\":1},\"autotypenumbers\":\"strict\",\"coloraxis\":{\"colorbar\":{\"outlinewidth\":0,\"ticks\":\"\"}},\"colorscale\":{\"diverging\":[[0,\"#8e0152\"],[0.1,\"#c51b7d\"],[0.2,\"#de77ae\"],[0.3,\"#f1b6da\"],[0.4,\"#fde0ef\"],[0.5,\"#f7f7f7\"],[0.6,\"#e6f5d0\"],[0.7,\"#b8e186\"],[0.8,\"#7fbc41\"],[0.9,\"#4d9221\"],[1,\"#276419\"]],\"sequential\":[[0.0,\"#0d0887\"],[0.1111111111111111,\"#46039f\"],[0.2222222222222222,\"#7201a8\"],[0.3333333333333333,\"#9c179e\"],[0.4444444444444444,\"#bd3786\"],[0.5555555555555556,\"#d8576b\"],[0.6666666666666666,\"#ed7953\"],[0.7777777777777778,\"#fb9f3a\"],[0.8888888888888888,\"#fdca26\"],[1.0,\"#f0f921\"]],\"sequentialminus\":[[0.0,\"#0d0887\"],[0.1111111111111111,\"#46039f\"],[0.2222222222222222,\"#7201a8\"],[0.3333333333333333,\"#9c179e\"],[0.4444444444444444,\"#bd3786\"],[0.5555555555555556,\"#d8576b\"],[0.6666666666666666,\"#ed7953\"],[0.7777777777777778,\"#fb9f3a\"],[0.8888888888888888,\"#fdca26\"],[1.0,\"#f0f921\"]]},\"colorway\":[\"#636efa\",\"#EF553B\",\"#00cc96\",\"#ab63fa\",\"#FFA15A\",\"#19d3f3\",\"#FF6692\",\"#B6E880\",\"#FF97FF\",\"#FECB52\"],\"font\":{\"color\":\"#2a3f5f\"},\"geo\":{\"bgcolor\":\"white\",\"lakecolor\":\"white\",\"landcolor\":\"#E5ECF6\",\"showlakes\":true,\"showland\":true,\"subunitcolor\":\"white\"},\"hoverlabel\":{\"align\":\"left\"},\"hovermode\":\"closest\",\"mapbox\":{\"style\":\"light\"},\"paper_bgcolor\":\"white\",\"plot_bgcolor\":\"#E5ECF6\",\"polar\":{\"angularaxis\":{\"gridcolor\":\"white\",\"linecolor\":\"white\",\"ticks\":\"\"},\"bgcolor\":\"#E5ECF6\",\"radialaxis\":{\"gridcolor\":\"white\",\"linecolor\":\"white\",\"ticks\":\"\"}},\"scene\":{\"xaxis\":{\"backgroundcolor\":\"#E5ECF6\",\"gridcolor\":\"white\",\"gridwidth\":2,\"linecolor\":\"white\",\"showbackground\":true,\"ticks\":\"\",\"zerolinecolor\":\"white\"},\"yaxis\":{\"backgroundcolor\":\"#E5ECF6\",\"gridcolor\":\"white\",\"gridwidth\":2,\"linecolor\":\"white\",\"showbackground\":true,\"ticks\":\"\",\"zerolinecolor\":\"white\"},\"zaxis\":{\"backgroundcolor\":\"#E5ECF6\",\"gridcolor\":\"white\",\"gridwidth\":2,\"linecolor\":\"white\",\"showbackground\":true,\"ticks\":\"\",\"zerolinecolor\":\"white\"}},\"shapedefaults\":{\"line\":{\"color\":\"#2a3f5f\"}},\"ternary\":{\"aaxis\":{\"gridcolor\":\"white\",\"linecolor\":\"white\",\"ticks\":\"\"},\"baxis\":{\"gridcolor\":\"white\",\"linecolor\":\"white\",\"ticks\":\"\"},\"bgcolor\":\"#E5ECF6\",\"caxis\":{\"gridcolor\":\"white\",\"linecolor\":\"white\",\"ticks\":\"\"}},\"title\":{\"x\":0.05},\"xaxis\":{\"automargin\":true,\"gridcolor\":\"white\",\"linecolor\":\"white\",\"ticks\":\"\",\"title\":{\"standoff\":15},\"zerolinecolor\":\"white\",\"zerolinewidth\":2},\"yaxis\":{\"automargin\":true,\"gridcolor\":\"white\",\"linecolor\":\"white\",\"ticks\":\"\",\"title\":{\"standoff\":15},\"zerolinecolor\":\"white\",\"zerolinewidth\":2}}}},                        {\"responsive\": true}                    ).then(function(){\n",
       "                            \n",
       "var gd = document.getElementById('220a98d8-33c3-4137-b9a0-3ac13f602680');\n",
       "var x = new MutationObserver(function (mutations, observer) {{\n",
       "        var display = window.getComputedStyle(gd).display;\n",
       "        if (!display || display === 'none') {{\n",
       "            console.log([gd, 'removed!']);\n",
       "            Plotly.purge(gd);\n",
       "            observer.disconnect();\n",
       "        }}\n",
       "}});\n",
       "\n",
       "// Listen for the removal of the full notebook cells\n",
       "var notebookContainer = gd.closest('#notebook-container');\n",
       "if (notebookContainer) {{\n",
       "    x.observe(notebookContainer, {childList: true});\n",
       "}}\n",
       "\n",
       "// Listen for the clearing of the current output cell\n",
       "var outputEl = gd.closest('.output');\n",
       "if (outputEl) {{\n",
       "    x.observe(outputEl, {childList: true});\n",
       "}}\n",
       "\n",
       "                        })                };                });            </script>        </div>"
      ]
     },
     "metadata": {},
     "output_type": "display_data"
    }
   ],
   "source": [
    "fig = px.icicle(categories_count, path=['category1', 'category2',\"category3\"], values='count',\n",
    "                  color='category1')\n",
    "fig.show()"
   ]
  },
  {
   "cell_type": "markdown",
   "id": "6e1da87c",
   "metadata": {},
   "source": [
    "## Exploring tags"
   ]
  },
  {
   "cell_type": "code",
   "execution_count": 141,
   "id": "f9ba255e",
   "metadata": {},
   "outputs": [
    {
     "data": {
      "text/plain": [
       "<AxesSubplot:>"
      ]
     },
     "execution_count": 141,
     "metadata": {},
     "output_type": "execute_result"
    },
    {
     "data": {
      "image/png": "[encoded data removed]",
      "text/plain": [
       "<Figure size 720x720 with 1 Axes>"
      ]
     },
     "metadata": {
      "needs_background": "light"
     },
     "output_type": "display_data"
    }
   ],
   "source": [
    "(\n",
    "    baca.data[\"tags\"]\n",
    "    .str.split(\",\")\n",
    "    .dropna()\n",
    "    .explode()\n",
    "    .value_counts()\n",
    "    .sort_values(ascending = True).tail(30)\n",
    "    .plot(kind = \"barh\",figsize = (10,10))\n",
    ")"
   ]
  },
  {
   "cell_type": "markdown",
   "id": "27d84986",
   "metadata": {},
   "source": [
    "Tags don't seem useful at first"
   ]
  },
  {
   "cell_type": "markdown",
   "id": "5362ae06",
   "metadata": {},
   "source": [
    "## Exploring units"
   ]
  },
  {
   "cell_type": "code",
   "execution_count": 143,
   "id": "83b435df",
   "metadata": {},
   "outputs": [
    {
     "data": {
      "image/png": "[encoded data removed]",
      "text/plain": [
       "<Figure size 432x432 with 1 Axes>"
      ]
     },
     "metadata": {
      "needs_background": "light"
     },
     "output_type": "display_data"
    },
    {
     "data": {
      "image/png": "[encoded data removed]",
      "text/plain": [
       "<Figure size 432x432 with 1 Axes>"
      ]
     },
     "metadata": {
      "needs_background": "light"
     },
     "output_type": "display_data"
    },
    {
     "data": {
      "image/png": "[encoded data removed]",
      "text/plain": [
       "<Figure size 432x432 with 1 Axes>"
      ]
     },
     "metadata": {
      "needs_background": "light"
     },
     "output_type": "display_data"
    }
   ],
   "source": [
    "baca.data[\"unit\"].value_counts().sort_values(ascending = True).tail(20).plot(kind = \"barh\",figsize = (6,6),title = \"Unités dans la base carbone\")\n",
    "plt.show()\n",
    "\n",
    "baca.data[\"element_type\"].value_counts().sort_values(ascending = True).tail(20).plot(kind = \"barh\",figsize = (6,6),title = \"Type d'entrées dans la base carbone\")\n",
    "plt.show()\n",
    "\n",
    "baca.data[\"structure\"].value_counts().sort_values(ascending = True).tail(20).plot(kind = \"barh\",figsize = (6,6),title = \"Structures des éléments dans la base carbone\")\n",
    "plt.show()\n"
   ]
  },
  {
   "cell_type": "markdown",
   "id": "fd45405c",
   "metadata": {},
   "source": [
    "## Exploring a few examples"
   ]
  },
  {
   "cell_type": "markdown",
   "id": "6ab3eb40",
   "metadata": {},
   "source": [
    "### Comparison of a trip by plane or train"
   ]
  },
  {
   "cell_type": "code",
   "execution_count": 4,
   "id": "6f1530f1",
   "metadata": {},
   "outputs": [],
   "source": [
    "train = baca.search(\"train\")\n",
    "avion = baca.search(\"avion\")"
   ]
  },
  {
   "cell_type": "code",
   "execution_count": 18,
   "id": "ea240880",
   "metadata": {
    "scrolled": false
   },
   "outputs": [
    {
     "data": {
      "application/vnd.plotly.v1+json": {
       "config": {
        "plotlyServerURL": "https://plot.ly"
       },
       "data": [
        {
         "branchvalues": "total",
         "customdata": [
          [
           14.9,
           "kgCO2e/kg de poids net",
           14.9
          ],
          [
           0.655,
           "kgCO2e/kg de poids net",
           0.655
          ],
          [
           0.122,
           "kgCO2e/kg",
           0.122
          ],
          [
           14.9,
           "kgCO2e/kg de poids net",
           14.9
          ],
          [
           0.655,
           "kgCO2e/kg de poids net",
           0.655
          ],
          [
           0.122,
           "kgCO2e/kg",
           0.122
          ],
          [
           14.9,
           "kgCO2e/kg de poids net",
           14.9
          ],
          [
           0.655,
           "kgCO2e/kg de poids net",
           0.655
          ],
          [
           0.122,
           "kgCO2e/kg",
           0.122
          ],
          [
           0.122,
           "kgCO2e/kg",
           0.122
          ],
          [
           14.9,
           "kgCO2e/kg de poids net",
           14.9
          ],
          [
           0.655,
           "kgCO2e/kg de poids net",
           0.655
          ],
          [
           0.122,
           "kgCO2e/kg",
           0.122
          ],
          [
           14.9,
           "kgCO2e/kg de poids net",
           14.9
          ],
          [
           0.655,
           "kgCO2e/kg de poids net",
           0.655
          ],
          [
           7.7775,
           "kgCO2e/kg de poids net",
           7.7775
          ],
          [
           0.122,
           "kgCO2e/kg",
           0.122
          ],
          [
           7.7775,
           "kgCO2e/kg de poids net",
           7.7775
          ],
          [
           0.122,
           "kgCO2e/kg",
           0.122
          ],
          [
           7.7775,
           "kgCO2e/kg de poids net",
           7.7775
          ],
          [
           0.122,
           "kgCO2e/kg",
           0.122
          ],
          [
           5.225666666666666,
           "(?)",
           5.225666666666666
          ],
          [
           5.225666666666666,
           "(?)",
           5.225666666666666
          ]
         ],
         "domain": {
          "x": [
           0,
           1
          ],
          "y": [
           0,
           1
          ]
         },
         "hovertemplate": "<b>%{label}</b> - Count: %{value}<br>Emissions: %{color}",
         "ids": [
          "all/Achats de biens/Produits agro-alimentaires, plats préparés et boissons/Fruits, légumes, légumineuses et oléagineux/Fruits/Mangue importée par avion/pulpe, crue/ /France continentale/ ",
          "all/Achats de biens/Produits agro-alimentaires, plats préparés et boissons/Fruits, légumes, légumineuses et oléagineux/Fruits/Mangue importée par bateau/pulpe, crue/ /France continentale/ ",
          "all/Achats de biens/Produits de l'agriculture et de la pêche/Produits végétaux/Fruits/Mangue/conventionnel, serre semi fermée,  énergie fatale et biomasse,  avec CO2 liquide, avec recyclage des/Au verger/France continentale/ ",
          "all/Achats de biens/Produits agro-alimentaires, plats préparés et boissons/Fruits, légumes, légumineuses et oléagineux/Fruits/Mangue importée par avion/pulpe, crue/ /France continentale",
          "all/Achats de biens/Produits agro-alimentaires, plats préparés et boissons/Fruits, légumes, légumineuses et oléagineux/Fruits/Mangue importée par bateau/pulpe, crue/ /France continentale",
          "all/Achats de biens/Produits de l'agriculture et de la pêche/Produits végétaux/Fruits/Mangue/conventionnel, serre semi fermée,  énergie fatale et biomasse,  avec CO2 liquide, avec recyclage des/Au verger/France continentale",
          "all/Achats de biens/Produits agro-alimentaires, plats préparés et boissons/Fruits, légumes, légumineuses et oléagineux/Fruits/Mangue importée par avion/pulpe, crue/ ",
          "all/Achats de biens/Produits agro-alimentaires, plats préparés et boissons/Fruits, légumes, légumineuses et oléagineux/Fruits/Mangue importée par bateau/pulpe, crue/ ",
          "all/Achats de biens/Produits de l'agriculture et de la pêche/Produits végétaux/Fruits/Mangue/conventionnel, serre semi fermée,  énergie fatale et biomasse,  avec CO2 liquide, avec recyclage des/Au verger",
          "all/Achats de biens/Produits de l'agriculture et de la pêche/Produits végétaux/Fruits/Mangue/conventionnel, serre semi fermée,  énergie fatale et biomasse,  avec CO2 liquide, avec recyclage des",
          "all/Achats de biens/Produits agro-alimentaires, plats préparés et boissons/Fruits, légumes, légumineuses et oléagineux/Fruits/Mangue importée par avion/pulpe, crue",
          "all/Achats de biens/Produits agro-alimentaires, plats préparés et boissons/Fruits, légumes, légumineuses et oléagineux/Fruits/Mangue importée par bateau/pulpe, crue",
          "all/Achats de biens/Produits de l'agriculture et de la pêche/Produits végétaux/Fruits/Mangue",
          "all/Achats de biens/Produits agro-alimentaires, plats préparés et boissons/Fruits, légumes, légumineuses et oléagineux/Fruits/Mangue importée par avion",
          "all/Achats de biens/Produits agro-alimentaires, plats préparés et boissons/Fruits, légumes, légumineuses et oléagineux/Fruits/Mangue importée par bateau",
          "all/Achats de biens/Produits agro-alimentaires, plats préparés et boissons/Fruits, légumes, légumineuses et oléagineux/Fruits",
          "all/Achats de biens/Produits de l'agriculture et de la pêche/Produits végétaux/Fruits",
          "all/Achats de biens/Produits agro-alimentaires, plats préparés et boissons/Fruits, légumes, légumineuses et oléagineux",
          "all/Achats de biens/Produits de l'agriculture et de la pêche/Produits végétaux",
          "all/Achats de biens/Produits agro-alimentaires, plats préparés et boissons",
          "all/Achats de biens/Produits de l'agriculture et de la pêche",
          "all/Achats de biens",
          "all"
         ],
         "labels": [
          " ",
          " ",
          " ",
          "France continentale",
          "France continentale",
          "France continentale",
          " ",
          " ",
          "Au verger",
          "conventionnel, serre semi fermée,  énergie fatale et biomasse,  avec CO2 liquide, avec recyclage des",
          "pulpe, crue",
          "pulpe, crue",
          "Mangue",
          "Mangue importée par avion",
          "Mangue importée par bateau",
          "Fruits",
          "Fruits",
          "Fruits, légumes, légumineuses et oléagineux",
          "Produits végétaux",
          "Produits agro-alimentaires, plats préparés et boissons",
          "Produits de l'agriculture et de la pêche",
          "Achats de biens",
          "all"
         ],
         "marker": {
          "coloraxis": "coloraxis",
          "colors": [
           14.9,
           0.655,
           0.122,
           14.9,
           0.655,
           0.122,
           14.9,
           0.655,
           0.122,
           0.122,
           14.9,
           0.655,
           0.122,
           14.9,
           0.655,
           7.7775,
           0.122,
           7.7775,
           0.122,
           7.7775,
           0.122,
           5.225666666666666,
           5.225666666666666
          ]
         },
         "maxdepth": 6,
         "name": "",
         "parents": [
          "all/Achats de biens/Produits agro-alimentaires, plats préparés et boissons/Fruits, légumes, légumineuses et oléagineux/Fruits/Mangue importée par avion/pulpe, crue/ /France continentale",
          "all/Achats de biens/Produits agro-alimentaires, plats préparés et boissons/Fruits, légumes, légumineuses et oléagineux/Fruits/Mangue importée par bateau/pulpe, crue/ /France continentale",
          "all/Achats de biens/Produits de l'agriculture et de la pêche/Produits végétaux/Fruits/Mangue/conventionnel, serre semi fermée,  énergie fatale et biomasse,  avec CO2 liquide, avec recyclage des/Au verger/France continentale",
          "all/Achats de biens/Produits agro-alimentaires, plats préparés et boissons/Fruits, légumes, légumineuses et oléagineux/Fruits/Mangue importée par avion/pulpe, crue/ ",
          "all/Achats de biens/Produits agro-alimentaires, plats préparés et boissons/Fruits, légumes, légumineuses et oléagineux/Fruits/Mangue importée par bateau/pulpe, crue/ ",
          "all/Achats de biens/Produits de l'agriculture et de la pêche/Produits végétaux/Fruits/Mangue/conventionnel, serre semi fermée,  énergie fatale et biomasse,  avec CO2 liquide, avec recyclage des/Au verger",
          "all/Achats de biens/Produits agro-alimentaires, plats préparés et boissons/Fruits, légumes, légumineuses et oléagineux/Fruits/Mangue importée par avion/pulpe, crue",
          "all/Achats de biens/Produits agro-alimentaires, plats préparés et boissons/Fruits, légumes, légumineuses et oléagineux/Fruits/Mangue importée par bateau/pulpe, crue",
          "all/Achats de biens/Produits de l'agriculture et de la pêche/Produits végétaux/Fruits/Mangue/conventionnel, serre semi fermée,  énergie fatale et biomasse,  avec CO2 liquide, avec recyclage des",
          "all/Achats de biens/Produits de l'agriculture et de la pêche/Produits végétaux/Fruits/Mangue",
          "all/Achats de biens/Produits agro-alimentaires, plats préparés et boissons/Fruits, légumes, légumineuses et oléagineux/Fruits/Mangue importée par avion",
          "all/Achats de biens/Produits agro-alimentaires, plats préparés et boissons/Fruits, légumes, légumineuses et oléagineux/Fruits/Mangue importée par bateau",
          "all/Achats de biens/Produits de l'agriculture et de la pêche/Produits végétaux/Fruits",
          "all/Achats de biens/Produits agro-alimentaires, plats préparés et boissons/Fruits, légumes, légumineuses et oléagineux/Fruits",
          "all/Achats de biens/Produits agro-alimentaires, plats préparés et boissons/Fruits, légumes, légumineuses et oléagineux/Fruits",
          "all/Achats de biens/Produits agro-alimentaires, plats préparés et boissons/Fruits, légumes, légumineuses et oléagineux",
          "all/Achats de biens/Produits de l'agriculture et de la pêche/Produits végétaux",
          "all/Achats de biens/Produits agro-alimentaires, plats préparés et boissons",
          "all/Achats de biens/Produits de l'agriculture et de la pêche",
          "all/Achats de biens",
          "all/Achats de biens",
          "all",
          ""
         ],
         "root": {
          "color": "lightgrey"
         },
         "type": "treemap",
         "values": [
          1,
          1,
          1,
          1,
          1,
          1,
          1,
          1,
          1,
          1,
          1,
          1,
          1,
          1,
          1,
          2,
          1,
          2,
          1,
          2,
          1,
          3,
          3
         ]
        }
       ],
       "layout": {
        "coloraxis": {
         "colorbar": {
          "title": {
           "text": "emissions"
          }
         },
         "colorscale": [
          [
           0,
           "rgb(5,48,97)"
          ],
          [
           0.1,
           "rgb(33,102,172)"
          ],
          [
           0.2,
           "rgb(67,147,195)"
          ],
          [
           0.3,
           "rgb(146,197,222)"
          ],
          [
           0.4,
           "rgb(209,229,240)"
          ],
          [
           0.5,
           "rgb(247,247,247)"
          ],
          [
           0.6,
           "rgb(253,219,199)"
          ],
          [
           0.7,
           "rgb(244,165,130)"
          ],
          [
           0.8,
           "rgb(214,96,77)"
          ],
          [
           0.9,
           "rgb(178,24,43)"
          ],
          [
           1,
           "rgb(103,0,31)"
          ]
         ]
        },
        "height": 800,
        "legend": {
         "tracegroupgap": 0
        },
        "margin": {
         "t": 60
        },
        "template": {
         "data": {
          "bar": [
           {
            "error_x": {
             "color": "#2a3f5f"
            },
            "error_y": {
             "color": "#2a3f5f"
            },
            "marker": {
             "line": {
              "color": "#E5ECF6",
              "width": 0.5
             },
             "pattern": {
              "fillmode": "overlay",
              "size": 10,
              "solidity": 0.2
             }
            },
            "type": "bar"
           }
          ],
          "barpolar": [
           {
            "marker": {
             "line": {
              "color": "#E5ECF6",
              "width": 0.5
             },
             "pattern": {
              "fillmode": "overlay",
              "size": 10,
              "solidity": 0.2
             }
            },
            "type": "barpolar"
           }
          ],
          "carpet": [
           {
            "aaxis": {
             "endlinecolor": "#2a3f5f",
             "gridcolor": "white",
             "linecolor": "white",
             "minorgridcolor": "white",
             "startlinecolor": "#2a3f5f"
            },
            "baxis": {
             "endlinecolor": "#2a3f5f",
             "gridcolor": "white",
             "linecolor": "white",
             "minorgridcolor": "white",
             "startlinecolor": "#2a3f5f"
            },
            "type": "carpet"
           }
          ],
          "choropleth": [
           {
            "colorbar": {
             "outlinewidth": 0,
             "ticks": ""
            },
            "type": "choropleth"
           }
          ],
          "contour": [
           {
            "colorbar": {
             "outlinewidth": 0,
             "ticks": ""
            },
            "colorscale": [
             [
              0,
              "#0d0887"
             ],
             [
              0.1111111111111111,
              "#46039f"
             ],
             [
              0.2222222222222222,
              "#7201a8"
             ],
             [
              0.3333333333333333,
              "#9c179e"
             ],
             [
              0.4444444444444444,
              "#bd3786"
             ],
             [
              0.5555555555555556,
              "#d8576b"
             ],
             [
              0.6666666666666666,
              "#ed7953"
             ],
             [
              0.7777777777777778,
              "#fb9f3a"
             ],
             [
              0.8888888888888888,
              "#fdca26"
             ],
             [
              1,
              "#f0f921"
             ]
            ],
            "type": "contour"
           }
          ],
          "contourcarpet": [
           {
            "colorbar": {
             "outlinewidth": 0,
             "ticks": ""
            },
            "type": "contourcarpet"
           }
          ],
          "heatmap": [
           {
            "colorbar": {
             "outlinewidth": 0,
             "ticks": ""
            },
            "colorscale": [
             [
              0,
              "#0d0887"
             ],
             [
              0.1111111111111111,
              "#46039f"
             ],
             [
              0.2222222222222222,
              "#7201a8"
             ],
             [
              0.3333333333333333,
              "#9c179e"
             ],
             [
              0.4444444444444444,
              "#bd3786"
             ],
             [
              0.5555555555555556,
              "#d8576b"
             ],
             [
              0.6666666666666666,
              "#ed7953"
             ],
             [
              0.7777777777777778,
              "#fb9f3a"
             ],
             [
              0.8888888888888888,
              "#fdca26"
             ],
             [
              1,
              "#f0f921"
             ]
            ],
            "type": "heatmap"
           }
          ],
          "heatmapgl": [
           {
            "colorbar": {
             "outlinewidth": 0,
             "ticks": ""
            },
            "colorscale": [
             [
              0,
              "#0d0887"
             ],
             [
              0.1111111111111111,
              "#46039f"
             ],
             [
              0.2222222222222222,
              "#7201a8"
             ],
             [
              0.3333333333333333,
              "#9c179e"
             ],
             [
              0.4444444444444444,
              "#bd3786"
             ],
             [
              0.5555555555555556,
              "#d8576b"
             ],
             [
              0.6666666666666666,
              "#ed7953"
             ],
             [
              0.7777777777777778,
              "#fb9f3a"
             ],
             [
              0.8888888888888888,
              "#fdca26"
             ],
             [
              1,
              "#f0f921"
             ]
            ],
            "type": "heatmapgl"
           }
          ],
          "histogram": [
           {
            "marker": {
             "pattern": {
              "fillmode": "overlay",
              "size": 10,
              "solidity": 0.2
             }
            },
            "type": "histogram"
           }
          ],
          "histogram2d": [
           {
            "colorbar": {
             "outlinewidth": 0,
             "ticks": ""
            },
            "colorscale": [
             [
              0,
              "#0d0887"
             ],
             [
              0.1111111111111111,
              "#46039f"
             ],
             [
              0.2222222222222222,
              "#7201a8"
             ],
             [
              0.3333333333333333,
              "#9c179e"
             ],
             [
              0.4444444444444444,
              "#bd3786"
             ],
             [
              0.5555555555555556,
              "#d8576b"
             ],
             [
              0.6666666666666666,
              "#ed7953"
             ],
             [
              0.7777777777777778,
              "#fb9f3a"
             ],
             [
              0.8888888888888888,
              "#fdca26"
             ],
             [
              1,
              "#f0f921"
             ]
            ],
            "type": "histogram2d"
           }
          ],
          "histogram2dcontour": [
           {
            "colorbar": {
             "outlinewidth": 0,
             "ticks": ""
            },
            "colorscale": [
             [
              0,
              "#0d0887"
             ],
             [
              0.1111111111111111,
              "#46039f"
             ],
             [
              0.2222222222222222,
              "#7201a8"
             ],
             [
              0.3333333333333333,
              "#9c179e"
             ],
             [
              0.4444444444444444,
              "#bd3786"
             ],
             [
              0.5555555555555556,
              "#d8576b"
             ],
             [
              0.6666666666666666,
              "#ed7953"
             ],
             [
              0.7777777777777778,
              "#fb9f3a"
             ],
             [
              0.8888888888888888,
              "#fdca26"
             ],
             [
              1,
              "#f0f921"
             ]
            ],
            "type": "histogram2dcontour"
           }
          ],
          "mesh3d": [
           {
            "colorbar": {
             "outlinewidth": 0,
             "ticks": ""
            },
            "type": "mesh3d"
           }
          ],
          "parcoords": [
           {
            "line": {
             "colorbar": {
              "outlinewidth": 0,
              "ticks": ""
             }
            },
            "type": "parcoords"
           }
          ],
          "pie": [
           {
            "automargin": true,
            "type": "pie"
           }
          ],
          "scatter": [
           {
            "marker": {
             "colorbar": {
              "outlinewidth": 0,
              "ticks": ""
             }
            },
            "type": "scatter"
           }
          ],
          "scatter3d": [
           {
            "line": {
             "colorbar": {
              "outlinewidth": 0,
              "ticks": ""
             }
            },
            "marker": {
             "colorbar": {
              "outlinewidth": 0,
              "ticks": ""
             }
            },
            "type": "scatter3d"
           }
          ],
          "scattercarpet": [
           {
            "marker": {
             "colorbar": {
              "outlinewidth": 0,
              "ticks": ""
             }
            },
            "type": "scattercarpet"
           }
          ],
          "scattergeo": [
           {
            "marker": {
             "colorbar": {
              "outlinewidth": 0,
              "ticks": ""
             }
            },
            "type": "scattergeo"
           }
          ],
          "scattergl": [
           {
            "marker": {
             "colorbar": {
              "outlinewidth": 0,
              "ticks": ""
             }
            },
            "type": "scattergl"
           }
          ],
          "scattermapbox": [
           {
            "marker": {
             "colorbar": {
              "outlinewidth": 0,
              "ticks": ""
             }
            },
            "type": "scattermapbox"
           }
          ],
          "scatterpolar": [
           {
            "marker": {
             "colorbar": {
              "outlinewidth": 0,
              "ticks": ""
             }
            },
            "type": "scatterpolar"
           }
          ],
          "scatterpolargl": [
           {
            "marker": {
             "colorbar": {
              "outlinewidth": 0,
              "ticks": ""
             }
            },
            "type": "scatterpolargl"
           }
          ],
          "scatterternary": [
           {
            "marker": {
             "colorbar": {
              "outlinewidth": 0,
              "ticks": ""
             }
            },
            "type": "scatterternary"
           }
          ],
          "surface": [
           {
            "colorbar": {
             "outlinewidth": 0,
             "ticks": ""
            },
            "colorscale": [
             [
              0,
              "#0d0887"
             ],
             [
              0.1111111111111111,
              "#46039f"
             ],
             [
              0.2222222222222222,
              "#7201a8"
             ],
             [
              0.3333333333333333,
              "#9c179e"
             ],
             [
              0.4444444444444444,
              "#bd3786"
             ],
             [
              0.5555555555555556,
              "#d8576b"
             ],
             [
              0.6666666666666666,
              "#ed7953"
             ],
             [
              0.7777777777777778,
              "#fb9f3a"
             ],
             [
              0.8888888888888888,
              "#fdca26"
             ],
             [
              1,
              "#f0f921"
             ]
            ],
            "type": "surface"
           }
          ],
          "table": [
           {
            "cells": {
             "fill": {
              "color": "#EBF0F8"
             },
             "line": {
              "color": "white"
             }
            },
            "header": {
             "fill": {
              "color": "#C8D4E3"
             },
             "line": {
              "color": "white"
             }
            },
            "type": "table"
           }
          ]
         },
         "layout": {
          "annotationdefaults": {
           "arrowcolor": "#2a3f5f",
           "arrowhead": 0,
           "arrowwidth": 1
          },
          "autotypenumbers": "strict",
          "coloraxis": {
           "colorbar": {
            "outlinewidth": 0,
            "ticks": ""
           }
          },
          "colorscale": {
           "diverging": [
            [
             0,
             "#8e0152"
            ],
            [
             0.1,
             "#c51b7d"
            ],
            [
             0.2,
             "#de77ae"
            ],
            [
             0.3,
             "#f1b6da"
            ],
            [
             0.4,
             "#fde0ef"
            ],
            [
             0.5,
             "#f7f7f7"
            ],
            [
             0.6,
             "#e6f5d0"
            ],
            [
             0.7,
             "#b8e186"
            ],
            [
             0.8,
             "#7fbc41"
            ],
            [
             0.9,
             "#4d9221"
            ],
            [
             1,
             "#276419"
            ]
           ],
           "sequential": [
            [
             0,
             "#0d0887"
            ],
            [
             0.1111111111111111,
             "#46039f"
            ],
            [
             0.2222222222222222,
             "#7201a8"
            ],
            [
             0.3333333333333333,
             "#9c179e"
            ],
            [
             0.4444444444444444,
             "#bd3786"
            ],
            [
             0.5555555555555556,
             "#d8576b"
            ],
            [
             0.6666666666666666,
             "#ed7953"
            ],
            [
             0.7777777777777778,
             "#fb9f3a"
            ],
            [
             0.8888888888888888,
             "#fdca26"
            ],
            [
             1,
             "#f0f921"
            ]
           ],
           "sequentialminus": [
            [
             0,
             "#0d0887"
            ],
            [
             0.1111111111111111,
             "#46039f"
            ],
            [
             0.2222222222222222,
             "#7201a8"
            ],
            [
             0.3333333333333333,
             "#9c179e"
            ],
            [
             0.4444444444444444,
             "#bd3786"
            ],
            [
             0.5555555555555556,
             "#d8576b"
            ],
            [
             0.6666666666666666,
             "#ed7953"
            ],
            [
             0.7777777777777778,
             "#fb9f3a"
            ],
            [
             0.8888888888888888,
             "#fdca26"
            ],
            [
             1,
             "#f0f921"
            ]
           ]
          },
          "colorway": [
           "#636efa",
           "#EF553B",
           "#00cc96",
           "#ab63fa",
           "#FFA15A",
           "#19d3f3",
           "#FF6692",
           "#B6E880",
           "#FF97FF",
           "#FECB52"
          ],
          "font": {
           "color": "#2a3f5f"
          },
          "geo": {
           "bgcolor": "white",
           "lakecolor": "white",
           "landcolor": "#E5ECF6",
           "showlakes": true,
           "showland": true,
           "subunitcolor": "white"
          },
          "hoverlabel": {
           "align": "left"
          },
          "hovermode": "closest",
          "mapbox": {
           "style": "light"
          },
          "paper_bgcolor": "white",
          "plot_bgcolor": "#E5ECF6",
          "polar": {
           "angularaxis": {
            "gridcolor": "white",
            "linecolor": "white",
            "ticks": ""
           },
           "bgcolor": "#E5ECF6",
           "radialaxis": {
            "gridcolor": "white",
            "linecolor": "white",
            "ticks": ""
           }
          },
          "scene": {
           "xaxis": {
            "backgroundcolor": "#E5ECF6",
            "gridcolor": "white",
            "gridwidth": 2,
            "linecolor": "white",
            "showbackground": true,
            "ticks": "",
            "zerolinecolor": "white"
           },
           "yaxis": {
            "backgroundcolor": "#E5ECF6",
            "gridcolor": "white",
            "gridwidth": 2,
            "linecolor": "white",
            "showbackground": true,
            "ticks": "",
            "zerolinecolor": "white"
           },
           "zaxis": {
            "backgroundcolor": "#E5ECF6",
            "gridcolor": "white",
            "gridwidth": 2,
            "linecolor": "white",
            "showbackground": true,
            "ticks": "",
            "zerolinecolor": "white"
           }
          },
          "shapedefaults": {
           "line": {
            "color": "#2a3f5f"
           }
          },
          "ternary": {
           "aaxis": {
            "gridcolor": "white",
            "linecolor": "white",
            "ticks": ""
           },
           "baxis": {
            "gridcolor": "white",
            "linecolor": "white",
            "ticks": ""
           },
           "bgcolor": "#E5ECF6",
           "caxis": {
            "gridcolor": "white",
            "linecolor": "white",
            "ticks": ""
           }
          },
          "title": {
           "x": 0.05
          },
          "xaxis": {
           "automargin": true,
           "gridcolor": "white",
           "linecolor": "white",
           "ticks": "",
           "title": {
            "standoff": 15
           },
           "zerolinecolor": "white",
           "zerolinewidth": 2
          },
          "yaxis": {
           "automargin": true,
           "gridcolor": "white",
           "linecolor": "white",
           "ticks": "",
           "title": {
            "standoff": 15
           },
           "zerolinecolor": "white",
           "zerolinewidth": 2
          }
         }
        },
        "title": {
         "text": "Base Carbone results for query='mangue'"
        }
       }
      },
      "text/html": [
       "<div>                            <div id=\"d40239a5-6820-4b63-8023-a4bd14496bbf\" class=\"plotly-graph-div\" style=\"height:800px; width:100%;\"></div>            <script type=\"text/javascript\">                require([\"plotly\"], function(Plotly) {                    window.PLOTLYENV=window.PLOTLYENV || {};                                    if (document.getElementById(\"d40239a5-6820-4b63-8023-a4bd14496bbf\")) {                    Plotly.newPlot(                        \"d40239a5-6820-4b63-8023-a4bd14496bbf\",                        [{\"branchvalues\":\"total\",\"customdata\":[[14.9,\"kgCO2e/kg de poids net\",14.9],[0.655,\"kgCO2e/kg de poids net\",0.655],[0.122,\"kgCO2e/kg\",0.122],[14.9,\"kgCO2e/kg de poids net\",14.9],[0.655,\"kgCO2e/kg de poids net\",0.655],[0.122,\"kgCO2e/kg\",0.122],[14.9,\"kgCO2e/kg de poids net\",14.9],[0.655,\"kgCO2e/kg de poids net\",0.655],[0.122,\"kgCO2e/kg\",0.122],[0.122,\"kgCO2e/kg\",0.122],[14.9,\"kgCO2e/kg de poids net\",14.9],[0.655,\"kgCO2e/kg de poids net\",0.655],[0.122,\"kgCO2e/kg\",0.122],[14.9,\"kgCO2e/kg de poids net\",14.9],[0.655,\"kgCO2e/kg de poids net\",0.655],[7.7775,\"kgCO2e/kg de poids net\",7.7775],[0.122,\"kgCO2e/kg\",0.122],[7.7775,\"kgCO2e/kg de poids net\",7.7775],[0.122,\"kgCO2e/kg\",0.122],[7.7775,\"kgCO2e/kg de poids net\",7.7775],[0.122,\"kgCO2e/kg\",0.122],[5.225666666666666,\"(?)\",5.225666666666666],[5.225666666666666,\"(?)\",5.225666666666666]],\"domain\":{\"x\":[0.0,1.0],\"y\":[0.0,1.0]},\"hovertemplate\":\"<b>%{label}</b> - Count: %{value}<br>Emissions: %{color}\",\"ids\":[\"all/Achats de biens/Produits agro-alimentaires, plats pr\\u00e9par\\u00e9s et boissons/Fruits, l\\u00e9gumes, l\\u00e9gumineuses et ol\\u00e9agineux/Fruits/Mangue import\\u00e9e par avion/pulpe, crue/ /France continentale/ \",\"all/Achats de biens/Produits agro-alimentaires, plats pr\\u00e9par\\u00e9s et boissons/Fruits, l\\u00e9gumes, l\\u00e9gumineuses et ol\\u00e9agineux/Fruits/Mangue import\\u00e9e par bateau/pulpe, crue/ /France continentale/ \",\"all/Achats de biens/Produits de l'agriculture et de la p\\u00eache/Produits v\\u00e9g\\u00e9taux/Fruits/Mangue/conventionnel, serre semi ferm\\u00e9e,  \\u00e9nergie fatale et biomasse,  avec CO2 liquide, avec recyclage des/Au verger/France continentale/ \",\"all/Achats de biens/Produits agro-alimentaires, plats pr\\u00e9par\\u00e9s et boissons/Fruits, l\\u00e9gumes, l\\u00e9gumineuses et ol\\u00e9agineux/Fruits/Mangue import\\u00e9e par avion/pulpe, crue/ /France continentale\",\"all/Achats de biens/Produits agro-alimentaires, plats pr\\u00e9par\\u00e9s et boissons/Fruits, l\\u00e9gumes, l\\u00e9gumineuses et ol\\u00e9agineux/Fruits/Mangue import\\u00e9e par bateau/pulpe, crue/ /France continentale\",\"all/Achats de biens/Produits de l'agriculture et de la p\\u00eache/Produits v\\u00e9g\\u00e9taux/Fruits/Mangue/conventionnel, serre semi ferm\\u00e9e,  \\u00e9nergie fatale et biomasse,  avec CO2 liquide, avec recyclage des/Au verger/France continentale\",\"all/Achats de biens/Produits agro-alimentaires, plats pr\\u00e9par\\u00e9s et boissons/Fruits, l\\u00e9gumes, l\\u00e9gumineuses et ol\\u00e9agineux/Fruits/Mangue import\\u00e9e par avion/pulpe, crue/ \",\"all/Achats de biens/Produits agro-alimentaires, plats pr\\u00e9par\\u00e9s et boissons/Fruits, l\\u00e9gumes, l\\u00e9gumineuses et ol\\u00e9agineux/Fruits/Mangue import\\u00e9e par bateau/pulpe, crue/ \",\"all/Achats de biens/Produits de l'agriculture et de la p\\u00eache/Produits v\\u00e9g\\u00e9taux/Fruits/Mangue/conventionnel, serre semi ferm\\u00e9e,  \\u00e9nergie fatale et biomasse,  avec CO2 liquide, avec recyclage des/Au verger\",\"all/Achats de biens/Produits de l'agriculture et de la p\\u00eache/Produits v\\u00e9g\\u00e9taux/Fruits/Mangue/conventionnel, serre semi ferm\\u00e9e,  \\u00e9nergie fatale et biomasse,  avec CO2 liquide, avec recyclage des\",\"all/Achats de biens/Produits agro-alimentaires, plats pr\\u00e9par\\u00e9s et boissons/Fruits, l\\u00e9gumes, l\\u00e9gumineuses et ol\\u00e9agineux/Fruits/Mangue import\\u00e9e par avion/pulpe, crue\",\"all/Achats de biens/Produits agro-alimentaires, plats pr\\u00e9par\\u00e9s et boissons/Fruits, l\\u00e9gumes, l\\u00e9gumineuses et ol\\u00e9agineux/Fruits/Mangue import\\u00e9e par bateau/pulpe, crue\",\"all/Achats de biens/Produits de l'agriculture et de la p\\u00eache/Produits v\\u00e9g\\u00e9taux/Fruits/Mangue\",\"all/Achats de biens/Produits agro-alimentaires, plats pr\\u00e9par\\u00e9s et boissons/Fruits, l\\u00e9gumes, l\\u00e9gumineuses et ol\\u00e9agineux/Fruits/Mangue import\\u00e9e par avion\",\"all/Achats de biens/Produits agro-alimentaires, plats pr\\u00e9par\\u00e9s et boissons/Fruits, l\\u00e9gumes, l\\u00e9gumineuses et ol\\u00e9agineux/Fruits/Mangue import\\u00e9e par bateau\",\"all/Achats de biens/Produits agro-alimentaires, plats pr\\u00e9par\\u00e9s et boissons/Fruits, l\\u00e9gumes, l\\u00e9gumineuses et ol\\u00e9agineux/Fruits\",\"all/Achats de biens/Produits de l'agriculture et de la p\\u00eache/Produits v\\u00e9g\\u00e9taux/Fruits\",\"all/Achats de biens/Produits agro-alimentaires, plats pr\\u00e9par\\u00e9s et boissons/Fruits, l\\u00e9gumes, l\\u00e9gumineuses et ol\\u00e9agineux\",\"all/Achats de biens/Produits de l'agriculture et de la p\\u00eache/Produits v\\u00e9g\\u00e9taux\",\"all/Achats de biens/Produits agro-alimentaires, plats pr\\u00e9par\\u00e9s et boissons\",\"all/Achats de biens/Produits de l'agriculture et de la p\\u00eache\",\"all/Achats de biens\",\"all\"],\"labels\":[\" \",\" \",\" \",\"France continentale\",\"France continentale\",\"France continentale\",\" \",\" \",\"Au verger\",\"conventionnel, serre semi ferm\\u00e9e,  \\u00e9nergie fatale et biomasse,  avec CO2 liquide, avec recyclage des\",\"pulpe, crue\",\"pulpe, crue\",\"Mangue\",\"Mangue import\\u00e9e par avion\",\"Mangue import\\u00e9e par bateau\",\"Fruits\",\"Fruits\",\"Fruits, l\\u00e9gumes, l\\u00e9gumineuses et ol\\u00e9agineux\",\"Produits v\\u00e9g\\u00e9taux\",\"Produits agro-alimentaires, plats pr\\u00e9par\\u00e9s et boissons\",\"Produits de l'agriculture et de la p\\u00eache\",\"Achats de biens\",\"all\"],\"marker\":{\"coloraxis\":\"coloraxis\",\"colors\":[14.9,0.655,0.122,14.9,0.655,0.122,14.9,0.655,0.122,0.122,14.9,0.655,0.122,14.9,0.655,7.7775,0.122,7.7775,0.122,7.7775,0.122,5.225666666666666,5.225666666666666]},\"maxdepth\":6,\"name\":\"\",\"parents\":[\"all/Achats de biens/Produits agro-alimentaires, plats pr\\u00e9par\\u00e9s et boissons/Fruits, l\\u00e9gumes, l\\u00e9gumineuses et ol\\u00e9agineux/Fruits/Mangue import\\u00e9e par avion/pulpe, crue/ /France continentale\",\"all/Achats de biens/Produits agro-alimentaires, plats pr\\u00e9par\\u00e9s et boissons/Fruits, l\\u00e9gumes, l\\u00e9gumineuses et ol\\u00e9agineux/Fruits/Mangue import\\u00e9e par bateau/pulpe, crue/ /France continentale\",\"all/Achats de biens/Produits de l'agriculture et de la p\\u00eache/Produits v\\u00e9g\\u00e9taux/Fruits/Mangue/conventionnel, serre semi ferm\\u00e9e,  \\u00e9nergie fatale et biomasse,  avec CO2 liquide, avec recyclage des/Au verger/France continentale\",\"all/Achats de biens/Produits agro-alimentaires, plats pr\\u00e9par\\u00e9s et boissons/Fruits, l\\u00e9gumes, l\\u00e9gumineuses et ol\\u00e9agineux/Fruits/Mangue import\\u00e9e par avion/pulpe, crue/ \",\"all/Achats de biens/Produits agro-alimentaires, plats pr\\u00e9par\\u00e9s et boissons/Fruits, l\\u00e9gumes, l\\u00e9gumineuses et ol\\u00e9agineux/Fruits/Mangue import\\u00e9e par bateau/pulpe, crue/ \",\"all/Achats de biens/Produits de l'agriculture et de la p\\u00eache/Produits v\\u00e9g\\u00e9taux/Fruits/Mangue/conventionnel, serre semi ferm\\u00e9e,  \\u00e9nergie fatale et biomasse,  avec CO2 liquide, avec recyclage des/Au verger\",\"all/Achats de biens/Produits agro-alimentaires, plats pr\\u00e9par\\u00e9s et boissons/Fruits, l\\u00e9gumes, l\\u00e9gumineuses et ol\\u00e9agineux/Fruits/Mangue import\\u00e9e par avion/pulpe, crue\",\"all/Achats de biens/Produits agro-alimentaires, plats pr\\u00e9par\\u00e9s et boissons/Fruits, l\\u00e9gumes, l\\u00e9gumineuses et ol\\u00e9agineux/Fruits/Mangue import\\u00e9e par bateau/pulpe, crue\",\"all/Achats de biens/Produits de l'agriculture et de la p\\u00eache/Produits v\\u00e9g\\u00e9taux/Fruits/Mangue/conventionnel, serre semi ferm\\u00e9e,  \\u00e9nergie fatale et biomasse,  avec CO2 liquide, avec recyclage des\",\"all/Achats de biens/Produits de l'agriculture et de la p\\u00eache/Produits v\\u00e9g\\u00e9taux/Fruits/Mangue\",\"all/Achats de biens/Produits agro-alimentaires, plats pr\\u00e9par\\u00e9s et boissons/Fruits, l\\u00e9gumes, l\\u00e9gumineuses et ol\\u00e9agineux/Fruits/Mangue import\\u00e9e par avion\",\"all/Achats de biens/Produits agro-alimentaires, plats pr\\u00e9par\\u00e9s et boissons/Fruits, l\\u00e9gumes, l\\u00e9gumineuses et ol\\u00e9agineux/Fruits/Mangue import\\u00e9e par bateau\",\"all/Achats de biens/Produits de l'agriculture et de la p\\u00eache/Produits v\\u00e9g\\u00e9taux/Fruits\",\"all/Achats de biens/Produits agro-alimentaires, plats pr\\u00e9par\\u00e9s et boissons/Fruits, l\\u00e9gumes, l\\u00e9gumineuses et ol\\u00e9agineux/Fruits\",\"all/Achats de biens/Produits agro-alimentaires, plats pr\\u00e9par\\u00e9s et boissons/Fruits, l\\u00e9gumes, l\\u00e9gumineuses et ol\\u00e9agineux/Fruits\",\"all/Achats de biens/Produits agro-alimentaires, plats pr\\u00e9par\\u00e9s et boissons/Fruits, l\\u00e9gumes, l\\u00e9gumineuses et ol\\u00e9agineux\",\"all/Achats de biens/Produits de l'agriculture et de la p\\u00eache/Produits v\\u00e9g\\u00e9taux\",\"all/Achats de biens/Produits agro-alimentaires, plats pr\\u00e9par\\u00e9s et boissons\",\"all/Achats de biens/Produits de l'agriculture et de la p\\u00eache\",\"all/Achats de biens\",\"all/Achats de biens\",\"all\",\"\"],\"root\":{\"color\":\"lightgrey\"},\"type\":\"treemap\",\"values\":[1,1,1,1,1,1,1,1,1,1,1,1,1,1,1,2,1,2,1,2,1,3,3]}],                        {\"coloraxis\":{\"colorbar\":{\"title\":{\"text\":\"emissions\"}},\"colorscale\":[[0.0,\"rgb(5,48,97)\"],[0.1,\"rgb(33,102,172)\"],[0.2,\"rgb(67,147,195)\"],[0.3,\"rgb(146,197,222)\"],[0.4,\"rgb(209,229,240)\"],[0.5,\"rgb(247,247,247)\"],[0.6,\"rgb(253,219,199)\"],[0.7,\"rgb(244,165,130)\"],[0.8,\"rgb(214,96,77)\"],[0.9,\"rgb(178,24,43)\"],[1.0,\"rgb(103,0,31)\"]]},\"height\":800,\"legend\":{\"tracegroupgap\":0},\"margin\":{\"t\":60},\"template\":{\"data\":{\"bar\":[{\"error_x\":{\"color\":\"#2a3f5f\"},\"error_y\":{\"color\":\"#2a3f5f\"},\"marker\":{\"line\":{\"color\":\"#E5ECF6\",\"width\":0.5},\"pattern\":{\"fillmode\":\"overlay\",\"size\":10,\"solidity\":0.2}},\"type\":\"bar\"}],\"barpolar\":[{\"marker\":{\"line\":{\"color\":\"#E5ECF6\",\"width\":0.5},\"pattern\":{\"fillmode\":\"overlay\",\"size\":10,\"solidity\":0.2}},\"type\":\"barpolar\"}],\"carpet\":[{\"aaxis\":{\"endlinecolor\":\"#2a3f5f\",\"gridcolor\":\"white\",\"linecolor\":\"white\",\"minorgridcolor\":\"white\",\"startlinecolor\":\"#2a3f5f\"},\"baxis\":{\"endlinecolor\":\"#2a3f5f\",\"gridcolor\":\"white\",\"linecolor\":\"white\",\"minorgridcolor\":\"white\",\"startlinecolor\":\"#2a3f5f\"},\"type\":\"carpet\"}],\"choropleth\":[{\"colorbar\":{\"outlinewidth\":0,\"ticks\":\"\"},\"type\":\"choropleth\"}],\"contour\":[{\"colorbar\":{\"outlinewidth\":0,\"ticks\":\"\"},\"colorscale\":[[0.0,\"#0d0887\"],[0.1111111111111111,\"#46039f\"],[0.2222222222222222,\"#7201a8\"],[0.3333333333333333,\"#9c179e\"],[0.4444444444444444,\"#bd3786\"],[0.5555555555555556,\"#d8576b\"],[0.6666666666666666,\"#ed7953\"],[0.7777777777777778,\"#fb9f3a\"],[0.8888888888888888,\"#fdca26\"],[1.0,\"#f0f921\"]],\"type\":\"contour\"}],\"contourcarpet\":[{\"colorbar\":{\"outlinewidth\":0,\"ticks\":\"\"},\"type\":\"contourcarpet\"}],\"heatmap\":[{\"colorbar\":{\"outlinewidth\":0,\"ticks\":\"\"},\"colorscale\":[[0.0,\"#0d0887\"],[0.1111111111111111,\"#46039f\"],[0.2222222222222222,\"#7201a8\"],[0.3333333333333333,\"#9c179e\"],[0.4444444444444444,\"#bd3786\"],[0.5555555555555556,\"#d8576b\"],[0.6666666666666666,\"#ed7953\"],[0.7777777777777778,\"#fb9f3a\"],[0.8888888888888888,\"#fdca26\"],[1.0,\"#f0f921\"]],\"type\":\"heatmap\"}],\"heatmapgl\":[{\"colorbar\":{\"outlinewidth\":0,\"ticks\":\"\"},\"colorscale\":[[0.0,\"#0d0887\"],[0.1111111111111111,\"#46039f\"],[0.2222222222222222,\"#7201a8\"],[0.3333333333333333,\"#9c179e\"],[0.4444444444444444,\"#bd3786\"],[0.5555555555555556,\"#d8576b\"],[0.6666666666666666,\"#ed7953\"],[0.7777777777777778,\"#fb9f3a\"],[0.8888888888888888,\"#fdca26\"],[1.0,\"#f0f921\"]],\"type\":\"heatmapgl\"}],\"histogram\":[{\"marker\":{\"pattern\":{\"fillmode\":\"overlay\",\"size\":10,\"solidity\":0.2}},\"type\":\"histogram\"}],\"histogram2d\":[{\"colorbar\":{\"outlinewidth\":0,\"ticks\":\"\"},\"colorscale\":[[0.0,\"#0d0887\"],[0.1111111111111111,\"#46039f\"],[0.2222222222222222,\"#7201a8\"],[0.3333333333333333,\"#9c179e\"],[0.4444444444444444,\"#bd3786\"],[0.5555555555555556,\"#d8576b\"],[0.6666666666666666,\"#ed7953\"],[0.7777777777777778,\"#fb9f3a\"],[0.8888888888888888,\"#fdca26\"],[1.0,\"#f0f921\"]],\"type\":\"histogram2d\"}],\"histogram2dcontour\":[{\"colorbar\":{\"outlinewidth\":0,\"ticks\":\"\"},\"colorscale\":[[0.0,\"#0d0887\"],[0.1111111111111111,\"#46039f\"],[0.2222222222222222,\"#7201a8\"],[0.3333333333333333,\"#9c179e\"],[0.4444444444444444,\"#bd3786\"],[0.5555555555555556,\"#d8576b\"],[0.6666666666666666,\"#ed7953\"],[0.7777777777777778,\"#fb9f3a\"],[0.8888888888888888,\"#fdca26\"],[1.0,\"#f0f921\"]],\"type\":\"histogram2dcontour\"}],\"mesh3d\":[{\"colorbar\":{\"outlinewidth\":0,\"ticks\":\"\"},\"type\":\"mesh3d\"}],\"parcoords\":[{\"line\":{\"colorbar\":{\"outlinewidth\":0,\"ticks\":\"\"}},\"type\":\"parcoords\"}],\"pie\":[{\"automargin\":true,\"type\":\"pie\"}],\"scatter\":[{\"marker\":{\"colorbar\":{\"outlinewidth\":0,\"ticks\":\"\"}},\"type\":\"scatter\"}],\"scatter3d\":[{\"line\":{\"colorbar\":{\"outlinewidth\":0,\"ticks\":\"\"}},\"marker\":{\"colorbar\":{\"outlinewidth\":0,\"ticks\":\"\"}},\"type\":\"scatter3d\"}],\"scattercarpet\":[{\"marker\":{\"colorbar\":{\"outlinewidth\":0,\"ticks\":\"\"}},\"type\":\"scattercarpet\"}],\"scattergeo\":[{\"marker\":{\"colorbar\":{\"outlinewidth\":0,\"ticks\":\"\"}},\"type\":\"scattergeo\"}],\"scattergl\":[{\"marker\":{\"colorbar\":{\"outlinewidth\":0,\"ticks\":\"\"}},\"type\":\"scattergl\"}],\"scattermapbox\":[{\"marker\":{\"colorbar\":{\"outlinewidth\":0,\"ticks\":\"\"}},\"type\":\"scattermapbox\"}],\"scatterpolar\":[{\"marker\":{\"colorbar\":{\"outlinewidth\":0,\"ticks\":\"\"}},\"type\":\"scatterpolar\"}],\"scatterpolargl\":[{\"marker\":{\"colorbar\":{\"outlinewidth\":0,\"ticks\":\"\"}},\"type\":\"scatterpolargl\"}],\"scatterternary\":[{\"marker\":{\"colorbar\":{\"outlinewidth\":0,\"ticks\":\"\"}},\"type\":\"scatterternary\"}],\"surface\":[{\"colorbar\":{\"outlinewidth\":0,\"ticks\":\"\"},\"colorscale\":[[0.0,\"#0d0887\"],[0.1111111111111111,\"#46039f\"],[0.2222222222222222,\"#7201a8\"],[0.3333333333333333,\"#9c179e\"],[0.4444444444444444,\"#bd3786\"],[0.5555555555555556,\"#d8576b\"],[0.6666666666666666,\"#ed7953\"],[0.7777777777777778,\"#fb9f3a\"],[0.8888888888888888,\"#fdca26\"],[1.0,\"#f0f921\"]],\"type\":\"surface\"}],\"table\":[{\"cells\":{\"fill\":{\"color\":\"#EBF0F8\"},\"line\":{\"color\":\"white\"}},\"header\":{\"fill\":{\"color\":\"#C8D4E3\"},\"line\":{\"color\":\"white\"}},\"type\":\"table\"}]},\"layout\":{\"annotationdefaults\":{\"arrowcolor\":\"#2a3f5f\",\"arrowhead\":0,\"arrowwidth\":1},\"autotypenumbers\":\"strict\",\"coloraxis\":{\"colorbar\":{\"outlinewidth\":0,\"ticks\":\"\"}},\"colorscale\":{\"diverging\":[[0,\"#8e0152\"],[0.1,\"#c51b7d\"],[0.2,\"#de77ae\"],[0.3,\"#f1b6da\"],[0.4,\"#fde0ef\"],[0.5,\"#f7f7f7\"],[0.6,\"#e6f5d0\"],[0.7,\"#b8e186\"],[0.8,\"#7fbc41\"],[0.9,\"#4d9221\"],[1,\"#276419\"]],\"sequential\":[[0.0,\"#0d0887\"],[0.1111111111111111,\"#46039f\"],[0.2222222222222222,\"#7201a8\"],[0.3333333333333333,\"#9c179e\"],[0.4444444444444444,\"#bd3786\"],[0.5555555555555556,\"#d8576b\"],[0.6666666666666666,\"#ed7953\"],[0.7777777777777778,\"#fb9f3a\"],[0.8888888888888888,\"#fdca26\"],[1.0,\"#f0f921\"]],\"sequentialminus\":[[0.0,\"#0d0887\"],[0.1111111111111111,\"#46039f\"],[0.2222222222222222,\"#7201a8\"],[0.3333333333333333,\"#9c179e\"],[0.4444444444444444,\"#bd3786\"],[0.5555555555555556,\"#d8576b\"],[0.6666666666666666,\"#ed7953\"],[0.7777777777777778,\"#fb9f3a\"],[0.8888888888888888,\"#fdca26\"],[1.0,\"#f0f921\"]]},\"colorway\":[\"#636efa\",\"#EF553B\",\"#00cc96\",\"#ab63fa\",\"#FFA15A\",\"#19d3f3\",\"#FF6692\",\"#B6E880\",\"#FF97FF\",\"#FECB52\"],\"font\":{\"color\":\"#2a3f5f\"},\"geo\":{\"bgcolor\":\"white\",\"lakecolor\":\"white\",\"landcolor\":\"#E5ECF6\",\"showlakes\":true,\"showland\":true,\"subunitcolor\":\"white\"},\"hoverlabel\":{\"align\":\"left\"},\"hovermode\":\"closest\",\"mapbox\":{\"style\":\"light\"},\"paper_bgcolor\":\"white\",\"plot_bgcolor\":\"#E5ECF6\",\"polar\":{\"angularaxis\":{\"gridcolor\":\"white\",\"linecolor\":\"white\",\"ticks\":\"\"},\"bgcolor\":\"#E5ECF6\",\"radialaxis\":{\"gridcolor\":\"white\",\"linecolor\":\"white\",\"ticks\":\"\"}},\"scene\":{\"xaxis\":{\"backgroundcolor\":\"#E5ECF6\",\"gridcolor\":\"white\",\"gridwidth\":2,\"linecolor\":\"white\",\"showbackground\":true,\"ticks\":\"\",\"zerolinecolor\":\"white\"},\"yaxis\":{\"backgroundcolor\":\"#E5ECF6\",\"gridcolor\":\"white\",\"gridwidth\":2,\"linecolor\":\"white\",\"showbackground\":true,\"ticks\":\"\",\"zerolinecolor\":\"white\"},\"zaxis\":{\"backgroundcolor\":\"#E5ECF6\",\"gridcolor\":\"white\",\"gridwidth\":2,\"linecolor\":\"white\",\"showbackground\":true,\"ticks\":\"\",\"zerolinecolor\":\"white\"}},\"shapedefaults\":{\"line\":{\"color\":\"#2a3f5f\"}},\"ternary\":{\"aaxis\":{\"gridcolor\":\"white\",\"linecolor\":\"white\",\"ticks\":\"\"},\"baxis\":{\"gridcolor\":\"white\",\"linecolor\":\"white\",\"ticks\":\"\"},\"bgcolor\":\"#E5ECF6\",\"caxis\":{\"gridcolor\":\"white\",\"linecolor\":\"white\",\"ticks\":\"\"}},\"title\":{\"x\":0.05},\"xaxis\":{\"automargin\":true,\"gridcolor\":\"white\",\"linecolor\":\"white\",\"ticks\":\"\",\"title\":{\"standoff\":15},\"zerolinecolor\":\"white\",\"zerolinewidth\":2},\"yaxis\":{\"automargin\":true,\"gridcolor\":\"white\",\"linecolor\":\"white\",\"ticks\":\"\",\"title\":{\"standoff\":15},\"zerolinecolor\":\"white\",\"zerolinewidth\":2}}},\"title\":{\"text\":\"Base Carbone results for query='mangue'\"}},                        {\"responsive\": true}                    ).then(function(){\n",
       "                            \n",
       "var gd = document.getElementById('d40239a5-6820-4b63-8023-a4bd14496bbf');\n",
       "var x = new MutationObserver(function (mutations, observer) {{\n",
       "        var display = window.getComputedStyle(gd).display;\n",
       "        if (!display || display === 'none') {{\n",
       "            console.log([gd, 'removed!']);\n",
       "            Plotly.purge(gd);\n",
       "            observer.disconnect();\n",
       "        }}\n",
       "}});\n",
       "\n",
       "// Listen for the removal of the full notebook cells\n",
       "var notebookContainer = gd.closest('#notebook-container');\n",
       "if (notebookContainer) {{\n",
       "    x.observe(notebookContainer, {childList: true});\n",
       "}}\n",
       "\n",
       "// Listen for the clearing of the current output cell\n",
       "var outputEl = gd.closest('.output');\n",
       "if (outputEl) {{\n",
       "    x.observe(outputEl, {childList: true});\n",
       "}}\n",
       "\n",
       "                        })                };                });            </script>        </div>"
      ]
     },
     "metadata": {},
     "output_type": "display_data"
    }
   ],
   "source": [
    "r,fig = baca.search(\"mangue\",kind = \"treemap\",color_by_emissions = True,height = 800)\n",
    "fig"
   ]
  },
  {
   "cell_type": "code",
   "execution_count": 162,
   "id": "7a0aeb9d",
   "metadata": {
    "scrolled": true
   },
   "outputs": [],
   "source": [
    "y = x[baca._category_cols].isnull().sum() == len(x)"
   ]
  },
  {
   "cell_type": "code",
   "execution_count": 163,
   "id": "f1edad47",
   "metadata": {},
   "outputs": [
    {
     "data": {
      "text/plain": [
       "category5    True\n",
       "dtype: bool"
      ]
     },
     "execution_count": 163,
     "metadata": {},
     "output_type": "execute_result"
    }
   ],
   "source": [
    "y[y]"
   ]
  },
  {
   "cell_type": "code",
   "execution_count": 147,
   "id": "baca2f02",
   "metadata": {},
   "outputs": [
    {
     "data": {
      "text/plain": [
       "(297, 58)"
      ]
     },
     "execution_count": 147,
     "metadata": {},
     "output_type": "execute_result"
    }
   ],
   "source": [
    "avion.shape"
   ]
  },
  {
   "cell_type": "code",
   "execution_count": 148,
   "id": "574b4a6a",
   "metadata": {},
   "outputs": [
    {
     "data": {
      "text/html": [
       "<div>\n",
       "<style scoped>\n",
       "    .dataframe tbody tr th:only-of-type {\n",
       "        vertical-align: middle;\n",
       "    }\n",
       "\n",
       "    .dataframe tbody tr th {\n",
       "        vertical-align: top;\n",
       "    }\n",
       "\n",
       "    .dataframe thead th {\n",
       "        text-align: right;\n",
       "    }\n",
       "</style>\n",
       "<table border=\"1\" class=\"dataframe\">\n",
       "  <thead>\n",
       "    <tr style=\"text-align: right;\">\n",
       "      <th></th>\n",
       "      <th>row_type</th>\n",
       "      <th>element_id</th>\n",
       "      <th>structure</th>\n",
       "      <th>element_type</th>\n",
       "      <th>element_status</th>\n",
       "      <th>name_base</th>\n",
       "      <th>name_attribute</th>\n",
       "      <th>Nom frontière français</th>\n",
       "      <th>category</th>\n",
       "      <th>tags</th>\n",
       "      <th>unit</th>\n",
       "      <th>Contributeur</th>\n",
       "      <th>Autres Contributeurs</th>\n",
       "      <th>Programme</th>\n",
       "      <th>Url du programme</th>\n",
       "      <th>Source</th>\n",
       "      <th>geography</th>\n",
       "      <th>Sous-localisation géographique français</th>\n",
       "      <th>Date de création</th>\n",
       "      <th>Date de modification</th>\n",
       "      <th>Période de validité</th>\n",
       "      <th>Incertitude</th>\n",
       "      <th>Réglementations</th>\n",
       "      <th>Transparence</th>\n",
       "      <th>Qualité</th>\n",
       "      <th>Qualité TeR</th>\n",
       "      <th>Qualité GR</th>\n",
       "      <th>Qualité TiR</th>\n",
       "      <th>Qualité C</th>\n",
       "      <th>Qualité P</th>\n",
       "      <th>Qualité M</th>\n",
       "      <th>Commentaire français</th>\n",
       "      <th>Type poste</th>\n",
       "      <th>Nom poste français</th>\n",
       "      <th>emissions</th>\n",
       "      <th>CO2f</th>\n",
       "      <th>CH4f</th>\n",
       "      <th>CH4b</th>\n",
       "      <th>N2O</th>\n",
       "      <th>Code gaz supplémentaire 1</th>\n",
       "      <th>Valeur gaz supplémentaire 1</th>\n",
       "      <th>Code gaz supplémentaire 2</th>\n",
       "      <th>Valeur gaz supplémentaire 2</th>\n",
       "      <th>Code gaz supplémentaire 3</th>\n",
       "      <th>Valeur gaz supplémentaire 3</th>\n",
       "      <th>Code gaz supplémentaire 4</th>\n",
       "      <th>Valeur gaz supplémentaire 4</th>\n",
       "      <th>Code gaz supplémentaire 5</th>\n",
       "      <th>Valeur gaz supplémentaire 5</th>\n",
       "      <th>Autres GES</th>\n",
       "      <th>CO2b</th>\n",
       "      <th>text</th>\n",
       "      <th>text_split</th>\n",
       "      <th>category1</th>\n",
       "      <th>category2</th>\n",
       "      <th>category3</th>\n",
       "      <th>category4</th>\n",
       "      <th>category5</th>\n",
       "    </tr>\n",
       "  </thead>\n",
       "  <tbody>\n",
       "    <tr>\n",
       "      <th>264</th>\n",
       "      <td>Elément</td>\n",
       "      <td>28057</td>\n",
       "      <td>élément décomposé par poste et par gaz</td>\n",
       "      <td>Facteur d'émission</td>\n",
       "      <td>Valide générique</td>\n",
       "      <td>Avion cargo</td>\n",
       "      <td>10 à 25 tonnes, 500 - 1000 kms, 2018</td>\n",
       "      <td>AVEC trainées</td>\n",
       "      <td>Transport de marchandises &gt; Aérien &gt; Avion Car...</td>\n",
       "      <td>trainées,avion,fret</td>\n",
       "      <td>kgCO2e/t.km</td>\n",
       "      <td>GT Transport Base Carbone</td>\n",
       "      <td>NaN</td>\n",
       "      <td>NaN</td>\n",
       "      <td>NaN</td>\n",
       "      <td>Ecocalculateur DGAC</td>\n",
       "      <td>France continentale</td>\n",
       "      <td>NaN</td>\n",
       "      <td>28/04/2020</td>\n",
       "      <td>28/04/2020</td>\n",
       "      <td>31-mars-21</td>\n",
       "      <td>70.0</td>\n",
       "      <td>DonnÃ©es de l'article L229-25 de la loi TECV</td>\n",
       "      <td>4</td>\n",
       "      <td>NaN</td>\n",
       "      <td>5.0</td>\n",
       "      <td>2.0</td>\n",
       "      <td>4.0</td>\n",
       "      <td>5.0</td>\n",
       "      <td>2.0</td>\n",
       "      <td>2.0</td>\n",
       "      <td>Données intégrant l'impact induit des trainées...</td>\n",
       "      <td>NaN</td>\n",
       "      <td>NaN</td>\n",
       "      <td>3,47</td>\n",
       "      <td>1,86</td>\n",
       "      <td>0,0173</td>\n",
       "      <td>0</td>\n",
       "      <td>0,0263</td>\n",
       "      <td>Divers</td>\n",
       "      <td>1,57</td>\n",
       "      <td>NaN</td>\n",
       "      <td>0</td>\n",
       "      <td>NaN</td>\n",
       "      <td>0.0</td>\n",
       "      <td>NaN</td>\n",
       "      <td>0.0</td>\n",
       "      <td>NaN</td>\n",
       "      <td>0</td>\n",
       "      <td>0</td>\n",
       "      <td>0</td>\n",
       "      <td>avion cargo 10 à 25 tonnes, 500 - 1000 kms, 20...</td>\n",
       "      <td>[avion, cargo, tonnes, 500, 1000, kms, 2018, t...</td>\n",
       "      <td>Transport de marchandises</td>\n",
       "      <td>Aérien</td>\n",
       "      <td>Avion Cargo</td>\n",
       "      <td>10 - 25 t : détail par kms parcourus</td>\n",
       "      <td>NaN</td>\n",
       "    </tr>\n",
       "    <tr>\n",
       "      <th>265</th>\n",
       "      <td>Poste</td>\n",
       "      <td>28057</td>\n",
       "      <td>élément décomposé par poste et par gaz</td>\n",
       "      <td>Facteur d'émission</td>\n",
       "      <td>Valide générique</td>\n",
       "      <td>Avion cargo</td>\n",
       "      <td>10 à 25 tonnes, 500 - 1000 kms, 2018</td>\n",
       "      <td>AVEC trainées</td>\n",
       "      <td>Transport de marchandises &gt; Aérien &gt; Avion Car...</td>\n",
       "      <td>NaN</td>\n",
       "      <td>kgCO2e/t.km</td>\n",
       "      <td>GT Transport Base Carbone</td>\n",
       "      <td>NaN</td>\n",
       "      <td>NaN</td>\n",
       "      <td>NaN</td>\n",
       "      <td>Ecocalculateur DGAC</td>\n",
       "      <td>France continentale</td>\n",
       "      <td>NaN</td>\n",
       "      <td>28/04/2020</td>\n",
       "      <td>28/04/2020</td>\n",
       "      <td>31-mars-21</td>\n",
       "      <td>70.0</td>\n",
       "      <td>DonnÃ©es de l'article L229-25 de la loi TECV</td>\n",
       "      <td>4</td>\n",
       "      <td>NaN</td>\n",
       "      <td>5.0</td>\n",
       "      <td>2.0</td>\n",
       "      <td>4.0</td>\n",
       "      <td>5.0</td>\n",
       "      <td>2.0</td>\n",
       "      <td>2.0</td>\n",
       "      <td>Données intégrant l'impact induit des trainées...</td>\n",
       "      <td>Amont</td>\n",
       "      <td>Carburant</td>\n",
       "      <td>0,31</td>\n",
       "      <td>0,296</td>\n",
       "      <td>2,50E-03</td>\n",
       "      <td>0</td>\n",
       "      <td>0,0115</td>\n",
       "      <td>NaN</td>\n",
       "      <td>0</td>\n",
       "      <td>NaN</td>\n",
       "      <td>NaN</td>\n",
       "      <td>NaN</td>\n",
       "      <td>NaN</td>\n",
       "      <td>NaN</td>\n",
       "      <td>NaN</td>\n",
       "      <td>NaN</td>\n",
       "      <td>NaN</td>\n",
       "      <td>0</td>\n",
       "      <td>0</td>\n",
       "      <td>avion cargo 10 à 25 tonnes, 500 - 1000 kms, 20...</td>\n",
       "      <td>[avion, cargo, tonnes, 500, 1000, kms, 2018, t...</td>\n",
       "      <td>Transport de marchandises</td>\n",
       "      <td>Aérien</td>\n",
       "      <td>Avion Cargo</td>\n",
       "      <td>10 - 25 t : détail par kms parcourus</td>\n",
       "      <td>NaN</td>\n",
       "    </tr>\n",
       "    <tr>\n",
       "      <th>266</th>\n",
       "      <td>Poste</td>\n",
       "      <td>28057</td>\n",
       "      <td>élément décomposé par poste et par gaz</td>\n",
       "      <td>Facteur d'émission</td>\n",
       "      <td>Valide générique</td>\n",
       "      <td>Avion cargo</td>\n",
       "      <td>10 à 25 tonnes, 500 - 1000 kms, 2018</td>\n",
       "      <td>AVEC trainées</td>\n",
       "      <td>Transport de marchandises &gt; Aérien &gt; Avion Car...</td>\n",
       "      <td>NaN</td>\n",
       "      <td>kgCO2e/t.km</td>\n",
       "      <td>GT Transport Base Carbone</td>\n",
       "      <td>NaN</td>\n",
       "      <td>NaN</td>\n",
       "      <td>NaN</td>\n",
       "      <td>Ecocalculateur DGAC</td>\n",
       "      <td>France continentale</td>\n",
       "      <td>NaN</td>\n",
       "      <td>28/04/2020</td>\n",
       "      <td>28/04/2020</td>\n",
       "      <td>31-mars-21</td>\n",
       "      <td>70.0</td>\n",
       "      <td>DonnÃ©es de l'article L229-25 de la loi TECV</td>\n",
       "      <td>4</td>\n",
       "      <td>NaN</td>\n",
       "      <td>5.0</td>\n",
       "      <td>2.0</td>\n",
       "      <td>4.0</td>\n",
       "      <td>5.0</td>\n",
       "      <td>2.0</td>\n",
       "      <td>2.0</td>\n",
       "      <td>Données intégrant l'impact induit des trainées...</td>\n",
       "      <td>Combustion</td>\n",
       "      <td>Carburant</td>\n",
       "      <td>1,59</td>\n",
       "      <td>1,56</td>\n",
       "      <td>0,0148</td>\n",
       "      <td>0</td>\n",
       "      <td>0,0148</td>\n",
       "      <td>NaN</td>\n",
       "      <td>0</td>\n",
       "      <td>NaN</td>\n",
       "      <td>NaN</td>\n",
       "      <td>NaN</td>\n",
       "      <td>NaN</td>\n",
       "      <td>NaN</td>\n",
       "      <td>NaN</td>\n",
       "      <td>NaN</td>\n",
       "      <td>NaN</td>\n",
       "      <td>0</td>\n",
       "      <td>0</td>\n",
       "      <td>avion cargo 10 à 25 tonnes, 500 - 1000 kms, 20...</td>\n",
       "      <td>[avion, cargo, tonnes, 500, 1000, kms, 2018, t...</td>\n",
       "      <td>Transport de marchandises</td>\n",
       "      <td>Aérien</td>\n",
       "      <td>Avion Cargo</td>\n",
       "      <td>10 - 25 t : détail par kms parcourus</td>\n",
       "      <td>NaN</td>\n",
       "    </tr>\n",
       "    <tr>\n",
       "      <th>267</th>\n",
       "      <td>Poste</td>\n",
       "      <td>28057</td>\n",
       "      <td>élément décomposé par poste et par gaz</td>\n",
       "      <td>Facteur d'émission</td>\n",
       "      <td>Valide générique</td>\n",
       "      <td>Avion cargo</td>\n",
       "      <td>10 à 25 tonnes, 500 - 1000 kms, 2018</td>\n",
       "      <td>AVEC trainées</td>\n",
       "      <td>Transport de marchandises &gt; Aérien &gt; Avion Car...</td>\n",
       "      <td>NaN</td>\n",
       "      <td>kgCO2e/t.km</td>\n",
       "      <td>GT Transport Base Carbone</td>\n",
       "      <td>NaN</td>\n",
       "      <td>NaN</td>\n",
       "      <td>NaN</td>\n",
       "      <td>Ecocalculateur DGAC</td>\n",
       "      <td>France continentale</td>\n",
       "      <td>NaN</td>\n",
       "      <td>28/04/2020</td>\n",
       "      <td>28/04/2020</td>\n",
       "      <td>31-mars-21</td>\n",
       "      <td>70.0</td>\n",
       "      <td>DonnÃ©es de l'article L229-25 de la loi TECV</td>\n",
       "      <td>4</td>\n",
       "      <td>NaN</td>\n",
       "      <td>5.0</td>\n",
       "      <td>2.0</td>\n",
       "      <td>4.0</td>\n",
       "      <td>5.0</td>\n",
       "      <td>2.0</td>\n",
       "      <td>2.0</td>\n",
       "      <td>Données intégrant l'impact induit des trainées...</td>\n",
       "      <td>Emissions fugitives</td>\n",
       "      <td>Trainées de condensation</td>\n",
       "      <td>1,57</td>\n",
       "      <td>0</td>\n",
       "      <td>0</td>\n",
       "      <td>0</td>\n",
       "      <td>0</td>\n",
       "      <td>NaN</td>\n",
       "      <td>1,57</td>\n",
       "      <td>NaN</td>\n",
       "      <td>NaN</td>\n",
       "      <td>NaN</td>\n",
       "      <td>NaN</td>\n",
       "      <td>NaN</td>\n",
       "      <td>NaN</td>\n",
       "      <td>NaN</td>\n",
       "      <td>NaN</td>\n",
       "      <td>0</td>\n",
       "      <td>0</td>\n",
       "      <td>avion cargo 10 à 25 tonnes, 500 - 1000 kms, 20...</td>\n",
       "      <td>[avion, cargo, tonnes, 500, 1000, kms, 2018, t...</td>\n",
       "      <td>Transport de marchandises</td>\n",
       "      <td>Aérien</td>\n",
       "      <td>Avion Cargo</td>\n",
       "      <td>10 - 25 t : détail par kms parcourus</td>\n",
       "      <td>NaN</td>\n",
       "    </tr>\n",
       "    <tr>\n",
       "      <th>268</th>\n",
       "      <td>Elément</td>\n",
       "      <td>28058</td>\n",
       "      <td>élément décomposé par poste et par gaz</td>\n",
       "      <td>Facteur d'émission</td>\n",
       "      <td>Valide générique</td>\n",
       "      <td>Avion cargo</td>\n",
       "      <td>10 à 25 tonnes, 500 - 1000 kms, 2018</td>\n",
       "      <td>SANS trainées</td>\n",
       "      <td>Transport de marchandises &gt; Aérien &gt; Avion Car...</td>\n",
       "      <td>avion,fret</td>\n",
       "      <td>kgCO2e/t.km</td>\n",
       "      <td>GT Transport Base Carbone</td>\n",
       "      <td>NaN</td>\n",
       "      <td>NaN</td>\n",
       "      <td>NaN</td>\n",
       "      <td>Ecocalculateur DGAC</td>\n",
       "      <td>France continentale</td>\n",
       "      <td>NaN</td>\n",
       "      <td>28/04/2020</td>\n",
       "      <td>28/04/2020</td>\n",
       "      <td>31-mars-21</td>\n",
       "      <td>10.0</td>\n",
       "      <td>DonnÃ©es de l'article L229-25 de la loi TECV, ...</td>\n",
       "      <td>4</td>\n",
       "      <td>NaN</td>\n",
       "      <td>5.0</td>\n",
       "      <td>5.0</td>\n",
       "      <td>4.0</td>\n",
       "      <td>5.0</td>\n",
       "      <td>5.0</td>\n",
       "      <td>5.0</td>\n",
       "      <td>NaN</td>\n",
       "      <td>NaN</td>\n",
       "      <td>NaN</td>\n",
       "      <td>1,9</td>\n",
       "      <td>1,86</td>\n",
       "      <td>0,0173</td>\n",
       "      <td>0</td>\n",
       "      <td>0,0263</td>\n",
       "      <td>NaN</td>\n",
       "      <td>0</td>\n",
       "      <td>NaN</td>\n",
       "      <td>0</td>\n",
       "      <td>NaN</td>\n",
       "      <td>0.0</td>\n",
       "      <td>NaN</td>\n",
       "      <td>0.0</td>\n",
       "      <td>NaN</td>\n",
       "      <td>0</td>\n",
       "      <td>0</td>\n",
       "      <td>0</td>\n",
       "      <td>avion cargo 10 à 25 tonnes, 500 - 1000 kms, 20...</td>\n",
       "      <td>[avion, cargo, tonnes, 500, 1000, kms, 2018, a...</td>\n",
       "      <td>Transport de marchandises</td>\n",
       "      <td>Aérien</td>\n",
       "      <td>Avion Cargo</td>\n",
       "      <td>10 - 25 t : détail par kms parcourus</td>\n",
       "      <td>NaN</td>\n",
       "    </tr>\n",
       "    <tr>\n",
       "      <th>...</th>\n",
       "      <td>...</td>\n",
       "      <td>...</td>\n",
       "      <td>...</td>\n",
       "      <td>...</td>\n",
       "      <td>...</td>\n",
       "      <td>...</td>\n",
       "      <td>...</td>\n",
       "      <td>...</td>\n",
       "      <td>...</td>\n",
       "      <td>...</td>\n",
       "      <td>...</td>\n",
       "      <td>...</td>\n",
       "      <td>...</td>\n",
       "      <td>...</td>\n",
       "      <td>...</td>\n",
       "      <td>...</td>\n",
       "      <td>...</td>\n",
       "      <td>...</td>\n",
       "      <td>...</td>\n",
       "      <td>...</td>\n",
       "      <td>...</td>\n",
       "      <td>...</td>\n",
       "      <td>...</td>\n",
       "      <td>...</td>\n",
       "      <td>...</td>\n",
       "      <td>...</td>\n",
       "      <td>...</td>\n",
       "      <td>...</td>\n",
       "      <td>...</td>\n",
       "      <td>...</td>\n",
       "      <td>...</td>\n",
       "      <td>...</td>\n",
       "      <td>...</td>\n",
       "      <td>...</td>\n",
       "      <td>...</td>\n",
       "      <td>...</td>\n",
       "      <td>...</td>\n",
       "      <td>...</td>\n",
       "      <td>...</td>\n",
       "      <td>...</td>\n",
       "      <td>...</td>\n",
       "      <td>...</td>\n",
       "      <td>...</td>\n",
       "      <td>...</td>\n",
       "      <td>...</td>\n",
       "      <td>...</td>\n",
       "      <td>...</td>\n",
       "      <td>...</td>\n",
       "      <td>...</td>\n",
       "      <td>...</td>\n",
       "      <td>...</td>\n",
       "      <td>...</td>\n",
       "      <td>...</td>\n",
       "      <td>...</td>\n",
       "      <td>...</td>\n",
       "      <td>...</td>\n",
       "      <td>...</td>\n",
       "      <td>...</td>\n",
       "    </tr>\n",
       "    <tr>\n",
       "      <th>556</th>\n",
       "      <td>Poste</td>\n",
       "      <td>28131</td>\n",
       "      <td>élément décomposé par poste et par gaz</td>\n",
       "      <td>Facteur d'émission</td>\n",
       "      <td>Valide générique</td>\n",
       "      <td>Avion passagers</td>\n",
       "      <td>Moyen courrier, 2018</td>\n",
       "      <td>SANS trainées</td>\n",
       "      <td>Transport de personnes &gt; Aérien &gt; Court, Moyen...</td>\n",
       "      <td>NaN</td>\n",
       "      <td>kgCO2e/peq.km</td>\n",
       "      <td>GT Transport Base Carbone</td>\n",
       "      <td>NaN</td>\n",
       "      <td>NaN</td>\n",
       "      <td>NaN</td>\n",
       "      <td>Ecocalculateur DGAC</td>\n",
       "      <td>France continentale</td>\n",
       "      <td>NaN</td>\n",
       "      <td>28/04/2020</td>\n",
       "      <td>28/04/2020</td>\n",
       "      <td>31-mars-21</td>\n",
       "      <td>10.0</td>\n",
       "      <td>DonnÃ©es de l'article L229-25 de la loi TECV, ...</td>\n",
       "      <td>4</td>\n",
       "      <td>NaN</td>\n",
       "      <td>5.0</td>\n",
       "      <td>5.0</td>\n",
       "      <td>4.0</td>\n",
       "      <td>5.0</td>\n",
       "      <td>5.0</td>\n",
       "      <td>5.0</td>\n",
       "      <td>NaN</td>\n",
       "      <td>Amont</td>\n",
       "      <td>Carburant</td>\n",
       "      <td>0,0176</td>\n",
       "      <td>0,016</td>\n",
       "      <td>7,98E-04</td>\n",
       "      <td>0</td>\n",
       "      <td>7,95E-04</td>\n",
       "      <td>NaN</td>\n",
       "      <td>NaN</td>\n",
       "      <td>NaN</td>\n",
       "      <td>NaN</td>\n",
       "      <td>NaN</td>\n",
       "      <td>NaN</td>\n",
       "      <td>NaN</td>\n",
       "      <td>NaN</td>\n",
       "      <td>NaN</td>\n",
       "      <td>NaN</td>\n",
       "      <td>0</td>\n",
       "      <td>0</td>\n",
       "      <td>avion passagers moyen courrier, 2018 transport...</td>\n",
       "      <td>[avion, passagers, moyen, courrier, 2018, tran...</td>\n",
       "      <td>Transport de personnes</td>\n",
       "      <td>Aérien</td>\n",
       "      <td>Court, Moyen, Long courrier (Valeurs moyennes)</td>\n",
       "      <td>NaN</td>\n",
       "      <td>NaN</td>\n",
       "    </tr>\n",
       "    <tr>\n",
       "      <th>557</th>\n",
       "      <td>Poste</td>\n",
       "      <td>28131</td>\n",
       "      <td>élément décomposé par poste et par gaz</td>\n",
       "      <td>Facteur d'émission</td>\n",
       "      <td>Valide générique</td>\n",
       "      <td>Avion passagers</td>\n",
       "      <td>Moyen courrier, 2018</td>\n",
       "      <td>SANS trainées</td>\n",
       "      <td>Transport de personnes &gt; Aérien &gt; Court, Moyen...</td>\n",
       "      <td>NaN</td>\n",
       "      <td>kgCO2e/peq.km</td>\n",
       "      <td>GT Transport Base Carbone</td>\n",
       "      <td>NaN</td>\n",
       "      <td>NaN</td>\n",
       "      <td>NaN</td>\n",
       "      <td>Ecocalculateur DGAC</td>\n",
       "      <td>France continentale</td>\n",
       "      <td>NaN</td>\n",
       "      <td>28/04/2020</td>\n",
       "      <td>28/04/2020</td>\n",
       "      <td>31-mars-21</td>\n",
       "      <td>10.0</td>\n",
       "      <td>DonnÃ©es de l'article L229-25 de la loi TECV, ...</td>\n",
       "      <td>4</td>\n",
       "      <td>NaN</td>\n",
       "      <td>5.0</td>\n",
       "      <td>5.0</td>\n",
       "      <td>4.0</td>\n",
       "      <td>5.0</td>\n",
       "      <td>5.0</td>\n",
       "      <td>5.0</td>\n",
       "      <td>NaN</td>\n",
       "      <td>Combustion</td>\n",
       "      <td>Carburant</td>\n",
       "      <td>0,0847</td>\n",
       "      <td>0,0841</td>\n",
       "      <td>9,00E-06</td>\n",
       "      <td>0</td>\n",
       "      <td>6,36E-04</td>\n",
       "      <td>NaN</td>\n",
       "      <td>NaN</td>\n",
       "      <td>NaN</td>\n",
       "      <td>NaN</td>\n",
       "      <td>NaN</td>\n",
       "      <td>NaN</td>\n",
       "      <td>NaN</td>\n",
       "      <td>NaN</td>\n",
       "      <td>NaN</td>\n",
       "      <td>NaN</td>\n",
       "      <td>0</td>\n",
       "      <td>0</td>\n",
       "      <td>avion passagers moyen courrier, 2018 transport...</td>\n",
       "      <td>[avion, passagers, moyen, courrier, 2018, tran...</td>\n",
       "      <td>Transport de personnes</td>\n",
       "      <td>Aérien</td>\n",
       "      <td>Court, Moyen, Long courrier (Valeurs moyennes)</td>\n",
       "      <td>NaN</td>\n",
       "      <td>NaN</td>\n",
       "    </tr>\n",
       "    <tr>\n",
       "      <th>4643</th>\n",
       "      <td>Elément</td>\n",
       "      <td>33275</td>\n",
       "      <td>élément non décomposé</td>\n",
       "      <td>Facteur d'émission</td>\n",
       "      <td>Valide générique</td>\n",
       "      <td>Haricot vert importé par avion</td>\n",
       "      <td>cru</td>\n",
       "      <td>NaN</td>\n",
       "      <td>Achats de biens &gt; Produits agro-alimentaires, ...</td>\n",
       "      <td>légumes,légumineuses et oléagineux,légumes cru...</td>\n",
       "      <td>kgCO2e/kg de poids net</td>\n",
       "      <td>AGRIBALYSE</td>\n",
       "      <td>NaN</td>\n",
       "      <td>AGRIBALYSE</td>\n",
       "      <td>https://app.agribalyse.fr/</td>\n",
       "      <td>https://ecolab.gitbook.io/documentation-agriba...</td>\n",
       "      <td>France continentale</td>\n",
       "      <td>NaN</td>\n",
       "      <td>04/03/2021</td>\n",
       "      <td>04/03/2021</td>\n",
       "      <td>31/12/2023</td>\n",
       "      <td>NaN</td>\n",
       "      <td>NaN</td>\n",
       "      <td>5</td>\n",
       "      <td>NaN</td>\n",
       "      <td>4.0</td>\n",
       "      <td>NaN</td>\n",
       "      <td>NaN</td>\n",
       "      <td>NaN</td>\n",
       "      <td>NaN</td>\n",
       "      <td>NaN</td>\n",
       "      <td>NaN</td>\n",
       "      <td>NaN</td>\n",
       "      <td>NaN</td>\n",
       "      <td>10,3</td>\n",
       "      <td>NaN</td>\n",
       "      <td>NaN</td>\n",
       "      <td>NaN</td>\n",
       "      <td>NaN</td>\n",
       "      <td>NaN</td>\n",
       "      <td>NaN</td>\n",
       "      <td>NaN</td>\n",
       "      <td>NaN</td>\n",
       "      <td>NaN</td>\n",
       "      <td>NaN</td>\n",
       "      <td>NaN</td>\n",
       "      <td>NaN</td>\n",
       "      <td>NaN</td>\n",
       "      <td>NaN</td>\n",
       "      <td>NaN</td>\n",
       "      <td>NaN</td>\n",
       "      <td>haricot vert importé par avion cru légumes,lég...</td>\n",
       "      <td>[haricot, vert, importé, par, avion, cru, légu...</td>\n",
       "      <td>Achats de biens</td>\n",
       "      <td>Produits agro-alimentaires, plats préparés et ...</td>\n",
       "      <td>Fruits, légumes, légumineuses et oléagineux</td>\n",
       "      <td>Légumes</td>\n",
       "      <td>NaN</td>\n",
       "    </tr>\n",
       "    <tr>\n",
       "      <th>5342</th>\n",
       "      <td>Elément</td>\n",
       "      <td>33054</td>\n",
       "      <td>élément non décomposé</td>\n",
       "      <td>Facteur d'émission</td>\n",
       "      <td>Valide générique</td>\n",
       "      <td>Mangue importée par avion</td>\n",
       "      <td>pulpe, crue</td>\n",
       "      <td>NaN</td>\n",
       "      <td>Achats de biens &gt; Produits agro-alimentaires, ...</td>\n",
       "      <td>légumes,légumineuses et oléagineux,fruits crus...</td>\n",
       "      <td>kgCO2e/kg de poids net</td>\n",
       "      <td>AGRIBALYSE</td>\n",
       "      <td>NaN</td>\n",
       "      <td>AGRIBALYSE</td>\n",
       "      <td>https://app.agribalyse.fr/</td>\n",
       "      <td>https://ecolab.gitbook.io/documentation-agriba...</td>\n",
       "      <td>France continentale</td>\n",
       "      <td>NaN</td>\n",
       "      <td>04/03/2021</td>\n",
       "      <td>04/03/2021</td>\n",
       "      <td>31/12/2023</td>\n",
       "      <td>NaN</td>\n",
       "      <td>NaN</td>\n",
       "      <td>5</td>\n",
       "      <td>NaN</td>\n",
       "      <td>4.0</td>\n",
       "      <td>NaN</td>\n",
       "      <td>NaN</td>\n",
       "      <td>NaN</td>\n",
       "      <td>NaN</td>\n",
       "      <td>NaN</td>\n",
       "      <td>NaN</td>\n",
       "      <td>NaN</td>\n",
       "      <td>NaN</td>\n",
       "      <td>14,9</td>\n",
       "      <td>NaN</td>\n",
       "      <td>NaN</td>\n",
       "      <td>NaN</td>\n",
       "      <td>NaN</td>\n",
       "      <td>NaN</td>\n",
       "      <td>NaN</td>\n",
       "      <td>NaN</td>\n",
       "      <td>NaN</td>\n",
       "      <td>NaN</td>\n",
       "      <td>NaN</td>\n",
       "      <td>NaN</td>\n",
       "      <td>NaN</td>\n",
       "      <td>NaN</td>\n",
       "      <td>NaN</td>\n",
       "      <td>NaN</td>\n",
       "      <td>NaN</td>\n",
       "      <td>mangue importée par avion pulpe, crue légumes,...</td>\n",
       "      <td>[mangue, importée, par, avion, pulpe, crue, lé...</td>\n",
       "      <td>Achats de biens</td>\n",
       "      <td>Produits agro-alimentaires, plats préparés et ...</td>\n",
       "      <td>Fruits, légumes, légumineuses et oléagineux</td>\n",
       "      <td>Fruits</td>\n",
       "      <td>NaN</td>\n",
       "    </tr>\n",
       "    <tr>\n",
       "      <th>7084</th>\n",
       "      <td>Elément</td>\n",
       "      <td>27474</td>\n",
       "      <td>élément non décomposé</td>\n",
       "      <td>Facteur d'émission</td>\n",
       "      <td>Valide générique</td>\n",
       "      <td>Réseau de chaleur</td>\n",
       "      <td>62, Avion, ZUP du quartier République-Avion</td>\n",
       "      <td>2018</td>\n",
       "      <td>Réseaux de chaleur / froid &gt; Nord-Pas-de-Calais</td>\n",
       "      <td>ZUP du quartier République-Avion,Réseau de cha...</td>\n",
       "      <td>kgCO2e/kWh</td>\n",
       "      <td>ADEME</td>\n",
       "      <td>NaN</td>\n",
       "      <td>DPE - arrêté 11 avril 2018</td>\n",
       "      <td>http://reseaux-chaleur.cerema.fr/contenus-co2-...</td>\n",
       "      <td>NaN</td>\n",
       "      <td>France continentale</td>\n",
       "      <td>Nord-Pas-De-Calais, Avion</td>\n",
       "      <td>11/09/2019</td>\n",
       "      <td>11/09/2019</td>\n",
       "      <td>2020</td>\n",
       "      <td>30.0</td>\n",
       "      <td>DonnÃ©es de l'article L229-25 de la loi TECV</td>\n",
       "      <td>NaN</td>\n",
       "      <td>NaN</td>\n",
       "      <td>NaN</td>\n",
       "      <td>NaN</td>\n",
       "      <td>NaN</td>\n",
       "      <td>NaN</td>\n",
       "      <td>NaN</td>\n",
       "      <td>NaN</td>\n",
       "      <td>NaN</td>\n",
       "      <td>NaN</td>\n",
       "      <td>NaN</td>\n",
       "      <td>0,201</td>\n",
       "      <td>NaN</td>\n",
       "      <td>NaN</td>\n",
       "      <td>NaN</td>\n",
       "      <td>NaN</td>\n",
       "      <td>NaN</td>\n",
       "      <td>NaN</td>\n",
       "      <td>NaN</td>\n",
       "      <td>NaN</td>\n",
       "      <td>NaN</td>\n",
       "      <td>NaN</td>\n",
       "      <td>NaN</td>\n",
       "      <td>NaN</td>\n",
       "      <td>NaN</td>\n",
       "      <td>NaN</td>\n",
       "      <td>NaN</td>\n",
       "      <td>NaN</td>\n",
       "      <td>réseau de chaleur 62, avion, zup du quartier r...</td>\n",
       "      <td>[réseau, chaleur, avion, zup, quartier, républ...</td>\n",
       "      <td>Réseaux de chaleur / froid</td>\n",
       "      <td>Nord-Pas-de-Calais</td>\n",
       "      <td>NaN</td>\n",
       "      <td>NaN</td>\n",
       "      <td>NaN</td>\n",
       "    </tr>\n",
       "  </tbody>\n",
       "</table>\n",
       "<p>297 rows × 58 columns</p>\n",
       "</div>"
      ],
      "text/plain": [
       "     row_type  element_id                               structure  \\\n",
       "264   Elément       28057  élément décomposé par poste et par gaz   \n",
       "265     Poste       28057  élément décomposé par poste et par gaz   \n",
       "266     Poste       28057  élément décomposé par poste et par gaz   \n",
       "267     Poste       28057  élément décomposé par poste et par gaz   \n",
       "268   Elément       28058  élément décomposé par poste et par gaz   \n",
       "...       ...         ...                                     ...   \n",
       "556     Poste       28131  élément décomposé par poste et par gaz   \n",
       "557     Poste       28131  élément décomposé par poste et par gaz   \n",
       "4643  Elément       33275                   élément non décomposé   \n",
       "5342  Elément       33054                   élément non décomposé   \n",
       "7084  Elément       27474                   élément non décomposé   \n",
       "\n",
       "            element_type    element_status                       name_base  \\\n",
       "264   Facteur d'émission  Valide générique                     Avion cargo   \n",
       "265   Facteur d'émission  Valide générique                     Avion cargo   \n",
       "266   Facteur d'émission  Valide générique                     Avion cargo   \n",
       "267   Facteur d'émission  Valide générique                     Avion cargo   \n",
       "268   Facteur d'émission  Valide générique                     Avion cargo   \n",
       "...                  ...               ...                             ...   \n",
       "556   Facteur d'émission  Valide générique                 Avion passagers   \n",
       "557   Facteur d'émission  Valide générique                 Avion passagers   \n",
       "4643  Facteur d'émission  Valide générique  Haricot vert importé par avion   \n",
       "5342  Facteur d'émission  Valide générique       Mangue importée par avion   \n",
       "7084  Facteur d'émission  Valide générique               Réseau de chaleur   \n",
       "\n",
       "                                   name_attribute Nom frontière français  \\\n",
       "264          10 à 25 tonnes, 500 - 1000 kms, 2018          AVEC trainées   \n",
       "265          10 à 25 tonnes, 500 - 1000 kms, 2018          AVEC trainées   \n",
       "266          10 à 25 tonnes, 500 - 1000 kms, 2018          AVEC trainées   \n",
       "267          10 à 25 tonnes, 500 - 1000 kms, 2018          AVEC trainées   \n",
       "268          10 à 25 tonnes, 500 - 1000 kms, 2018          SANS trainées   \n",
       "...                                           ...                    ...   \n",
       "556                          Moyen courrier, 2018          SANS trainées   \n",
       "557                          Moyen courrier, 2018          SANS trainées   \n",
       "4643                                          cru                    NaN   \n",
       "5342                                  pulpe, crue                    NaN   \n",
       "7084  62, Avion, ZUP du quartier République-Avion                   2018   \n",
       "\n",
       "                                               category  \\\n",
       "264   Transport de marchandises > Aérien > Avion Car...   \n",
       "265   Transport de marchandises > Aérien > Avion Car...   \n",
       "266   Transport de marchandises > Aérien > Avion Car...   \n",
       "267   Transport de marchandises > Aérien > Avion Car...   \n",
       "268   Transport de marchandises > Aérien > Avion Car...   \n",
       "...                                                 ...   \n",
       "556   Transport de personnes > Aérien > Court, Moyen...   \n",
       "557   Transport de personnes > Aérien > Court, Moyen...   \n",
       "4643  Achats de biens > Produits agro-alimentaires, ...   \n",
       "5342  Achats de biens > Produits agro-alimentaires, ...   \n",
       "7084    Réseaux de chaleur / froid > Nord-Pas-de-Calais   \n",
       "\n",
       "                                                   tags  \\\n",
       "264                                 trainées,avion,fret   \n",
       "265                                                 NaN   \n",
       "266                                                 NaN   \n",
       "267                                                 NaN   \n",
       "268                                          avion,fret   \n",
       "...                                                 ...   \n",
       "556                                                 NaN   \n",
       "557                                                 NaN   \n",
       "4643  légumes,légumineuses et oléagineux,légumes cru...   \n",
       "5342  légumes,légumineuses et oléagineux,fruits crus...   \n",
       "7084  ZUP du quartier République-Avion,Réseau de cha...   \n",
       "\n",
       "                        unit               Contributeur Autres Contributeurs  \\\n",
       "264              kgCO2e/t.km  GT Transport Base Carbone                  NaN   \n",
       "265              kgCO2e/t.km  GT Transport Base Carbone                  NaN   \n",
       "266              kgCO2e/t.km  GT Transport Base Carbone                  NaN   \n",
       "267              kgCO2e/t.km  GT Transport Base Carbone                  NaN   \n",
       "268              kgCO2e/t.km  GT Transport Base Carbone                  NaN   \n",
       "...                      ...                        ...                  ...   \n",
       "556            kgCO2e/peq.km  GT Transport Base Carbone                  NaN   \n",
       "557            kgCO2e/peq.km  GT Transport Base Carbone                  NaN   \n",
       "4643  kgCO2e/kg de poids net                 AGRIBALYSE                  NaN   \n",
       "5342  kgCO2e/kg de poids net                 AGRIBALYSE                  NaN   \n",
       "7084              kgCO2e/kWh                      ADEME                  NaN   \n",
       "\n",
       "                       Programme  \\\n",
       "264                          NaN   \n",
       "265                          NaN   \n",
       "266                          NaN   \n",
       "267                          NaN   \n",
       "268                          NaN   \n",
       "...                          ...   \n",
       "556                          NaN   \n",
       "557                          NaN   \n",
       "4643                  AGRIBALYSE   \n",
       "5342                  AGRIBALYSE   \n",
       "7084  DPE - arrêté 11 avril 2018   \n",
       "\n",
       "                                       Url du programme  \\\n",
       "264                                                 NaN   \n",
       "265                                                 NaN   \n",
       "266                                                 NaN   \n",
       "267                                                 NaN   \n",
       "268                                                 NaN   \n",
       "...                                                 ...   \n",
       "556                                                 NaN   \n",
       "557                                                 NaN   \n",
       "4643                         https://app.agribalyse.fr/   \n",
       "5342                         https://app.agribalyse.fr/   \n",
       "7084  http://reseaux-chaleur.cerema.fr/contenus-co2-...   \n",
       "\n",
       "                                                 Source            geography  \\\n",
       "264                                 Ecocalculateur DGAC  France continentale   \n",
       "265                                 Ecocalculateur DGAC  France continentale   \n",
       "266                                 Ecocalculateur DGAC  France continentale   \n",
       "267                                 Ecocalculateur DGAC  France continentale   \n",
       "268                                 Ecocalculateur DGAC  France continentale   \n",
       "...                                                 ...                  ...   \n",
       "556                                 Ecocalculateur DGAC  France continentale   \n",
       "557                                 Ecocalculateur DGAC  France continentale   \n",
       "4643  https://ecolab.gitbook.io/documentation-agriba...  France continentale   \n",
       "5342  https://ecolab.gitbook.io/documentation-agriba...  France continentale   \n",
       "7084                                                NaN  France continentale   \n",
       "\n",
       "     Sous-localisation géographique français Date de création  \\\n",
       "264                                      NaN       28/04/2020   \n",
       "265                                      NaN       28/04/2020   \n",
       "266                                      NaN       28/04/2020   \n",
       "267                                      NaN       28/04/2020   \n",
       "268                                      NaN       28/04/2020   \n",
       "...                                      ...              ...   \n",
       "556                                      NaN       28/04/2020   \n",
       "557                                      NaN       28/04/2020   \n",
       "4643                                     NaN       04/03/2021   \n",
       "5342                                     NaN       04/03/2021   \n",
       "7084               Nord-Pas-De-Calais, Avion       11/09/2019   \n",
       "\n",
       "     Date de modification Période de validité  Incertitude  \\\n",
       "264            28/04/2020          31-mars-21         70.0   \n",
       "265            28/04/2020          31-mars-21         70.0   \n",
       "266            28/04/2020          31-mars-21         70.0   \n",
       "267            28/04/2020          31-mars-21         70.0   \n",
       "268            28/04/2020          31-mars-21         10.0   \n",
       "...                   ...                 ...          ...   \n",
       "556            28/04/2020          31-mars-21         10.0   \n",
       "557            28/04/2020          31-mars-21         10.0   \n",
       "4643           04/03/2021          31/12/2023          NaN   \n",
       "5342           04/03/2021          31/12/2023          NaN   \n",
       "7084           11/09/2019                2020         30.0   \n",
       "\n",
       "                                        Réglementations Transparence Qualité  \\\n",
       "264        DonnÃ©es de l'article L229-25 de la loi TECV            4     NaN   \n",
       "265        DonnÃ©es de l'article L229-25 de la loi TECV            4     NaN   \n",
       "266        DonnÃ©es de l'article L229-25 de la loi TECV            4     NaN   \n",
       "267        DonnÃ©es de l'article L229-25 de la loi TECV            4     NaN   \n",
       "268   DonnÃ©es de l'article L229-25 de la loi TECV, ...            4     NaN   \n",
       "...                                                 ...          ...     ...   \n",
       "556   DonnÃ©es de l'article L229-25 de la loi TECV, ...            4     NaN   \n",
       "557   DonnÃ©es de l'article L229-25 de la loi TECV, ...            4     NaN   \n",
       "4643                                                NaN            5     NaN   \n",
       "5342                                                NaN            5     NaN   \n",
       "7084       DonnÃ©es de l'article L229-25 de la loi TECV          NaN     NaN   \n",
       "\n",
       "      Qualité TeR  Qualité GR  Qualité TiR  Qualité C  Qualité P  Qualité M  \\\n",
       "264           5.0         2.0          4.0        5.0        2.0        2.0   \n",
       "265           5.0         2.0          4.0        5.0        2.0        2.0   \n",
       "266           5.0         2.0          4.0        5.0        2.0        2.0   \n",
       "267           5.0         2.0          4.0        5.0        2.0        2.0   \n",
       "268           5.0         5.0          4.0        5.0        5.0        5.0   \n",
       "...           ...         ...          ...        ...        ...        ...   \n",
       "556           5.0         5.0          4.0        5.0        5.0        5.0   \n",
       "557           5.0         5.0          4.0        5.0        5.0        5.0   \n",
       "4643          4.0         NaN          NaN        NaN        NaN        NaN   \n",
       "5342          4.0         NaN          NaN        NaN        NaN        NaN   \n",
       "7084          NaN         NaN          NaN        NaN        NaN        NaN   \n",
       "\n",
       "                                   Commentaire français           Type poste  \\\n",
       "264   Données intégrant l'impact induit des trainées...                  NaN   \n",
       "265   Données intégrant l'impact induit des trainées...                Amont   \n",
       "266   Données intégrant l'impact induit des trainées...           Combustion   \n",
       "267   Données intégrant l'impact induit des trainées...  Emissions fugitives   \n",
       "268                                                 NaN                  NaN   \n",
       "...                                                 ...                  ...   \n",
       "556                                                 NaN                Amont   \n",
       "557                                                 NaN           Combustion   \n",
       "4643                                                NaN                  NaN   \n",
       "5342                                                NaN                  NaN   \n",
       "7084                                                NaN                  NaN   \n",
       "\n",
       "            Nom poste français emissions    CO2f      CH4f CH4b       N2O  \\\n",
       "264                        NaN      3,47    1,86    0,0173    0    0,0263   \n",
       "265                  Carburant      0,31   0,296  2,50E-03    0    0,0115   \n",
       "266                  Carburant      1,59    1,56    0,0148    0    0,0148   \n",
       "267   Trainées de condensation      1,57       0         0    0         0   \n",
       "268                        NaN       1,9    1,86    0,0173    0    0,0263   \n",
       "...                        ...       ...     ...       ...  ...       ...   \n",
       "556                  Carburant    0,0176   0,016  7,98E-04    0  7,95E-04   \n",
       "557                  Carburant    0,0847  0,0841  9,00E-06    0  6,36E-04   \n",
       "4643                       NaN      10,3     NaN       NaN  NaN       NaN   \n",
       "5342                       NaN      14,9     NaN       NaN  NaN       NaN   \n",
       "7084                       NaN     0,201     NaN       NaN  NaN       NaN   \n",
       "\n",
       "     Code gaz supplémentaire 1 Valeur gaz supplémentaire 1  \\\n",
       "264                     Divers                        1,57   \n",
       "265                        NaN                           0   \n",
       "266                        NaN                           0   \n",
       "267                        NaN                        1,57   \n",
       "268                        NaN                           0   \n",
       "...                        ...                         ...   \n",
       "556                        NaN                         NaN   \n",
       "557                        NaN                         NaN   \n",
       "4643                       NaN                         NaN   \n",
       "5342                       NaN                         NaN   \n",
       "7084                       NaN                         NaN   \n",
       "\n",
       "     Code gaz supplémentaire 2 Valeur gaz supplémentaire 2  \\\n",
       "264                        NaN                           0   \n",
       "265                        NaN                         NaN   \n",
       "266                        NaN                         NaN   \n",
       "267                        NaN                         NaN   \n",
       "268                        NaN                           0   \n",
       "...                        ...                         ...   \n",
       "556                        NaN                         NaN   \n",
       "557                        NaN                         NaN   \n",
       "4643                       NaN                         NaN   \n",
       "5342                       NaN                         NaN   \n",
       "7084                       NaN                         NaN   \n",
       "\n",
       "      Code gaz supplémentaire 3  Valeur gaz supplémentaire 3  \\\n",
       "264                         NaN                          0.0   \n",
       "265                         NaN                          NaN   \n",
       "266                         NaN                          NaN   \n",
       "267                         NaN                          NaN   \n",
       "268                         NaN                          0.0   \n",
       "...                         ...                          ...   \n",
       "556                         NaN                          NaN   \n",
       "557                         NaN                          NaN   \n",
       "4643                        NaN                          NaN   \n",
       "5342                        NaN                          NaN   \n",
       "7084                        NaN                          NaN   \n",
       "\n",
       "      Code gaz supplémentaire 4  Valeur gaz supplémentaire 4  \\\n",
       "264                         NaN                          0.0   \n",
       "265                         NaN                          NaN   \n",
       "266                         NaN                          NaN   \n",
       "267                         NaN                          NaN   \n",
       "268                         NaN                          0.0   \n",
       "...                         ...                          ...   \n",
       "556                         NaN                          NaN   \n",
       "557                         NaN                          NaN   \n",
       "4643                        NaN                          NaN   \n",
       "5342                        NaN                          NaN   \n",
       "7084                        NaN                          NaN   \n",
       "\n",
       "     Code gaz supplémentaire 5 Valeur gaz supplémentaire 5 Autres GES CO2b  \\\n",
       "264                        NaN                           0          0    0   \n",
       "265                        NaN                         NaN          0    0   \n",
       "266                        NaN                         NaN          0    0   \n",
       "267                        NaN                         NaN          0    0   \n",
       "268                        NaN                           0          0    0   \n",
       "...                        ...                         ...        ...  ...   \n",
       "556                        NaN                         NaN          0    0   \n",
       "557                        NaN                         NaN          0    0   \n",
       "4643                       NaN                         NaN        NaN  NaN   \n",
       "5342                       NaN                         NaN        NaN  NaN   \n",
       "7084                       NaN                         NaN        NaN  NaN   \n",
       "\n",
       "                                                   text  \\\n",
       "264   avion cargo 10 à 25 tonnes, 500 - 1000 kms, 20...   \n",
       "265   avion cargo 10 à 25 tonnes, 500 - 1000 kms, 20...   \n",
       "266   avion cargo 10 à 25 tonnes, 500 - 1000 kms, 20...   \n",
       "267   avion cargo 10 à 25 tonnes, 500 - 1000 kms, 20...   \n",
       "268   avion cargo 10 à 25 tonnes, 500 - 1000 kms, 20...   \n",
       "...                                                 ...   \n",
       "556   avion passagers moyen courrier, 2018 transport...   \n",
       "557   avion passagers moyen courrier, 2018 transport...   \n",
       "4643  haricot vert importé par avion cru légumes,lég...   \n",
       "5342  mangue importée par avion pulpe, crue légumes,...   \n",
       "7084  réseau de chaleur 62, avion, zup du quartier r...   \n",
       "\n",
       "                                             text_split  \\\n",
       "264   [avion, cargo, tonnes, 500, 1000, kms, 2018, t...   \n",
       "265   [avion, cargo, tonnes, 500, 1000, kms, 2018, t...   \n",
       "266   [avion, cargo, tonnes, 500, 1000, kms, 2018, t...   \n",
       "267   [avion, cargo, tonnes, 500, 1000, kms, 2018, t...   \n",
       "268   [avion, cargo, tonnes, 500, 1000, kms, 2018, a...   \n",
       "...                                                 ...   \n",
       "556   [avion, passagers, moyen, courrier, 2018, tran...   \n",
       "557   [avion, passagers, moyen, courrier, 2018, tran...   \n",
       "4643  [haricot, vert, importé, par, avion, cru, légu...   \n",
       "5342  [mangue, importée, par, avion, pulpe, crue, lé...   \n",
       "7084  [réseau, chaleur, avion, zup, quartier, républ...   \n",
       "\n",
       "                       category1  \\\n",
       "264    Transport de marchandises   \n",
       "265    Transport de marchandises   \n",
       "266    Transport de marchandises   \n",
       "267    Transport de marchandises   \n",
       "268    Transport de marchandises   \n",
       "...                          ...   \n",
       "556       Transport de personnes   \n",
       "557       Transport de personnes   \n",
       "4643             Achats de biens   \n",
       "5342             Achats de biens   \n",
       "7084  Réseaux de chaleur / froid   \n",
       "\n",
       "                                              category2  \\\n",
       "264                                              Aérien   \n",
       "265                                              Aérien   \n",
       "266                                              Aérien   \n",
       "267                                              Aérien   \n",
       "268                                              Aérien   \n",
       "...                                                 ...   \n",
       "556                                              Aérien   \n",
       "557                                              Aérien   \n",
       "4643  Produits agro-alimentaires, plats préparés et ...   \n",
       "5342  Produits agro-alimentaires, plats préparés et ...   \n",
       "7084                                 Nord-Pas-de-Calais   \n",
       "\n",
       "                                           category3  \\\n",
       "264                                      Avion Cargo   \n",
       "265                                      Avion Cargo   \n",
       "266                                      Avion Cargo   \n",
       "267                                      Avion Cargo   \n",
       "268                                      Avion Cargo   \n",
       "...                                              ...   \n",
       "556   Court, Moyen, Long courrier (Valeurs moyennes)   \n",
       "557   Court, Moyen, Long courrier (Valeurs moyennes)   \n",
       "4643     Fruits, légumes, légumineuses et oléagineux   \n",
       "5342     Fruits, légumes, légumineuses et oléagineux   \n",
       "7084                                             NaN   \n",
       "\n",
       "                                 category4 category5  \n",
       "264   10 - 25 t : détail par kms parcourus       NaN  \n",
       "265   10 - 25 t : détail par kms parcourus       NaN  \n",
       "266   10 - 25 t : détail par kms parcourus       NaN  \n",
       "267   10 - 25 t : détail par kms parcourus       NaN  \n",
       "268   10 - 25 t : détail par kms parcourus       NaN  \n",
       "...                                    ...       ...  \n",
       "556                                    NaN       NaN  \n",
       "557                                    NaN       NaN  \n",
       "4643                               Légumes       NaN  \n",
       "5342                                Fruits       NaN  \n",
       "7084                                   NaN       NaN  \n",
       "\n",
       "[297 rows x 58 columns]"
      ]
     },
     "execution_count": 148,
     "metadata": {},
     "output_type": "execute_result"
    }
   ],
   "source": [
    "avion"
   ]
  },
  {
   "cell_type": "code",
   "execution_count": null,
   "id": "5571e3a0",
   "metadata": {},
   "outputs": [],
   "source": []
  }
 ],
 "metadata": {
  "kernelspec": {
   "display_name": "Python 3 (ipykernel)",
   "language": "python",
   "name": "python3"
  },
  "language_info": {
   "codemirror_mode": {
    "name": "ipython",
    "version": 3
   },
   "file_extension": ".py",
   "mimetype": "text/x-python",
   "name": "python",
   "nbconvert_exporter": "python",
   "pygments_lexer": "ipython3",
   "version": "3.8.8"
  }
 },
 "nbformat": 4,
 "nbformat_minor": 5
}
