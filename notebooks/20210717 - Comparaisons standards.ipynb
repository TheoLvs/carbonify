{
 "cells": [
  {
   "cell_type": "code",
   "execution_count": 1,
   "id": "fc5db362",
   "metadata": {},
   "outputs": [],
   "source": [
    "import pandas as pd\n",
    "import numpy as np\n",
    "import matplotlib.pyplot as plt\n",
    "\n",
    "%load_ext autoreload\n",
    "%autoreload 2\n",
    "\n",
    "pd.options.display.max_rows = 100\n",
    "pd.options.display.max_columns = 100"
   ]
  },
  {
   "cell_type": "code",
   "execution_count": 2,
   "id": "099378b7",
   "metadata": {},
   "outputs": [],
   "source": [
    "import sys\n",
    "sys.path.append(\"../\")\n",
    "\n",
    "from carbonify import BaseCarbone"
   ]
  },
  {
   "cell_type": "markdown",
   "id": "0dc94bff",
   "metadata": {},
   "source": [
    "# Exploring Base Carbone\n",
    "- [Base Carbone](https://data.ademe.fr/datasets/base-carbone(r)) by ADEME \n",
    "- [Documentation](https://www.bilans-ges.ademe.fr/fr/accueil/contenu/index/page/presentation/siGras/0)"
   ]
  },
  {
   "cell_type": "code",
   "execution_count": 3,
   "id": "30fec24e",
   "metadata": {},
   "outputs": [],
   "source": [
    "PATH = \"../data/raw/base_carbone.csv\"\n",
    "\n",
    "baca = BaseCarbone(PATH)"
   ]
  },
  {
   "cell_type": "markdown",
   "id": "bba5a3b3",
   "metadata": {},
   "source": [
    "## Visualization helper"
   ]
  },
  {
   "cell_type": "code",
   "execution_count": 4,
   "id": "1171de13",
   "metadata": {},
   "outputs": [],
   "source": [
    "import plotly.express as px"
   ]
  },
  {
   "cell_type": "code",
   "execution_count": 32,
   "id": "b6177af8",
   "metadata": {},
   "outputs": [
    {
     "data": {
      "application/vnd.plotly.v1+json": {
       "config": {
        "plotlyServerURL": "https://plot.ly"
       },
       "data": [
        {
         "branchvalues": "total",
         "customdata": [
          [
           33054,
           14.9,
           "kgCO2e/kg de poids net"
          ],
          [
           33055,
           0.655,
           "kgCO2e/kg de poids net"
          ],
          [
           28425,
           0.122,
           "kgCO2e/kg"
          ],
          [
           33054,
           14.9,
           "kgCO2e/kg de poids net"
          ],
          [
           33055,
           0.655,
           "kgCO2e/kg de poids net"
          ],
          [
           28425,
           0.122,
           "kgCO2e/kg"
          ],
          [
           33054,
           14.9,
           "kgCO2e/kg de poids net"
          ],
          [
           33055,
           0.655,
           "kgCO2e/kg de poids net"
          ],
          [
           28425,
           0.122,
           "kgCO2e/kg"
          ],
          [
           28425,
           0.122,
           "kgCO2e/kg"
          ],
          [
           33054,
           14.9,
           "kgCO2e/kg de poids net"
          ],
          [
           33055,
           0.655,
           "kgCO2e/kg de poids net"
          ],
          [
           28425,
           0.122,
           "kgCO2e/kg"
          ],
          [
           33054,
           14.9,
           "kgCO2e/kg de poids net"
          ],
          [
           33055,
           0.655,
           "kgCO2e/kg de poids net"
          ],
          [
           "(?)",
           7.7775,
           "kgCO2e/kg de poids net"
          ],
          [
           28425,
           0.122,
           "kgCO2e/kg"
          ],
          [
           "(?)",
           7.7775,
           "kgCO2e/kg de poids net"
          ],
          [
           28425,
           0.122,
           "kgCO2e/kg"
          ],
          [
           "(?)",
           7.7775,
           "kgCO2e/kg de poids net"
          ],
          [
           28425,
           0.122,
           "kgCO2e/kg"
          ],
          [
           "(?)",
           5.225666666666666,
           "(?)"
          ],
          [
           "(?)",
           5.225666666666666,
           "(?)"
          ]
         ],
         "domain": {
          "x": [
           0,
           1
          ],
          "y": [
           0,
           1
          ]
         },
         "hovertemplate": "<b>%{label}</b> - Count: %{value}<br>Emissions: %{color:.5f} %{customdata[2]}<br>Id: %{customdata[0]}",
         "ids": [
          "all/Achats de biens/Produits agro-alimentaires, plats préparés et boissons/Fruits, légumes, légumineuses et oléagineux/Fruits/Mangue importée par avion/pulpe, crue/ /France continentale/ ",
          "all/Achats de biens/Produits agro-alimentaires, plats préparés et boissons/Fruits, légumes, légumineuses et oléagineux/Fruits/Mangue importée par bateau/pulpe, crue/ /France continentale/ ",
          "all/Achats de biens/Produits de l'agriculture et de la pêche/Produits végétaux/Fruits/Mangue/conventionnel, serre semi fermée,  énergie fatale et biomasse,  avec CO2 liquide, avec recyclage des/Au verger/France continentale/ ",
          "all/Achats de biens/Produits agro-alimentaires, plats préparés et boissons/Fruits, légumes, légumineuses et oléagineux/Fruits/Mangue importée par avion/pulpe, crue/ /France continentale",
          "all/Achats de biens/Produits agro-alimentaires, plats préparés et boissons/Fruits, légumes, légumineuses et oléagineux/Fruits/Mangue importée par bateau/pulpe, crue/ /France continentale",
          "all/Achats de biens/Produits de l'agriculture et de la pêche/Produits végétaux/Fruits/Mangue/conventionnel, serre semi fermée,  énergie fatale et biomasse,  avec CO2 liquide, avec recyclage des/Au verger/France continentale",
          "all/Achats de biens/Produits agro-alimentaires, plats préparés et boissons/Fruits, légumes, légumineuses et oléagineux/Fruits/Mangue importée par avion/pulpe, crue/ ",
          "all/Achats de biens/Produits agro-alimentaires, plats préparés et boissons/Fruits, légumes, légumineuses et oléagineux/Fruits/Mangue importée par bateau/pulpe, crue/ ",
          "all/Achats de biens/Produits de l'agriculture et de la pêche/Produits végétaux/Fruits/Mangue/conventionnel, serre semi fermée,  énergie fatale et biomasse,  avec CO2 liquide, avec recyclage des/Au verger",
          "all/Achats de biens/Produits de l'agriculture et de la pêche/Produits végétaux/Fruits/Mangue/conventionnel, serre semi fermée,  énergie fatale et biomasse,  avec CO2 liquide, avec recyclage des",
          "all/Achats de biens/Produits agro-alimentaires, plats préparés et boissons/Fruits, légumes, légumineuses et oléagineux/Fruits/Mangue importée par avion/pulpe, crue",
          "all/Achats de biens/Produits agro-alimentaires, plats préparés et boissons/Fruits, légumes, légumineuses et oléagineux/Fruits/Mangue importée par bateau/pulpe, crue",
          "all/Achats de biens/Produits de l'agriculture et de la pêche/Produits végétaux/Fruits/Mangue",
          "all/Achats de biens/Produits agro-alimentaires, plats préparés et boissons/Fruits, légumes, légumineuses et oléagineux/Fruits/Mangue importée par avion",
          "all/Achats de biens/Produits agro-alimentaires, plats préparés et boissons/Fruits, légumes, légumineuses et oléagineux/Fruits/Mangue importée par bateau",
          "all/Achats de biens/Produits agro-alimentaires, plats préparés et boissons/Fruits, légumes, légumineuses et oléagineux/Fruits",
          "all/Achats de biens/Produits de l'agriculture et de la pêche/Produits végétaux/Fruits",
          "all/Achats de biens/Produits agro-alimentaires, plats préparés et boissons/Fruits, légumes, légumineuses et oléagineux",
          "all/Achats de biens/Produits de l'agriculture et de la pêche/Produits végétaux",
          "all/Achats de biens/Produits agro-alimentaires, plats préparés et boissons",
          "all/Achats de biens/Produits de l'agriculture et de la pêche",
          "all/Achats de biens",
          "all"
         ],
         "labels": [
          " ",
          " ",
          " ",
          "France continentale",
          "France continentale",
          "France continentale",
          " ",
          " ",
          "Au verger",
          "conventionnel, serre semi fermée,  énergie fatale et biomasse,  avec CO2 liquide, avec recyclage des",
          "pulpe, crue",
          "pulpe, crue",
          "Mangue",
          "Mangue importée par avion",
          "Mangue importée par bateau",
          "Fruits",
          "Fruits",
          "Fruits, légumes, légumineuses et oléagineux",
          "Produits végétaux",
          "Produits agro-alimentaires, plats préparés et boissons",
          "Produits de l'agriculture et de la pêche",
          "Achats de biens",
          "all"
         ],
         "marker": {
          "coloraxis": "coloraxis",
          "colors": [
           14.9,
           0.655,
           0.122,
           14.9,
           0.655,
           0.122,
           14.9,
           0.655,
           0.122,
           0.122,
           14.9,
           0.655,
           0.122,
           14.9,
           0.655,
           7.7775,
           0.122,
           7.7775,
           0.122,
           7.7775,
           0.122,
           5.225666666666666,
           5.225666666666666
          ]
         },
         "maxdepth": 6,
         "name": "",
         "parents": [
          "all/Achats de biens/Produits agro-alimentaires, plats préparés et boissons/Fruits, légumes, légumineuses et oléagineux/Fruits/Mangue importée par avion/pulpe, crue/ /France continentale",
          "all/Achats de biens/Produits agro-alimentaires, plats préparés et boissons/Fruits, légumes, légumineuses et oléagineux/Fruits/Mangue importée par bateau/pulpe, crue/ /France continentale",
          "all/Achats de biens/Produits de l'agriculture et de la pêche/Produits végétaux/Fruits/Mangue/conventionnel, serre semi fermée,  énergie fatale et biomasse,  avec CO2 liquide, avec recyclage des/Au verger/France continentale",
          "all/Achats de biens/Produits agro-alimentaires, plats préparés et boissons/Fruits, légumes, légumineuses et oléagineux/Fruits/Mangue importée par avion/pulpe, crue/ ",
          "all/Achats de biens/Produits agro-alimentaires, plats préparés et boissons/Fruits, légumes, légumineuses et oléagineux/Fruits/Mangue importée par bateau/pulpe, crue/ ",
          "all/Achats de biens/Produits de l'agriculture et de la pêche/Produits végétaux/Fruits/Mangue/conventionnel, serre semi fermée,  énergie fatale et biomasse,  avec CO2 liquide, avec recyclage des/Au verger",
          "all/Achats de biens/Produits agro-alimentaires, plats préparés et boissons/Fruits, légumes, légumineuses et oléagineux/Fruits/Mangue importée par avion/pulpe, crue",
          "all/Achats de biens/Produits agro-alimentaires, plats préparés et boissons/Fruits, légumes, légumineuses et oléagineux/Fruits/Mangue importée par bateau/pulpe, crue",
          "all/Achats de biens/Produits de l'agriculture et de la pêche/Produits végétaux/Fruits/Mangue/conventionnel, serre semi fermée,  énergie fatale et biomasse,  avec CO2 liquide, avec recyclage des",
          "all/Achats de biens/Produits de l'agriculture et de la pêche/Produits végétaux/Fruits/Mangue",
          "all/Achats de biens/Produits agro-alimentaires, plats préparés et boissons/Fruits, légumes, légumineuses et oléagineux/Fruits/Mangue importée par avion",
          "all/Achats de biens/Produits agro-alimentaires, plats préparés et boissons/Fruits, légumes, légumineuses et oléagineux/Fruits/Mangue importée par bateau",
          "all/Achats de biens/Produits de l'agriculture et de la pêche/Produits végétaux/Fruits",
          "all/Achats de biens/Produits agro-alimentaires, plats préparés et boissons/Fruits, légumes, légumineuses et oléagineux/Fruits",
          "all/Achats de biens/Produits agro-alimentaires, plats préparés et boissons/Fruits, légumes, légumineuses et oléagineux/Fruits",
          "all/Achats de biens/Produits agro-alimentaires, plats préparés et boissons/Fruits, légumes, légumineuses et oléagineux",
          "all/Achats de biens/Produits de l'agriculture et de la pêche/Produits végétaux",
          "all/Achats de biens/Produits agro-alimentaires, plats préparés et boissons",
          "all/Achats de biens/Produits de l'agriculture et de la pêche",
          "all/Achats de biens",
          "all/Achats de biens",
          "all",
          ""
         ],
         "root": {
          "color": "lightgrey"
         },
         "type": "treemap",
         "values": [
          1,
          1,
          1,
          1,
          1,
          1,
          1,
          1,
          1,
          1,
          1,
          1,
          1,
          1,
          1,
          2,
          1,
          2,
          1,
          2,
          1,
          3,
          3
         ]
        }
       ],
       "layout": {
        "coloraxis": {
         "colorbar": {
          "title": {
           "text": "emissions"
          }
         },
         "colorscale": [
          [
           0,
           "rgb(5,48,97)"
          ],
          [
           0.1,
           "rgb(33,102,172)"
          ],
          [
           0.2,
           "rgb(67,147,195)"
          ],
          [
           0.3,
           "rgb(146,197,222)"
          ],
          [
           0.4,
           "rgb(209,229,240)"
          ],
          [
           0.5,
           "rgb(247,247,247)"
          ],
          [
           0.6,
           "rgb(253,219,199)"
          ],
          [
           0.7,
           "rgb(244,165,130)"
          ],
          [
           0.8,
           "rgb(214,96,77)"
          ],
          [
           0.9,
           "rgb(178,24,43)"
          ],
          [
           1,
           "rgb(103,0,31)"
          ]
         ]
        },
        "legend": {
         "tracegroupgap": 0
        },
        "margin": {
         "t": 60
        },
        "template": {
         "data": {
          "bar": [
           {
            "error_x": {
             "color": "#2a3f5f"
            },
            "error_y": {
             "color": "#2a3f5f"
            },
            "marker": {
             "line": {
              "color": "#E5ECF6",
              "width": 0.5
             },
             "pattern": {
              "fillmode": "overlay",
              "size": 10,
              "solidity": 0.2
             }
            },
            "type": "bar"
           }
          ],
          "barpolar": [
           {
            "marker": {
             "line": {
              "color": "#E5ECF6",
              "width": 0.5
             },
             "pattern": {
              "fillmode": "overlay",
              "size": 10,
              "solidity": 0.2
             }
            },
            "type": "barpolar"
           }
          ],
          "carpet": [
           {
            "aaxis": {
             "endlinecolor": "#2a3f5f",
             "gridcolor": "white",
             "linecolor": "white",
             "minorgridcolor": "white",
             "startlinecolor": "#2a3f5f"
            },
            "baxis": {
             "endlinecolor": "#2a3f5f",
             "gridcolor": "white",
             "linecolor": "white",
             "minorgridcolor": "white",
             "startlinecolor": "#2a3f5f"
            },
            "type": "carpet"
           }
          ],
          "choropleth": [
           {
            "colorbar": {
             "outlinewidth": 0,
             "ticks": ""
            },
            "type": "choropleth"
           }
          ],
          "contour": [
           {
            "colorbar": {
             "outlinewidth": 0,
             "ticks": ""
            },
            "colorscale": [
             [
              0,
              "#0d0887"
             ],
             [
              0.1111111111111111,
              "#46039f"
             ],
             [
              0.2222222222222222,
              "#7201a8"
             ],
             [
              0.3333333333333333,
              "#9c179e"
             ],
             [
              0.4444444444444444,
              "#bd3786"
             ],
             [
              0.5555555555555556,
              "#d8576b"
             ],
             [
              0.6666666666666666,
              "#ed7953"
             ],
             [
              0.7777777777777778,
              "#fb9f3a"
             ],
             [
              0.8888888888888888,
              "#fdca26"
             ],
             [
              1,
              "#f0f921"
             ]
            ],
            "type": "contour"
           }
          ],
          "contourcarpet": [
           {
            "colorbar": {
             "outlinewidth": 0,
             "ticks": ""
            },
            "type": "contourcarpet"
           }
          ],
          "heatmap": [
           {
            "colorbar": {
             "outlinewidth": 0,
             "ticks": ""
            },
            "colorscale": [
             [
              0,
              "#0d0887"
             ],
             [
              0.1111111111111111,
              "#46039f"
             ],
             [
              0.2222222222222222,
              "#7201a8"
             ],
             [
              0.3333333333333333,
              "#9c179e"
             ],
             [
              0.4444444444444444,
              "#bd3786"
             ],
             [
              0.5555555555555556,
              "#d8576b"
             ],
             [
              0.6666666666666666,
              "#ed7953"
             ],
             [
              0.7777777777777778,
              "#fb9f3a"
             ],
             [
              0.8888888888888888,
              "#fdca26"
             ],
             [
              1,
              "#f0f921"
             ]
            ],
            "type": "heatmap"
           }
          ],
          "heatmapgl": [
           {
            "colorbar": {
             "outlinewidth": 0,
             "ticks": ""
            },
            "colorscale": [
             [
              0,
              "#0d0887"
             ],
             [
              0.1111111111111111,
              "#46039f"
             ],
             [
              0.2222222222222222,
              "#7201a8"
             ],
             [
              0.3333333333333333,
              "#9c179e"
             ],
             [
              0.4444444444444444,
              "#bd3786"
             ],
             [
              0.5555555555555556,
              "#d8576b"
             ],
             [
              0.6666666666666666,
              "#ed7953"
             ],
             [
              0.7777777777777778,
              "#fb9f3a"
             ],
             [
              0.8888888888888888,
              "#fdca26"
             ],
             [
              1,
              "#f0f921"
             ]
            ],
            "type": "heatmapgl"
           }
          ],
          "histogram": [
           {
            "marker": {
             "pattern": {
              "fillmode": "overlay",
              "size": 10,
              "solidity": 0.2
             }
            },
            "type": "histogram"
           }
          ],
          "histogram2d": [
           {
            "colorbar": {
             "outlinewidth": 0,
             "ticks": ""
            },
            "colorscale": [
             [
              0,
              "#0d0887"
             ],
             [
              0.1111111111111111,
              "#46039f"
             ],
             [
              0.2222222222222222,
              "#7201a8"
             ],
             [
              0.3333333333333333,
              "#9c179e"
             ],
             [
              0.4444444444444444,
              "#bd3786"
             ],
             [
              0.5555555555555556,
              "#d8576b"
             ],
             [
              0.6666666666666666,
              "#ed7953"
             ],
             [
              0.7777777777777778,
              "#fb9f3a"
             ],
             [
              0.8888888888888888,
              "#fdca26"
             ],
             [
              1,
              "#f0f921"
             ]
            ],
            "type": "histogram2d"
           }
          ],
          "histogram2dcontour": [
           {
            "colorbar": {
             "outlinewidth": 0,
             "ticks": ""
            },
            "colorscale": [
             [
              0,
              "#0d0887"
             ],
             [
              0.1111111111111111,
              "#46039f"
             ],
             [
              0.2222222222222222,
              "#7201a8"
             ],
             [
              0.3333333333333333,
              "#9c179e"
             ],
             [
              0.4444444444444444,
              "#bd3786"
             ],
             [
              0.5555555555555556,
              "#d8576b"
             ],
             [
              0.6666666666666666,
              "#ed7953"
             ],
             [
              0.7777777777777778,
              "#fb9f3a"
             ],
             [
              0.8888888888888888,
              "#fdca26"
             ],
             [
              1,
              "#f0f921"
             ]
            ],
            "type": "histogram2dcontour"
           }
          ],
          "mesh3d": [
           {
            "colorbar": {
             "outlinewidth": 0,
             "ticks": ""
            },
            "type": "mesh3d"
           }
          ],
          "parcoords": [
           {
            "line": {
             "colorbar": {
              "outlinewidth": 0,
              "ticks": ""
             }
            },
            "type": "parcoords"
           }
          ],
          "pie": [
           {
            "automargin": true,
            "type": "pie"
           }
          ],
          "scatter": [
           {
            "marker": {
             "colorbar": {
              "outlinewidth": 0,
              "ticks": ""
             }
            },
            "type": "scatter"
           }
          ],
          "scatter3d": [
           {
            "line": {
             "colorbar": {
              "outlinewidth": 0,
              "ticks": ""
             }
            },
            "marker": {
             "colorbar": {
              "outlinewidth": 0,
              "ticks": ""
             }
            },
            "type": "scatter3d"
           }
          ],
          "scattercarpet": [
           {
            "marker": {
             "colorbar": {
              "outlinewidth": 0,
              "ticks": ""
             }
            },
            "type": "scattercarpet"
           }
          ],
          "scattergeo": [
           {
            "marker": {
             "colorbar": {
              "outlinewidth": 0,
              "ticks": ""
             }
            },
            "type": "scattergeo"
           }
          ],
          "scattergl": [
           {
            "marker": {
             "colorbar": {
              "outlinewidth": 0,
              "ticks": ""
             }
            },
            "type": "scattergl"
           }
          ],
          "scattermapbox": [
           {
            "marker": {
             "colorbar": {
              "outlinewidth": 0,
              "ticks": ""
             }
            },
            "type": "scattermapbox"
           }
          ],
          "scatterpolar": [
           {
            "marker": {
             "colorbar": {
              "outlinewidth": 0,
              "ticks": ""
             }
            },
            "type": "scatterpolar"
           }
          ],
          "scatterpolargl": [
           {
            "marker": {
             "colorbar": {
              "outlinewidth": 0,
              "ticks": ""
             }
            },
            "type": "scatterpolargl"
           }
          ],
          "scatterternary": [
           {
            "marker": {
             "colorbar": {
              "outlinewidth": 0,
              "ticks": ""
             }
            },
            "type": "scatterternary"
           }
          ],
          "surface": [
           {
            "colorbar": {
             "outlinewidth": 0,
             "ticks": ""
            },
            "colorscale": [
             [
              0,
              "#0d0887"
             ],
             [
              0.1111111111111111,
              "#46039f"
             ],
             [
              0.2222222222222222,
              "#7201a8"
             ],
             [
              0.3333333333333333,
              "#9c179e"
             ],
             [
              0.4444444444444444,
              "#bd3786"
             ],
             [
              0.5555555555555556,
              "#d8576b"
             ],
             [
              0.6666666666666666,
              "#ed7953"
             ],
             [
              0.7777777777777778,
              "#fb9f3a"
             ],
             [
              0.8888888888888888,
              "#fdca26"
             ],
             [
              1,
              "#f0f921"
             ]
            ],
            "type": "surface"
           }
          ],
          "table": [
           {
            "cells": {
             "fill": {
              "color": "#EBF0F8"
             },
             "line": {
              "color": "white"
             }
            },
            "header": {
             "fill": {
              "color": "#C8D4E3"
             },
             "line": {
              "color": "white"
             }
            },
            "type": "table"
           }
          ]
         },
         "layout": {
          "annotationdefaults": {
           "arrowcolor": "#2a3f5f",
           "arrowhead": 0,
           "arrowwidth": 1
          },
          "autotypenumbers": "strict",
          "coloraxis": {
           "colorbar": {
            "outlinewidth": 0,
            "ticks": ""
           }
          },
          "colorscale": {
           "diverging": [
            [
             0,
             "#8e0152"
            ],
            [
             0.1,
             "#c51b7d"
            ],
            [
             0.2,
             "#de77ae"
            ],
            [
             0.3,
             "#f1b6da"
            ],
            [
             0.4,
             "#fde0ef"
            ],
            [
             0.5,
             "#f7f7f7"
            ],
            [
             0.6,
             "#e6f5d0"
            ],
            [
             0.7,
             "#b8e186"
            ],
            [
             0.8,
             "#7fbc41"
            ],
            [
             0.9,
             "#4d9221"
            ],
            [
             1,
             "#276419"
            ]
           ],
           "sequential": [
            [
             0,
             "#0d0887"
            ],
            [
             0.1111111111111111,
             "#46039f"
            ],
            [
             0.2222222222222222,
             "#7201a8"
            ],
            [
             0.3333333333333333,
             "#9c179e"
            ],
            [
             0.4444444444444444,
             "#bd3786"
            ],
            [
             0.5555555555555556,
             "#d8576b"
            ],
            [
             0.6666666666666666,
             "#ed7953"
            ],
            [
             0.7777777777777778,
             "#fb9f3a"
            ],
            [
             0.8888888888888888,
             "#fdca26"
            ],
            [
             1,
             "#f0f921"
            ]
           ],
           "sequentialminus": [
            [
             0,
             "#0d0887"
            ],
            [
             0.1111111111111111,
             "#46039f"
            ],
            [
             0.2222222222222222,
             "#7201a8"
            ],
            [
             0.3333333333333333,
             "#9c179e"
            ],
            [
             0.4444444444444444,
             "#bd3786"
            ],
            [
             0.5555555555555556,
             "#d8576b"
            ],
            [
             0.6666666666666666,
             "#ed7953"
            ],
            [
             0.7777777777777778,
             "#fb9f3a"
            ],
            [
             0.8888888888888888,
             "#fdca26"
            ],
            [
             1,
             "#f0f921"
            ]
           ]
          },
          "colorway": [
           "#636efa",
           "#EF553B",
           "#00cc96",
           "#ab63fa",
           "#FFA15A",
           "#19d3f3",
           "#FF6692",
           "#B6E880",
           "#FF97FF",
           "#FECB52"
          ],
          "font": {
           "color": "#2a3f5f"
          },
          "geo": {
           "bgcolor": "white",
           "lakecolor": "white",
           "landcolor": "#E5ECF6",
           "showlakes": true,
           "showland": true,
           "subunitcolor": "white"
          },
          "hoverlabel": {
           "align": "left"
          },
          "hovermode": "closest",
          "mapbox": {
           "style": "light"
          },
          "paper_bgcolor": "white",
          "plot_bgcolor": "#E5ECF6",
          "polar": {
           "angularaxis": {
            "gridcolor": "white",
            "linecolor": "white",
            "ticks": ""
           },
           "bgcolor": "#E5ECF6",
           "radialaxis": {
            "gridcolor": "white",
            "linecolor": "white",
            "ticks": ""
           }
          },
          "scene": {
           "xaxis": {
            "backgroundcolor": "#E5ECF6",
            "gridcolor": "white",
            "gridwidth": 2,
            "linecolor": "white",
            "showbackground": true,
            "ticks": "",
            "zerolinecolor": "white"
           },
           "yaxis": {
            "backgroundcolor": "#E5ECF6",
            "gridcolor": "white",
            "gridwidth": 2,
            "linecolor": "white",
            "showbackground": true,
            "ticks": "",
            "zerolinecolor": "white"
           },
           "zaxis": {
            "backgroundcolor": "#E5ECF6",
            "gridcolor": "white",
            "gridwidth": 2,
            "linecolor": "white",
            "showbackground": true,
            "ticks": "",
            "zerolinecolor": "white"
           }
          },
          "shapedefaults": {
           "line": {
            "color": "#2a3f5f"
           }
          },
          "ternary": {
           "aaxis": {
            "gridcolor": "white",
            "linecolor": "white",
            "ticks": ""
           },
           "baxis": {
            "gridcolor": "white",
            "linecolor": "white",
            "ticks": ""
           },
           "bgcolor": "#E5ECF6",
           "caxis": {
            "gridcolor": "white",
            "linecolor": "white",
            "ticks": ""
           }
          },
          "title": {
           "x": 0.05
          },
          "xaxis": {
           "automargin": true,
           "gridcolor": "white",
           "linecolor": "white",
           "ticks": "",
           "title": {
            "standoff": 15
           },
           "zerolinecolor": "white",
           "zerolinewidth": 2
          },
          "yaxis": {
           "automargin": true,
           "gridcolor": "white",
           "linecolor": "white",
           "ticks": "",
           "title": {
            "standoff": 15
           },
           "zerolinecolor": "white",
           "zerolinewidth": 2
          }
         }
        },
        "title": {
         "text": "Base Carbone results for query='mangue'"
        }
       }
      },
      "text/html": [
       "<div>                            <div id=\"2e760853-bd35-40ab-bcdd-89c3873f6441\" class=\"plotly-graph-div\" style=\"height:525px; width:100%;\"></div>            <script type=\"text/javascript\">                require([\"plotly\"], function(Plotly) {                    window.PLOTLYENV=window.PLOTLYENV || {};                                    if (document.getElementById(\"2e760853-bd35-40ab-bcdd-89c3873f6441\")) {                    Plotly.newPlot(                        \"2e760853-bd35-40ab-bcdd-89c3873f6441\",                        [{\"branchvalues\":\"total\",\"customdata\":[[33054,14.9,\"kgCO2e/kg de poids net\"],[33055,0.655,\"kgCO2e/kg de poids net\"],[28425,0.122,\"kgCO2e/kg\"],[33054,14.9,\"kgCO2e/kg de poids net\"],[33055,0.655,\"kgCO2e/kg de poids net\"],[28425,0.122,\"kgCO2e/kg\"],[33054,14.9,\"kgCO2e/kg de poids net\"],[33055,0.655,\"kgCO2e/kg de poids net\"],[28425,0.122,\"kgCO2e/kg\"],[28425,0.122,\"kgCO2e/kg\"],[33054,14.9,\"kgCO2e/kg de poids net\"],[33055,0.655,\"kgCO2e/kg de poids net\"],[28425,0.122,\"kgCO2e/kg\"],[33054,14.9,\"kgCO2e/kg de poids net\"],[33055,0.655,\"kgCO2e/kg de poids net\"],[\"(?)\",7.7775,\"kgCO2e/kg de poids net\"],[28425,0.122,\"kgCO2e/kg\"],[\"(?)\",7.7775,\"kgCO2e/kg de poids net\"],[28425,0.122,\"kgCO2e/kg\"],[\"(?)\",7.7775,\"kgCO2e/kg de poids net\"],[28425,0.122,\"kgCO2e/kg\"],[\"(?)\",5.225666666666666,\"(?)\"],[\"(?)\",5.225666666666666,\"(?)\"]],\"domain\":{\"x\":[0.0,1.0],\"y\":[0.0,1.0]},\"hovertemplate\":\"<b>%{label}</b> - Count: %{value}<br>Emissions: %{color:.5f} %{customdata[2]}<br>Id: %{customdata[0]}\",\"ids\":[\"all/Achats de biens/Produits agro-alimentaires, plats pr\\u00e9par\\u00e9s et boissons/Fruits, l\\u00e9gumes, l\\u00e9gumineuses et ol\\u00e9agineux/Fruits/Mangue import\\u00e9e par avion/pulpe, crue/ /France continentale/ \",\"all/Achats de biens/Produits agro-alimentaires, plats pr\\u00e9par\\u00e9s et boissons/Fruits, l\\u00e9gumes, l\\u00e9gumineuses et ol\\u00e9agineux/Fruits/Mangue import\\u00e9e par bateau/pulpe, crue/ /France continentale/ \",\"all/Achats de biens/Produits de l'agriculture et de la p\\u00eache/Produits v\\u00e9g\\u00e9taux/Fruits/Mangue/conventionnel, serre semi ferm\\u00e9e,  \\u00e9nergie fatale et biomasse,  avec CO2 liquide, avec recyclage des/Au verger/France continentale/ \",\"all/Achats de biens/Produits agro-alimentaires, plats pr\\u00e9par\\u00e9s et boissons/Fruits, l\\u00e9gumes, l\\u00e9gumineuses et ol\\u00e9agineux/Fruits/Mangue import\\u00e9e par avion/pulpe, crue/ /France continentale\",\"all/Achats de biens/Produits agro-alimentaires, plats pr\\u00e9par\\u00e9s et boissons/Fruits, l\\u00e9gumes, l\\u00e9gumineuses et ol\\u00e9agineux/Fruits/Mangue import\\u00e9e par bateau/pulpe, crue/ /France continentale\",\"all/Achats de biens/Produits de l'agriculture et de la p\\u00eache/Produits v\\u00e9g\\u00e9taux/Fruits/Mangue/conventionnel, serre semi ferm\\u00e9e,  \\u00e9nergie fatale et biomasse,  avec CO2 liquide, avec recyclage des/Au verger/France continentale\",\"all/Achats de biens/Produits agro-alimentaires, plats pr\\u00e9par\\u00e9s et boissons/Fruits, l\\u00e9gumes, l\\u00e9gumineuses et ol\\u00e9agineux/Fruits/Mangue import\\u00e9e par avion/pulpe, crue/ \",\"all/Achats de biens/Produits agro-alimentaires, plats pr\\u00e9par\\u00e9s et boissons/Fruits, l\\u00e9gumes, l\\u00e9gumineuses et ol\\u00e9agineux/Fruits/Mangue import\\u00e9e par bateau/pulpe, crue/ \",\"all/Achats de biens/Produits de l'agriculture et de la p\\u00eache/Produits v\\u00e9g\\u00e9taux/Fruits/Mangue/conventionnel, serre semi ferm\\u00e9e,  \\u00e9nergie fatale et biomasse,  avec CO2 liquide, avec recyclage des/Au verger\",\"all/Achats de biens/Produits de l'agriculture et de la p\\u00eache/Produits v\\u00e9g\\u00e9taux/Fruits/Mangue/conventionnel, serre semi ferm\\u00e9e,  \\u00e9nergie fatale et biomasse,  avec CO2 liquide, avec recyclage des\",\"all/Achats de biens/Produits agro-alimentaires, plats pr\\u00e9par\\u00e9s et boissons/Fruits, l\\u00e9gumes, l\\u00e9gumineuses et ol\\u00e9agineux/Fruits/Mangue import\\u00e9e par avion/pulpe, crue\",\"all/Achats de biens/Produits agro-alimentaires, plats pr\\u00e9par\\u00e9s et boissons/Fruits, l\\u00e9gumes, l\\u00e9gumineuses et ol\\u00e9agineux/Fruits/Mangue import\\u00e9e par bateau/pulpe, crue\",\"all/Achats de biens/Produits de l'agriculture et de la p\\u00eache/Produits v\\u00e9g\\u00e9taux/Fruits/Mangue\",\"all/Achats de biens/Produits agro-alimentaires, plats pr\\u00e9par\\u00e9s et boissons/Fruits, l\\u00e9gumes, l\\u00e9gumineuses et ol\\u00e9agineux/Fruits/Mangue import\\u00e9e par avion\",\"all/Achats de biens/Produits agro-alimentaires, plats pr\\u00e9par\\u00e9s et boissons/Fruits, l\\u00e9gumes, l\\u00e9gumineuses et ol\\u00e9agineux/Fruits/Mangue import\\u00e9e par bateau\",\"all/Achats de biens/Produits agro-alimentaires, plats pr\\u00e9par\\u00e9s et boissons/Fruits, l\\u00e9gumes, l\\u00e9gumineuses et ol\\u00e9agineux/Fruits\",\"all/Achats de biens/Produits de l'agriculture et de la p\\u00eache/Produits v\\u00e9g\\u00e9taux/Fruits\",\"all/Achats de biens/Produits agro-alimentaires, plats pr\\u00e9par\\u00e9s et boissons/Fruits, l\\u00e9gumes, l\\u00e9gumineuses et ol\\u00e9agineux\",\"all/Achats de biens/Produits de l'agriculture et de la p\\u00eache/Produits v\\u00e9g\\u00e9taux\",\"all/Achats de biens/Produits agro-alimentaires, plats pr\\u00e9par\\u00e9s et boissons\",\"all/Achats de biens/Produits de l'agriculture et de la p\\u00eache\",\"all/Achats de biens\",\"all\"],\"labels\":[\" \",\" \",\" \",\"France continentale\",\"France continentale\",\"France continentale\",\" \",\" \",\"Au verger\",\"conventionnel, serre semi ferm\\u00e9e,  \\u00e9nergie fatale et biomasse,  avec CO2 liquide, avec recyclage des\",\"pulpe, crue\",\"pulpe, crue\",\"Mangue\",\"Mangue import\\u00e9e par avion\",\"Mangue import\\u00e9e par bateau\",\"Fruits\",\"Fruits\",\"Fruits, l\\u00e9gumes, l\\u00e9gumineuses et ol\\u00e9agineux\",\"Produits v\\u00e9g\\u00e9taux\",\"Produits agro-alimentaires, plats pr\\u00e9par\\u00e9s et boissons\",\"Produits de l'agriculture et de la p\\u00eache\",\"Achats de biens\",\"all\"],\"marker\":{\"coloraxis\":\"coloraxis\",\"colors\":[14.9,0.655,0.122,14.9,0.655,0.122,14.9,0.655,0.122,0.122,14.9,0.655,0.122,14.9,0.655,7.7775,0.122,7.7775,0.122,7.7775,0.122,5.225666666666666,5.225666666666666]},\"maxdepth\":6,\"name\":\"\",\"parents\":[\"all/Achats de biens/Produits agro-alimentaires, plats pr\\u00e9par\\u00e9s et boissons/Fruits, l\\u00e9gumes, l\\u00e9gumineuses et ol\\u00e9agineux/Fruits/Mangue import\\u00e9e par avion/pulpe, crue/ /France continentale\",\"all/Achats de biens/Produits agro-alimentaires, plats pr\\u00e9par\\u00e9s et boissons/Fruits, l\\u00e9gumes, l\\u00e9gumineuses et ol\\u00e9agineux/Fruits/Mangue import\\u00e9e par bateau/pulpe, crue/ /France continentale\",\"all/Achats de biens/Produits de l'agriculture et de la p\\u00eache/Produits v\\u00e9g\\u00e9taux/Fruits/Mangue/conventionnel, serre semi ferm\\u00e9e,  \\u00e9nergie fatale et biomasse,  avec CO2 liquide, avec recyclage des/Au verger/France continentale\",\"all/Achats de biens/Produits agro-alimentaires, plats pr\\u00e9par\\u00e9s et boissons/Fruits, l\\u00e9gumes, l\\u00e9gumineuses et ol\\u00e9agineux/Fruits/Mangue import\\u00e9e par avion/pulpe, crue/ \",\"all/Achats de biens/Produits agro-alimentaires, plats pr\\u00e9par\\u00e9s et boissons/Fruits, l\\u00e9gumes, l\\u00e9gumineuses et ol\\u00e9agineux/Fruits/Mangue import\\u00e9e par bateau/pulpe, crue/ \",\"all/Achats de biens/Produits de l'agriculture et de la p\\u00eache/Produits v\\u00e9g\\u00e9taux/Fruits/Mangue/conventionnel, serre semi ferm\\u00e9e,  \\u00e9nergie fatale et biomasse,  avec CO2 liquide, avec recyclage des/Au verger\",\"all/Achats de biens/Produits agro-alimentaires, plats pr\\u00e9par\\u00e9s et boissons/Fruits, l\\u00e9gumes, l\\u00e9gumineuses et ol\\u00e9agineux/Fruits/Mangue import\\u00e9e par avion/pulpe, crue\",\"all/Achats de biens/Produits agro-alimentaires, plats pr\\u00e9par\\u00e9s et boissons/Fruits, l\\u00e9gumes, l\\u00e9gumineuses et ol\\u00e9agineux/Fruits/Mangue import\\u00e9e par bateau/pulpe, crue\",\"all/Achats de biens/Produits de l'agriculture et de la p\\u00eache/Produits v\\u00e9g\\u00e9taux/Fruits/Mangue/conventionnel, serre semi ferm\\u00e9e,  \\u00e9nergie fatale et biomasse,  avec CO2 liquide, avec recyclage des\",\"all/Achats de biens/Produits de l'agriculture et de la p\\u00eache/Produits v\\u00e9g\\u00e9taux/Fruits/Mangue\",\"all/Achats de biens/Produits agro-alimentaires, plats pr\\u00e9par\\u00e9s et boissons/Fruits, l\\u00e9gumes, l\\u00e9gumineuses et ol\\u00e9agineux/Fruits/Mangue import\\u00e9e par avion\",\"all/Achats de biens/Produits agro-alimentaires, plats pr\\u00e9par\\u00e9s et boissons/Fruits, l\\u00e9gumes, l\\u00e9gumineuses et ol\\u00e9agineux/Fruits/Mangue import\\u00e9e par bateau\",\"all/Achats de biens/Produits de l'agriculture et de la p\\u00eache/Produits v\\u00e9g\\u00e9taux/Fruits\",\"all/Achats de biens/Produits agro-alimentaires, plats pr\\u00e9par\\u00e9s et boissons/Fruits, l\\u00e9gumes, l\\u00e9gumineuses et ol\\u00e9agineux/Fruits\",\"all/Achats de biens/Produits agro-alimentaires, plats pr\\u00e9par\\u00e9s et boissons/Fruits, l\\u00e9gumes, l\\u00e9gumineuses et ol\\u00e9agineux/Fruits\",\"all/Achats de biens/Produits agro-alimentaires, plats pr\\u00e9par\\u00e9s et boissons/Fruits, l\\u00e9gumes, l\\u00e9gumineuses et ol\\u00e9agineux\",\"all/Achats de biens/Produits de l'agriculture et de la p\\u00eache/Produits v\\u00e9g\\u00e9taux\",\"all/Achats de biens/Produits agro-alimentaires, plats pr\\u00e9par\\u00e9s et boissons\",\"all/Achats de biens/Produits de l'agriculture et de la p\\u00eache\",\"all/Achats de biens\",\"all/Achats de biens\",\"all\",\"\"],\"root\":{\"color\":\"lightgrey\"},\"type\":\"treemap\",\"values\":[1,1,1,1,1,1,1,1,1,1,1,1,1,1,1,2,1,2,1,2,1,3,3]}],                        {\"coloraxis\":{\"colorbar\":{\"title\":{\"text\":\"emissions\"}},\"colorscale\":[[0.0,\"rgb(5,48,97)\"],[0.1,\"rgb(33,102,172)\"],[0.2,\"rgb(67,147,195)\"],[0.3,\"rgb(146,197,222)\"],[0.4,\"rgb(209,229,240)\"],[0.5,\"rgb(247,247,247)\"],[0.6,\"rgb(253,219,199)\"],[0.7,\"rgb(244,165,130)\"],[0.8,\"rgb(214,96,77)\"],[0.9,\"rgb(178,24,43)\"],[1.0,\"rgb(103,0,31)\"]]},\"legend\":{\"tracegroupgap\":0},\"margin\":{\"t\":60},\"template\":{\"data\":{\"bar\":[{\"error_x\":{\"color\":\"#2a3f5f\"},\"error_y\":{\"color\":\"#2a3f5f\"},\"marker\":{\"line\":{\"color\":\"#E5ECF6\",\"width\":0.5},\"pattern\":{\"fillmode\":\"overlay\",\"size\":10,\"solidity\":0.2}},\"type\":\"bar\"}],\"barpolar\":[{\"marker\":{\"line\":{\"color\":\"#E5ECF6\",\"width\":0.5},\"pattern\":{\"fillmode\":\"overlay\",\"size\":10,\"solidity\":0.2}},\"type\":\"barpolar\"}],\"carpet\":[{\"aaxis\":{\"endlinecolor\":\"#2a3f5f\",\"gridcolor\":\"white\",\"linecolor\":\"white\",\"minorgridcolor\":\"white\",\"startlinecolor\":\"#2a3f5f\"},\"baxis\":{\"endlinecolor\":\"#2a3f5f\",\"gridcolor\":\"white\",\"linecolor\":\"white\",\"minorgridcolor\":\"white\",\"startlinecolor\":\"#2a3f5f\"},\"type\":\"carpet\"}],\"choropleth\":[{\"colorbar\":{\"outlinewidth\":0,\"ticks\":\"\"},\"type\":\"choropleth\"}],\"contour\":[{\"colorbar\":{\"outlinewidth\":0,\"ticks\":\"\"},\"colorscale\":[[0.0,\"#0d0887\"],[0.1111111111111111,\"#46039f\"],[0.2222222222222222,\"#7201a8\"],[0.3333333333333333,\"#9c179e\"],[0.4444444444444444,\"#bd3786\"],[0.5555555555555556,\"#d8576b\"],[0.6666666666666666,\"#ed7953\"],[0.7777777777777778,\"#fb9f3a\"],[0.8888888888888888,\"#fdca26\"],[1.0,\"#f0f921\"]],\"type\":\"contour\"}],\"contourcarpet\":[{\"colorbar\":{\"outlinewidth\":0,\"ticks\":\"\"},\"type\":\"contourcarpet\"}],\"heatmap\":[{\"colorbar\":{\"outlinewidth\":0,\"ticks\":\"\"},\"colorscale\":[[0.0,\"#0d0887\"],[0.1111111111111111,\"#46039f\"],[0.2222222222222222,\"#7201a8\"],[0.3333333333333333,\"#9c179e\"],[0.4444444444444444,\"#bd3786\"],[0.5555555555555556,\"#d8576b\"],[0.6666666666666666,\"#ed7953\"],[0.7777777777777778,\"#fb9f3a\"],[0.8888888888888888,\"#fdca26\"],[1.0,\"#f0f921\"]],\"type\":\"heatmap\"}],\"heatmapgl\":[{\"colorbar\":{\"outlinewidth\":0,\"ticks\":\"\"},\"colorscale\":[[0.0,\"#0d0887\"],[0.1111111111111111,\"#46039f\"],[0.2222222222222222,\"#7201a8\"],[0.3333333333333333,\"#9c179e\"],[0.4444444444444444,\"#bd3786\"],[0.5555555555555556,\"#d8576b\"],[0.6666666666666666,\"#ed7953\"],[0.7777777777777778,\"#fb9f3a\"],[0.8888888888888888,\"#fdca26\"],[1.0,\"#f0f921\"]],\"type\":\"heatmapgl\"}],\"histogram\":[{\"marker\":{\"pattern\":{\"fillmode\":\"overlay\",\"size\":10,\"solidity\":0.2}},\"type\":\"histogram\"}],\"histogram2d\":[{\"colorbar\":{\"outlinewidth\":0,\"ticks\":\"\"},\"colorscale\":[[0.0,\"#0d0887\"],[0.1111111111111111,\"#46039f\"],[0.2222222222222222,\"#7201a8\"],[0.3333333333333333,\"#9c179e\"],[0.4444444444444444,\"#bd3786\"],[0.5555555555555556,\"#d8576b\"],[0.6666666666666666,\"#ed7953\"],[0.7777777777777778,\"#fb9f3a\"],[0.8888888888888888,\"#fdca26\"],[1.0,\"#f0f921\"]],\"type\":\"histogram2d\"}],\"histogram2dcontour\":[{\"colorbar\":{\"outlinewidth\":0,\"ticks\":\"\"},\"colorscale\":[[0.0,\"#0d0887\"],[0.1111111111111111,\"#46039f\"],[0.2222222222222222,\"#7201a8\"],[0.3333333333333333,\"#9c179e\"],[0.4444444444444444,\"#bd3786\"],[0.5555555555555556,\"#d8576b\"],[0.6666666666666666,\"#ed7953\"],[0.7777777777777778,\"#fb9f3a\"],[0.8888888888888888,\"#fdca26\"],[1.0,\"#f0f921\"]],\"type\":\"histogram2dcontour\"}],\"mesh3d\":[{\"colorbar\":{\"outlinewidth\":0,\"ticks\":\"\"},\"type\":\"mesh3d\"}],\"parcoords\":[{\"line\":{\"colorbar\":{\"outlinewidth\":0,\"ticks\":\"\"}},\"type\":\"parcoords\"}],\"pie\":[{\"automargin\":true,\"type\":\"pie\"}],\"scatter\":[{\"marker\":{\"colorbar\":{\"outlinewidth\":0,\"ticks\":\"\"}},\"type\":\"scatter\"}],\"scatter3d\":[{\"line\":{\"colorbar\":{\"outlinewidth\":0,\"ticks\":\"\"}},\"marker\":{\"colorbar\":{\"outlinewidth\":0,\"ticks\":\"\"}},\"type\":\"scatter3d\"}],\"scattercarpet\":[{\"marker\":{\"colorbar\":{\"outlinewidth\":0,\"ticks\":\"\"}},\"type\":\"scattercarpet\"}],\"scattergeo\":[{\"marker\":{\"colorbar\":{\"outlinewidth\":0,\"ticks\":\"\"}},\"type\":\"scattergeo\"}],\"scattergl\":[{\"marker\":{\"colorbar\":{\"outlinewidth\":0,\"ticks\":\"\"}},\"type\":\"scattergl\"}],\"scattermapbox\":[{\"marker\":{\"colorbar\":{\"outlinewidth\":0,\"ticks\":\"\"}},\"type\":\"scattermapbox\"}],\"scatterpolar\":[{\"marker\":{\"colorbar\":{\"outlinewidth\":0,\"ticks\":\"\"}},\"type\":\"scatterpolar\"}],\"scatterpolargl\":[{\"marker\":{\"colorbar\":{\"outlinewidth\":0,\"ticks\":\"\"}},\"type\":\"scatterpolargl\"}],\"scatterternary\":[{\"marker\":{\"colorbar\":{\"outlinewidth\":0,\"ticks\":\"\"}},\"type\":\"scatterternary\"}],\"surface\":[{\"colorbar\":{\"outlinewidth\":0,\"ticks\":\"\"},\"colorscale\":[[0.0,\"#0d0887\"],[0.1111111111111111,\"#46039f\"],[0.2222222222222222,\"#7201a8\"],[0.3333333333333333,\"#9c179e\"],[0.4444444444444444,\"#bd3786\"],[0.5555555555555556,\"#d8576b\"],[0.6666666666666666,\"#ed7953\"],[0.7777777777777778,\"#fb9f3a\"],[0.8888888888888888,\"#fdca26\"],[1.0,\"#f0f921\"]],\"type\":\"surface\"}],\"table\":[{\"cells\":{\"fill\":{\"color\":\"#EBF0F8\"},\"line\":{\"color\":\"white\"}},\"header\":{\"fill\":{\"color\":\"#C8D4E3\"},\"line\":{\"color\":\"white\"}},\"type\":\"table\"}]},\"layout\":{\"annotationdefaults\":{\"arrowcolor\":\"#2a3f5f\",\"arrowhead\":0,\"arrowwidth\":1},\"autotypenumbers\":\"strict\",\"coloraxis\":{\"colorbar\":{\"outlinewidth\":0,\"ticks\":\"\"}},\"colorscale\":{\"diverging\":[[0,\"#8e0152\"],[0.1,\"#c51b7d\"],[0.2,\"#de77ae\"],[0.3,\"#f1b6da\"],[0.4,\"#fde0ef\"],[0.5,\"#f7f7f7\"],[0.6,\"#e6f5d0\"],[0.7,\"#b8e186\"],[0.8,\"#7fbc41\"],[0.9,\"#4d9221\"],[1,\"#276419\"]],\"sequential\":[[0.0,\"#0d0887\"],[0.1111111111111111,\"#46039f\"],[0.2222222222222222,\"#7201a8\"],[0.3333333333333333,\"#9c179e\"],[0.4444444444444444,\"#bd3786\"],[0.5555555555555556,\"#d8576b\"],[0.6666666666666666,\"#ed7953\"],[0.7777777777777778,\"#fb9f3a\"],[0.8888888888888888,\"#fdca26\"],[1.0,\"#f0f921\"]],\"sequentialminus\":[[0.0,\"#0d0887\"],[0.1111111111111111,\"#46039f\"],[0.2222222222222222,\"#7201a8\"],[0.3333333333333333,\"#9c179e\"],[0.4444444444444444,\"#bd3786\"],[0.5555555555555556,\"#d8576b\"],[0.6666666666666666,\"#ed7953\"],[0.7777777777777778,\"#fb9f3a\"],[0.8888888888888888,\"#fdca26\"],[1.0,\"#f0f921\"]]},\"colorway\":[\"#636efa\",\"#EF553B\",\"#00cc96\",\"#ab63fa\",\"#FFA15A\",\"#19d3f3\",\"#FF6692\",\"#B6E880\",\"#FF97FF\",\"#FECB52\"],\"font\":{\"color\":\"#2a3f5f\"},\"geo\":{\"bgcolor\":\"white\",\"lakecolor\":\"white\",\"landcolor\":\"#E5ECF6\",\"showlakes\":true,\"showland\":true,\"subunitcolor\":\"white\"},\"hoverlabel\":{\"align\":\"left\"},\"hovermode\":\"closest\",\"mapbox\":{\"style\":\"light\"},\"paper_bgcolor\":\"white\",\"plot_bgcolor\":\"#E5ECF6\",\"polar\":{\"angularaxis\":{\"gridcolor\":\"white\",\"linecolor\":\"white\",\"ticks\":\"\"},\"bgcolor\":\"#E5ECF6\",\"radialaxis\":{\"gridcolor\":\"white\",\"linecolor\":\"white\",\"ticks\":\"\"}},\"scene\":{\"xaxis\":{\"backgroundcolor\":\"#E5ECF6\",\"gridcolor\":\"white\",\"gridwidth\":2,\"linecolor\":\"white\",\"showbackground\":true,\"ticks\":\"\",\"zerolinecolor\":\"white\"},\"yaxis\":{\"backgroundcolor\":\"#E5ECF6\",\"gridcolor\":\"white\",\"gridwidth\":2,\"linecolor\":\"white\",\"showbackground\":true,\"ticks\":\"\",\"zerolinecolor\":\"white\"},\"zaxis\":{\"backgroundcolor\":\"#E5ECF6\",\"gridcolor\":\"white\",\"gridwidth\":2,\"linecolor\":\"white\",\"showbackground\":true,\"ticks\":\"\",\"zerolinecolor\":\"white\"}},\"shapedefaults\":{\"line\":{\"color\":\"#2a3f5f\"}},\"ternary\":{\"aaxis\":{\"gridcolor\":\"white\",\"linecolor\":\"white\",\"ticks\":\"\"},\"baxis\":{\"gridcolor\":\"white\",\"linecolor\":\"white\",\"ticks\":\"\"},\"bgcolor\":\"#E5ECF6\",\"caxis\":{\"gridcolor\":\"white\",\"linecolor\":\"white\",\"ticks\":\"\"}},\"title\":{\"x\":0.05},\"xaxis\":{\"automargin\":true,\"gridcolor\":\"white\",\"linecolor\":\"white\",\"ticks\":\"\",\"title\":{\"standoff\":15},\"zerolinecolor\":\"white\",\"zerolinewidth\":2},\"yaxis\":{\"automargin\":true,\"gridcolor\":\"white\",\"linecolor\":\"white\",\"ticks\":\"\",\"title\":{\"standoff\":15},\"zerolinecolor\":\"white\",\"zerolinewidth\":2}}},\"title\":{\"text\":\"Base Carbone results for query='mangue'\"}},                        {\"responsive\": true}                    ).then(function(){\n",
       "                            \n",
       "var gd = document.getElementById('2e760853-bd35-40ab-bcdd-89c3873f6441');\n",
       "var x = new MutationObserver(function (mutations, observer) {{\n",
       "        var display = window.getComputedStyle(gd).display;\n",
       "        if (!display || display === 'none') {{\n",
       "            console.log([gd, 'removed!']);\n",
       "            Plotly.purge(gd);\n",
       "            observer.disconnect();\n",
       "        }}\n",
       "}});\n",
       "\n",
       "// Listen for the removal of the full notebook cells\n",
       "var notebookContainer = gd.closest('#notebook-container');\n",
       "if (notebookContainer) {{\n",
       "    x.observe(notebookContainer, {childList: true});\n",
       "}}\n",
       "\n",
       "// Listen for the clearing of the current output cell\n",
       "var outputEl = gd.closest('.output');\n",
       "if (outputEl) {{\n",
       "    x.observe(outputEl, {childList: true});\n",
       "}}\n",
       "\n",
       "                        })                };                });            </script>        </div>"
      ]
     },
     "metadata": {},
     "output_type": "display_data"
    }
   ],
   "source": [
    "r,fig = baca.search(\"mangue\",kind = \"treemap\")\n",
    "fig"
   ]
  },
  {
   "cell_type": "markdown",
   "id": "de87ed06",
   "metadata": {},
   "source": [
    "## A few comparisons"
   ]
  },
  {
   "cell_type": "markdown",
   "id": "6ab3eb40",
   "metadata": {},
   "source": [
    "### Which emits more between planes and train?"
   ]
  },
  {
   "cell_type": "code",
   "execution_count": 18,
   "id": "73572f81",
   "metadata": {},
   "outputs": [],
   "source": [
    "id_train = 28145\n",
    "id_avion = 28130"
   ]
  },
  {
   "cell_type": "code",
   "execution_count": 19,
   "id": "dcaf9624",
   "metadata": {},
   "outputs": [
    {
     "data": {
      "text/plain": [
       "{'full_name': 'TGV 2019', 'emissions': 0.00173, 'unit': 'kgCO2e/passager.km'}"
      ]
     },
     "execution_count": 19,
     "metadata": {},
     "output_type": "execute_result"
    }
   ],
   "source": [
    "baca.search_by_id(id_train)"
   ]
  },
  {
   "cell_type": "code",
   "execution_count": 20,
   "id": "e1ce1c30",
   "metadata": {},
   "outputs": [
    {
     "data": {
      "text/plain": [
       "{'full_name': 'Avion passagers Court courrier, 2018 AVEC trainées',\n",
       " 'emissions': 0.258,\n",
       " 'unit': 'kgCO2e/peq.km'}"
      ]
     },
     "execution_count": 20,
     "metadata": {},
     "output_type": "execute_result"
    }
   ],
   "source": [
    "baca.search_by_id(id_avion)"
   ]
  },
  {
   "cell_type": "code",
   "execution_count": 21,
   "id": "5be5675b",
   "metadata": {},
   "outputs": [
    {
     "name": "stdout",
     "output_type": "stream",
     "text": [
      "Warning - First element unit is kgCO2e/peq.km and second one is kgCO2e/passager.km\n"
     ]
    },
    {
     "data": {
      "text/plain": [
       "149.13294797687863"
      ]
     },
     "execution_count": 21,
     "metadata": {},
     "output_type": "execute_result"
    }
   ],
   "source": [
    "baca.compare(id_avion,id_train,raise_unit_error=False)"
   ]
  },
  {
   "cell_type": "code",
   "execution_count": 4,
   "id": "6f1530f1",
   "metadata": {},
   "outputs": [],
   "source": [
    "train = baca.search(\"train\")\n",
    "avion = baca.search(\"avion\")"
   ]
  },
  {
   "cell_type": "markdown",
   "id": "899ed9b4",
   "metadata": {},
   "source": [
    "For planes or TGVs already several questions arise about what to choose as hypothesis (trainées, distance, capacity)"
   ]
  },
  {
   "cell_type": "markdown",
   "id": "22b862b2",
   "metadata": {},
   "source": [
    "## How much do I emit when I travel from NYC to Paris ?"
   ]
  },
  {
   "cell_type": "markdown",
   "id": "efe65b13",
   "metadata": {},
   "source": [
    "About trainées https://www.carbone4.com/trainees-de-condensation-impact-climat"
   ]
  },
  {
   "cell_type": "code",
   "execution_count": 31,
   "id": "a35f7988",
   "metadata": {},
   "outputs": [
    {
     "data": {
      "text/plain": [
       "1701.184"
      ]
     },
     "execution_count": 31,
     "metadata": {},
     "output_type": "execute_result"
    }
   ],
   "source": [
    "baca.evaluate_transportation_by_plane(5596,round_trip = True)"
   ]
  },
  {
   "cell_type": "markdown",
   "id": "ebe2e074",
   "metadata": {},
   "source": [
    "## What's worse between a mango in France and a mango bought from South America?"
   ]
  },
  {
   "cell_type": "code",
   "execution_count": 33,
   "id": "7a5c3f57",
   "metadata": {},
   "outputs": [
    {
     "data": {
      "application/vnd.plotly.v1+json": {
       "config": {
        "plotlyServerURL": "https://plot.ly"
       },
       "data": [
        {
         "branchvalues": "total",
         "customdata": [
          [
           33054,
           14.9,
           "kgCO2e/kg de poids net"
          ],
          [
           33055,
           0.655,
           "kgCO2e/kg de poids net"
          ],
          [
           28425,
           0.122,
           "kgCO2e/kg"
          ],
          [
           33054,
           14.9,
           "kgCO2e/kg de poids net"
          ],
          [
           33055,
           0.655,
           "kgCO2e/kg de poids net"
          ],
          [
           28425,
           0.122,
           "kgCO2e/kg"
          ],
          [
           33054,
           14.9,
           "kgCO2e/kg de poids net"
          ],
          [
           33055,
           0.655,
           "kgCO2e/kg de poids net"
          ],
          [
           28425,
           0.122,
           "kgCO2e/kg"
          ],
          [
           28425,
           0.122,
           "kgCO2e/kg"
          ],
          [
           33054,
           14.9,
           "kgCO2e/kg de poids net"
          ],
          [
           33055,
           0.655,
           "kgCO2e/kg de poids net"
          ],
          [
           28425,
           0.122,
           "kgCO2e/kg"
          ],
          [
           33054,
           14.9,
           "kgCO2e/kg de poids net"
          ],
          [
           33055,
           0.655,
           "kgCO2e/kg de poids net"
          ],
          [
           "(?)",
           7.7775,
           "kgCO2e/kg de poids net"
          ],
          [
           28425,
           0.122,
           "kgCO2e/kg"
          ],
          [
           "(?)",
           7.7775,
           "kgCO2e/kg de poids net"
          ],
          [
           28425,
           0.122,
           "kgCO2e/kg"
          ],
          [
           "(?)",
           7.7775,
           "kgCO2e/kg de poids net"
          ],
          [
           28425,
           0.122,
           "kgCO2e/kg"
          ],
          [
           "(?)",
           5.225666666666666,
           "(?)"
          ],
          [
           "(?)",
           5.225666666666666,
           "(?)"
          ]
         ],
         "domain": {
          "x": [
           0,
           1
          ],
          "y": [
           0,
           1
          ]
         },
         "hovertemplate": "<b>%{label}</b> - Count: %{value}<br>Emissions: %{color:.5f} %{customdata[2]}<br>Id: %{customdata[0]}",
         "ids": [
          "all/Achats de biens/Produits agro-alimentaires, plats préparés et boissons/Fruits, légumes, légumineuses et oléagineux/Fruits/Mangue importée par avion/pulpe, crue/ /France continentale/ ",
          "all/Achats de biens/Produits agro-alimentaires, plats préparés et boissons/Fruits, légumes, légumineuses et oléagineux/Fruits/Mangue importée par bateau/pulpe, crue/ /France continentale/ ",
          "all/Achats de biens/Produits de l'agriculture et de la pêche/Produits végétaux/Fruits/Mangue/conventionnel, serre semi fermée,  énergie fatale et biomasse,  avec CO2 liquide, avec recyclage des/Au verger/France continentale/ ",
          "all/Achats de biens/Produits agro-alimentaires, plats préparés et boissons/Fruits, légumes, légumineuses et oléagineux/Fruits/Mangue importée par avion/pulpe, crue/ /France continentale",
          "all/Achats de biens/Produits agro-alimentaires, plats préparés et boissons/Fruits, légumes, légumineuses et oléagineux/Fruits/Mangue importée par bateau/pulpe, crue/ /France continentale",
          "all/Achats de biens/Produits de l'agriculture et de la pêche/Produits végétaux/Fruits/Mangue/conventionnel, serre semi fermée,  énergie fatale et biomasse,  avec CO2 liquide, avec recyclage des/Au verger/France continentale",
          "all/Achats de biens/Produits agro-alimentaires, plats préparés et boissons/Fruits, légumes, légumineuses et oléagineux/Fruits/Mangue importée par avion/pulpe, crue/ ",
          "all/Achats de biens/Produits agro-alimentaires, plats préparés et boissons/Fruits, légumes, légumineuses et oléagineux/Fruits/Mangue importée par bateau/pulpe, crue/ ",
          "all/Achats de biens/Produits de l'agriculture et de la pêche/Produits végétaux/Fruits/Mangue/conventionnel, serre semi fermée,  énergie fatale et biomasse,  avec CO2 liquide, avec recyclage des/Au verger",
          "all/Achats de biens/Produits de l'agriculture et de la pêche/Produits végétaux/Fruits/Mangue/conventionnel, serre semi fermée,  énergie fatale et biomasse,  avec CO2 liquide, avec recyclage des",
          "all/Achats de biens/Produits agro-alimentaires, plats préparés et boissons/Fruits, légumes, légumineuses et oléagineux/Fruits/Mangue importée par avion/pulpe, crue",
          "all/Achats de biens/Produits agro-alimentaires, plats préparés et boissons/Fruits, légumes, légumineuses et oléagineux/Fruits/Mangue importée par bateau/pulpe, crue",
          "all/Achats de biens/Produits de l'agriculture et de la pêche/Produits végétaux/Fruits/Mangue",
          "all/Achats de biens/Produits agro-alimentaires, plats préparés et boissons/Fruits, légumes, légumineuses et oléagineux/Fruits/Mangue importée par avion",
          "all/Achats de biens/Produits agro-alimentaires, plats préparés et boissons/Fruits, légumes, légumineuses et oléagineux/Fruits/Mangue importée par bateau",
          "all/Achats de biens/Produits agro-alimentaires, plats préparés et boissons/Fruits, légumes, légumineuses et oléagineux/Fruits",
          "all/Achats de biens/Produits de l'agriculture et de la pêche/Produits végétaux/Fruits",
          "all/Achats de biens/Produits agro-alimentaires, plats préparés et boissons/Fruits, légumes, légumineuses et oléagineux",
          "all/Achats de biens/Produits de l'agriculture et de la pêche/Produits végétaux",
          "all/Achats de biens/Produits agro-alimentaires, plats préparés et boissons",
          "all/Achats de biens/Produits de l'agriculture et de la pêche",
          "all/Achats de biens",
          "all"
         ],
         "labels": [
          " ",
          " ",
          " ",
          "France continentale",
          "France continentale",
          "France continentale",
          " ",
          " ",
          "Au verger",
          "conventionnel, serre semi fermée,  énergie fatale et biomasse,  avec CO2 liquide, avec recyclage des",
          "pulpe, crue",
          "pulpe, crue",
          "Mangue",
          "Mangue importée par avion",
          "Mangue importée par bateau",
          "Fruits",
          "Fruits",
          "Fruits, légumes, légumineuses et oléagineux",
          "Produits végétaux",
          "Produits agro-alimentaires, plats préparés et boissons",
          "Produits de l'agriculture et de la pêche",
          "Achats de biens",
          "all"
         ],
         "marker": {
          "coloraxis": "coloraxis",
          "colors": [
           14.9,
           0.655,
           0.122,
           14.9,
           0.655,
           0.122,
           14.9,
           0.655,
           0.122,
           0.122,
           14.9,
           0.655,
           0.122,
           14.9,
           0.655,
           7.7775,
           0.122,
           7.7775,
           0.122,
           7.7775,
           0.122,
           5.225666666666666,
           5.225666666666666
          ]
         },
         "maxdepth": 6,
         "name": "",
         "parents": [
          "all/Achats de biens/Produits agro-alimentaires, plats préparés et boissons/Fruits, légumes, légumineuses et oléagineux/Fruits/Mangue importée par avion/pulpe, crue/ /France continentale",
          "all/Achats de biens/Produits agro-alimentaires, plats préparés et boissons/Fruits, légumes, légumineuses et oléagineux/Fruits/Mangue importée par bateau/pulpe, crue/ /France continentale",
          "all/Achats de biens/Produits de l'agriculture et de la pêche/Produits végétaux/Fruits/Mangue/conventionnel, serre semi fermée,  énergie fatale et biomasse,  avec CO2 liquide, avec recyclage des/Au verger/France continentale",
          "all/Achats de biens/Produits agro-alimentaires, plats préparés et boissons/Fruits, légumes, légumineuses et oléagineux/Fruits/Mangue importée par avion/pulpe, crue/ ",
          "all/Achats de biens/Produits agro-alimentaires, plats préparés et boissons/Fruits, légumes, légumineuses et oléagineux/Fruits/Mangue importée par bateau/pulpe, crue/ ",
          "all/Achats de biens/Produits de l'agriculture et de la pêche/Produits végétaux/Fruits/Mangue/conventionnel, serre semi fermée,  énergie fatale et biomasse,  avec CO2 liquide, avec recyclage des/Au verger",
          "all/Achats de biens/Produits agro-alimentaires, plats préparés et boissons/Fruits, légumes, légumineuses et oléagineux/Fruits/Mangue importée par avion/pulpe, crue",
          "all/Achats de biens/Produits agro-alimentaires, plats préparés et boissons/Fruits, légumes, légumineuses et oléagineux/Fruits/Mangue importée par bateau/pulpe, crue",
          "all/Achats de biens/Produits de l'agriculture et de la pêche/Produits végétaux/Fruits/Mangue/conventionnel, serre semi fermée,  énergie fatale et biomasse,  avec CO2 liquide, avec recyclage des",
          "all/Achats de biens/Produits de l'agriculture et de la pêche/Produits végétaux/Fruits/Mangue",
          "all/Achats de biens/Produits agro-alimentaires, plats préparés et boissons/Fruits, légumes, légumineuses et oléagineux/Fruits/Mangue importée par avion",
          "all/Achats de biens/Produits agro-alimentaires, plats préparés et boissons/Fruits, légumes, légumineuses et oléagineux/Fruits/Mangue importée par bateau",
          "all/Achats de biens/Produits de l'agriculture et de la pêche/Produits végétaux/Fruits",
          "all/Achats de biens/Produits agro-alimentaires, plats préparés et boissons/Fruits, légumes, légumineuses et oléagineux/Fruits",
          "all/Achats de biens/Produits agro-alimentaires, plats préparés et boissons/Fruits, légumes, légumineuses et oléagineux/Fruits",
          "all/Achats de biens/Produits agro-alimentaires, plats préparés et boissons/Fruits, légumes, légumineuses et oléagineux",
          "all/Achats de biens/Produits de l'agriculture et de la pêche/Produits végétaux",
          "all/Achats de biens/Produits agro-alimentaires, plats préparés et boissons",
          "all/Achats de biens/Produits de l'agriculture et de la pêche",
          "all/Achats de biens",
          "all/Achats de biens",
          "all",
          ""
         ],
         "root": {
          "color": "lightgrey"
         },
         "type": "treemap",
         "values": [
          1,
          1,
          1,
          1,
          1,
          1,
          1,
          1,
          1,
          1,
          1,
          1,
          1,
          1,
          1,
          2,
          1,
          2,
          1,
          2,
          1,
          3,
          3
         ]
        }
       ],
       "layout": {
        "coloraxis": {
         "colorbar": {
          "title": {
           "text": "emissions"
          }
         },
         "colorscale": [
          [
           0,
           "rgb(5,48,97)"
          ],
          [
           0.1,
           "rgb(33,102,172)"
          ],
          [
           0.2,
           "rgb(67,147,195)"
          ],
          [
           0.3,
           "rgb(146,197,222)"
          ],
          [
           0.4,
           "rgb(209,229,240)"
          ],
          [
           0.5,
           "rgb(247,247,247)"
          ],
          [
           0.6,
           "rgb(253,219,199)"
          ],
          [
           0.7,
           "rgb(244,165,130)"
          ],
          [
           0.8,
           "rgb(214,96,77)"
          ],
          [
           0.9,
           "rgb(178,24,43)"
          ],
          [
           1,
           "rgb(103,0,31)"
          ]
         ]
        },
        "legend": {
         "tracegroupgap": 0
        },
        "margin": {
         "t": 60
        },
        "template": {
         "data": {
          "bar": [
           {
            "error_x": {
             "color": "#2a3f5f"
            },
            "error_y": {
             "color": "#2a3f5f"
            },
            "marker": {
             "line": {
              "color": "#E5ECF6",
              "width": 0.5
             },
             "pattern": {
              "fillmode": "overlay",
              "size": 10,
              "solidity": 0.2
             }
            },
            "type": "bar"
           }
          ],
          "barpolar": [
           {
            "marker": {
             "line": {
              "color": "#E5ECF6",
              "width": 0.5
             },
             "pattern": {
              "fillmode": "overlay",
              "size": 10,
              "solidity": 0.2
             }
            },
            "type": "barpolar"
           }
          ],
          "carpet": [
           {
            "aaxis": {
             "endlinecolor": "#2a3f5f",
             "gridcolor": "white",
             "linecolor": "white",
             "minorgridcolor": "white",
             "startlinecolor": "#2a3f5f"
            },
            "baxis": {
             "endlinecolor": "#2a3f5f",
             "gridcolor": "white",
             "linecolor": "white",
             "minorgridcolor": "white",
             "startlinecolor": "#2a3f5f"
            },
            "type": "carpet"
           }
          ],
          "choropleth": [
           {
            "colorbar": {
             "outlinewidth": 0,
             "ticks": ""
            },
            "type": "choropleth"
           }
          ],
          "contour": [
           {
            "colorbar": {
             "outlinewidth": 0,
             "ticks": ""
            },
            "colorscale": [
             [
              0,
              "#0d0887"
             ],
             [
              0.1111111111111111,
              "#46039f"
             ],
             [
              0.2222222222222222,
              "#7201a8"
             ],
             [
              0.3333333333333333,
              "#9c179e"
             ],
             [
              0.4444444444444444,
              "#bd3786"
             ],
             [
              0.5555555555555556,
              "#d8576b"
             ],
             [
              0.6666666666666666,
              "#ed7953"
             ],
             [
              0.7777777777777778,
              "#fb9f3a"
             ],
             [
              0.8888888888888888,
              "#fdca26"
             ],
             [
              1,
              "#f0f921"
             ]
            ],
            "type": "contour"
           }
          ],
          "contourcarpet": [
           {
            "colorbar": {
             "outlinewidth": 0,
             "ticks": ""
            },
            "type": "contourcarpet"
           }
          ],
          "heatmap": [
           {
            "colorbar": {
             "outlinewidth": 0,
             "ticks": ""
            },
            "colorscale": [
             [
              0,
              "#0d0887"
             ],
             [
              0.1111111111111111,
              "#46039f"
             ],
             [
              0.2222222222222222,
              "#7201a8"
             ],
             [
              0.3333333333333333,
              "#9c179e"
             ],
             [
              0.4444444444444444,
              "#bd3786"
             ],
             [
              0.5555555555555556,
              "#d8576b"
             ],
             [
              0.6666666666666666,
              "#ed7953"
             ],
             [
              0.7777777777777778,
              "#fb9f3a"
             ],
             [
              0.8888888888888888,
              "#fdca26"
             ],
             [
              1,
              "#f0f921"
             ]
            ],
            "type": "heatmap"
           }
          ],
          "heatmapgl": [
           {
            "colorbar": {
             "outlinewidth": 0,
             "ticks": ""
            },
            "colorscale": [
             [
              0,
              "#0d0887"
             ],
             [
              0.1111111111111111,
              "#46039f"
             ],
             [
              0.2222222222222222,
              "#7201a8"
             ],
             [
              0.3333333333333333,
              "#9c179e"
             ],
             [
              0.4444444444444444,
              "#bd3786"
             ],
             [
              0.5555555555555556,
              "#d8576b"
             ],
             [
              0.6666666666666666,
              "#ed7953"
             ],
             [
              0.7777777777777778,
              "#fb9f3a"
             ],
             [
              0.8888888888888888,
              "#fdca26"
             ],
             [
              1,
              "#f0f921"
             ]
            ],
            "type": "heatmapgl"
           }
          ],
          "histogram": [
           {
            "marker": {
             "pattern": {
              "fillmode": "overlay",
              "size": 10,
              "solidity": 0.2
             }
            },
            "type": "histogram"
           }
          ],
          "histogram2d": [
           {
            "colorbar": {
             "outlinewidth": 0,
             "ticks": ""
            },
            "colorscale": [
             [
              0,
              "#0d0887"
             ],
             [
              0.1111111111111111,
              "#46039f"
             ],
             [
              0.2222222222222222,
              "#7201a8"
             ],
             [
              0.3333333333333333,
              "#9c179e"
             ],
             [
              0.4444444444444444,
              "#bd3786"
             ],
             [
              0.5555555555555556,
              "#d8576b"
             ],
             [
              0.6666666666666666,
              "#ed7953"
             ],
             [
              0.7777777777777778,
              "#fb9f3a"
             ],
             [
              0.8888888888888888,
              "#fdca26"
             ],
             [
              1,
              "#f0f921"
             ]
            ],
            "type": "histogram2d"
           }
          ],
          "histogram2dcontour": [
           {
            "colorbar": {
             "outlinewidth": 0,
             "ticks": ""
            },
            "colorscale": [
             [
              0,
              "#0d0887"
             ],
             [
              0.1111111111111111,
              "#46039f"
             ],
             [
              0.2222222222222222,
              "#7201a8"
             ],
             [
              0.3333333333333333,
              "#9c179e"
             ],
             [
              0.4444444444444444,
              "#bd3786"
             ],
             [
              0.5555555555555556,
              "#d8576b"
             ],
             [
              0.6666666666666666,
              "#ed7953"
             ],
             [
              0.7777777777777778,
              "#fb9f3a"
             ],
             [
              0.8888888888888888,
              "#fdca26"
             ],
             [
              1,
              "#f0f921"
             ]
            ],
            "type": "histogram2dcontour"
           }
          ],
          "mesh3d": [
           {
            "colorbar": {
             "outlinewidth": 0,
             "ticks": ""
            },
            "type": "mesh3d"
           }
          ],
          "parcoords": [
           {
            "line": {
             "colorbar": {
              "outlinewidth": 0,
              "ticks": ""
             }
            },
            "type": "parcoords"
           }
          ],
          "pie": [
           {
            "automargin": true,
            "type": "pie"
           }
          ],
          "scatter": [
           {
            "marker": {
             "colorbar": {
              "outlinewidth": 0,
              "ticks": ""
             }
            },
            "type": "scatter"
           }
          ],
          "scatter3d": [
           {
            "line": {
             "colorbar": {
              "outlinewidth": 0,
              "ticks": ""
             }
            },
            "marker": {
             "colorbar": {
              "outlinewidth": 0,
              "ticks": ""
             }
            },
            "type": "scatter3d"
           }
          ],
          "scattercarpet": [
           {
            "marker": {
             "colorbar": {
              "outlinewidth": 0,
              "ticks": ""
             }
            },
            "type": "scattercarpet"
           }
          ],
          "scattergeo": [
           {
            "marker": {
             "colorbar": {
              "outlinewidth": 0,
              "ticks": ""
             }
            },
            "type": "scattergeo"
           }
          ],
          "scattergl": [
           {
            "marker": {
             "colorbar": {
              "outlinewidth": 0,
              "ticks": ""
             }
            },
            "type": "scattergl"
           }
          ],
          "scattermapbox": [
           {
            "marker": {
             "colorbar": {
              "outlinewidth": 0,
              "ticks": ""
             }
            },
            "type": "scattermapbox"
           }
          ],
          "scatterpolar": [
           {
            "marker": {
             "colorbar": {
              "outlinewidth": 0,
              "ticks": ""
             }
            },
            "type": "scatterpolar"
           }
          ],
          "scatterpolargl": [
           {
            "marker": {
             "colorbar": {
              "outlinewidth": 0,
              "ticks": ""
             }
            },
            "type": "scatterpolargl"
           }
          ],
          "scatterternary": [
           {
            "marker": {
             "colorbar": {
              "outlinewidth": 0,
              "ticks": ""
             }
            },
            "type": "scatterternary"
           }
          ],
          "surface": [
           {
            "colorbar": {
             "outlinewidth": 0,
             "ticks": ""
            },
            "colorscale": [
             [
              0,
              "#0d0887"
             ],
             [
              0.1111111111111111,
              "#46039f"
             ],
             [
              0.2222222222222222,
              "#7201a8"
             ],
             [
              0.3333333333333333,
              "#9c179e"
             ],
             [
              0.4444444444444444,
              "#bd3786"
             ],
             [
              0.5555555555555556,
              "#d8576b"
             ],
             [
              0.6666666666666666,
              "#ed7953"
             ],
             [
              0.7777777777777778,
              "#fb9f3a"
             ],
             [
              0.8888888888888888,
              "#fdca26"
             ],
             [
              1,
              "#f0f921"
             ]
            ],
            "type": "surface"
           }
          ],
          "table": [
           {
            "cells": {
             "fill": {
              "color": "#EBF0F8"
             },
             "line": {
              "color": "white"
             }
            },
            "header": {
             "fill": {
              "color": "#C8D4E3"
             },
             "line": {
              "color": "white"
             }
            },
            "type": "table"
           }
          ]
         },
         "layout": {
          "annotationdefaults": {
           "arrowcolor": "#2a3f5f",
           "arrowhead": 0,
           "arrowwidth": 1
          },
          "autotypenumbers": "strict",
          "coloraxis": {
           "colorbar": {
            "outlinewidth": 0,
            "ticks": ""
           }
          },
          "colorscale": {
           "diverging": [
            [
             0,
             "#8e0152"
            ],
            [
             0.1,
             "#c51b7d"
            ],
            [
             0.2,
             "#de77ae"
            ],
            [
             0.3,
             "#f1b6da"
            ],
            [
             0.4,
             "#fde0ef"
            ],
            [
             0.5,
             "#f7f7f7"
            ],
            [
             0.6,
             "#e6f5d0"
            ],
            [
             0.7,
             "#b8e186"
            ],
            [
             0.8,
             "#7fbc41"
            ],
            [
             0.9,
             "#4d9221"
            ],
            [
             1,
             "#276419"
            ]
           ],
           "sequential": [
            [
             0,
             "#0d0887"
            ],
            [
             0.1111111111111111,
             "#46039f"
            ],
            [
             0.2222222222222222,
             "#7201a8"
            ],
            [
             0.3333333333333333,
             "#9c179e"
            ],
            [
             0.4444444444444444,
             "#bd3786"
            ],
            [
             0.5555555555555556,
             "#d8576b"
            ],
            [
             0.6666666666666666,
             "#ed7953"
            ],
            [
             0.7777777777777778,
             "#fb9f3a"
            ],
            [
             0.8888888888888888,
             "#fdca26"
            ],
            [
             1,
             "#f0f921"
            ]
           ],
           "sequentialminus": [
            [
             0,
             "#0d0887"
            ],
            [
             0.1111111111111111,
             "#46039f"
            ],
            [
             0.2222222222222222,
             "#7201a8"
            ],
            [
             0.3333333333333333,
             "#9c179e"
            ],
            [
             0.4444444444444444,
             "#bd3786"
            ],
            [
             0.5555555555555556,
             "#d8576b"
            ],
            [
             0.6666666666666666,
             "#ed7953"
            ],
            [
             0.7777777777777778,
             "#fb9f3a"
            ],
            [
             0.8888888888888888,
             "#fdca26"
            ],
            [
             1,
             "#f0f921"
            ]
           ]
          },
          "colorway": [
           "#636efa",
           "#EF553B",
           "#00cc96",
           "#ab63fa",
           "#FFA15A",
           "#19d3f3",
           "#FF6692",
           "#B6E880",
           "#FF97FF",
           "#FECB52"
          ],
          "font": {
           "color": "#2a3f5f"
          },
          "geo": {
           "bgcolor": "white",
           "lakecolor": "white",
           "landcolor": "#E5ECF6",
           "showlakes": true,
           "showland": true,
           "subunitcolor": "white"
          },
          "hoverlabel": {
           "align": "left"
          },
          "hovermode": "closest",
          "mapbox": {
           "style": "light"
          },
          "paper_bgcolor": "white",
          "plot_bgcolor": "#E5ECF6",
          "polar": {
           "angularaxis": {
            "gridcolor": "white",
            "linecolor": "white",
            "ticks": ""
           },
           "bgcolor": "#E5ECF6",
           "radialaxis": {
            "gridcolor": "white",
            "linecolor": "white",
            "ticks": ""
           }
          },
          "scene": {
           "xaxis": {
            "backgroundcolor": "#E5ECF6",
            "gridcolor": "white",
            "gridwidth": 2,
            "linecolor": "white",
            "showbackground": true,
            "ticks": "",
            "zerolinecolor": "white"
           },
           "yaxis": {
            "backgroundcolor": "#E5ECF6",
            "gridcolor": "white",
            "gridwidth": 2,
            "linecolor": "white",
            "showbackground": true,
            "ticks": "",
            "zerolinecolor": "white"
           },
           "zaxis": {
            "backgroundcolor": "#E5ECF6",
            "gridcolor": "white",
            "gridwidth": 2,
            "linecolor": "white",
            "showbackground": true,
            "ticks": "",
            "zerolinecolor": "white"
           }
          },
          "shapedefaults": {
           "line": {
            "color": "#2a3f5f"
           }
          },
          "ternary": {
           "aaxis": {
            "gridcolor": "white",
            "linecolor": "white",
            "ticks": ""
           },
           "baxis": {
            "gridcolor": "white",
            "linecolor": "white",
            "ticks": ""
           },
           "bgcolor": "#E5ECF6",
           "caxis": {
            "gridcolor": "white",
            "linecolor": "white",
            "ticks": ""
           }
          },
          "title": {
           "x": 0.05
          },
          "xaxis": {
           "automargin": true,
           "gridcolor": "white",
           "linecolor": "white",
           "ticks": "",
           "title": {
            "standoff": 15
           },
           "zerolinecolor": "white",
           "zerolinewidth": 2
          },
          "yaxis": {
           "automargin": true,
           "gridcolor": "white",
           "linecolor": "white",
           "ticks": "",
           "title": {
            "standoff": 15
           },
           "zerolinecolor": "white",
           "zerolinewidth": 2
          }
         }
        },
        "title": {
         "text": "Base Carbone results for query='mangue'"
        }
       }
      },
      "text/html": [
       "<div>                            <div id=\"b4a8923d-2024-4309-a001-e47c1e53fc5a\" class=\"plotly-graph-div\" style=\"height:525px; width:100%;\"></div>            <script type=\"text/javascript\">                require([\"plotly\"], function(Plotly) {                    window.PLOTLYENV=window.PLOTLYENV || {};                                    if (document.getElementById(\"b4a8923d-2024-4309-a001-e47c1e53fc5a\")) {                    Plotly.newPlot(                        \"b4a8923d-2024-4309-a001-e47c1e53fc5a\",                        [{\"branchvalues\":\"total\",\"customdata\":[[33054,14.9,\"kgCO2e/kg de poids net\"],[33055,0.655,\"kgCO2e/kg de poids net\"],[28425,0.122,\"kgCO2e/kg\"],[33054,14.9,\"kgCO2e/kg de poids net\"],[33055,0.655,\"kgCO2e/kg de poids net\"],[28425,0.122,\"kgCO2e/kg\"],[33054,14.9,\"kgCO2e/kg de poids net\"],[33055,0.655,\"kgCO2e/kg de poids net\"],[28425,0.122,\"kgCO2e/kg\"],[28425,0.122,\"kgCO2e/kg\"],[33054,14.9,\"kgCO2e/kg de poids net\"],[33055,0.655,\"kgCO2e/kg de poids net\"],[28425,0.122,\"kgCO2e/kg\"],[33054,14.9,\"kgCO2e/kg de poids net\"],[33055,0.655,\"kgCO2e/kg de poids net\"],[\"(?)\",7.7775,\"kgCO2e/kg de poids net\"],[28425,0.122,\"kgCO2e/kg\"],[\"(?)\",7.7775,\"kgCO2e/kg de poids net\"],[28425,0.122,\"kgCO2e/kg\"],[\"(?)\",7.7775,\"kgCO2e/kg de poids net\"],[28425,0.122,\"kgCO2e/kg\"],[\"(?)\",5.225666666666666,\"(?)\"],[\"(?)\",5.225666666666666,\"(?)\"]],\"domain\":{\"x\":[0.0,1.0],\"y\":[0.0,1.0]},\"hovertemplate\":\"<b>%{label}</b> - Count: %{value}<br>Emissions: %{color:.5f} %{customdata[2]}<br>Id: %{customdata[0]}\",\"ids\":[\"all/Achats de biens/Produits agro-alimentaires, plats pr\\u00e9par\\u00e9s et boissons/Fruits, l\\u00e9gumes, l\\u00e9gumineuses et ol\\u00e9agineux/Fruits/Mangue import\\u00e9e par avion/pulpe, crue/ /France continentale/ \",\"all/Achats de biens/Produits agro-alimentaires, plats pr\\u00e9par\\u00e9s et boissons/Fruits, l\\u00e9gumes, l\\u00e9gumineuses et ol\\u00e9agineux/Fruits/Mangue import\\u00e9e par bateau/pulpe, crue/ /France continentale/ \",\"all/Achats de biens/Produits de l'agriculture et de la p\\u00eache/Produits v\\u00e9g\\u00e9taux/Fruits/Mangue/conventionnel, serre semi ferm\\u00e9e,  \\u00e9nergie fatale et biomasse,  avec CO2 liquide, avec recyclage des/Au verger/France continentale/ \",\"all/Achats de biens/Produits agro-alimentaires, plats pr\\u00e9par\\u00e9s et boissons/Fruits, l\\u00e9gumes, l\\u00e9gumineuses et ol\\u00e9agineux/Fruits/Mangue import\\u00e9e par avion/pulpe, crue/ /France continentale\",\"all/Achats de biens/Produits agro-alimentaires, plats pr\\u00e9par\\u00e9s et boissons/Fruits, l\\u00e9gumes, l\\u00e9gumineuses et ol\\u00e9agineux/Fruits/Mangue import\\u00e9e par bateau/pulpe, crue/ /France continentale\",\"all/Achats de biens/Produits de l'agriculture et de la p\\u00eache/Produits v\\u00e9g\\u00e9taux/Fruits/Mangue/conventionnel, serre semi ferm\\u00e9e,  \\u00e9nergie fatale et biomasse,  avec CO2 liquide, avec recyclage des/Au verger/France continentale\",\"all/Achats de biens/Produits agro-alimentaires, plats pr\\u00e9par\\u00e9s et boissons/Fruits, l\\u00e9gumes, l\\u00e9gumineuses et ol\\u00e9agineux/Fruits/Mangue import\\u00e9e par avion/pulpe, crue/ \",\"all/Achats de biens/Produits agro-alimentaires, plats pr\\u00e9par\\u00e9s et boissons/Fruits, l\\u00e9gumes, l\\u00e9gumineuses et ol\\u00e9agineux/Fruits/Mangue import\\u00e9e par bateau/pulpe, crue/ \",\"all/Achats de biens/Produits de l'agriculture et de la p\\u00eache/Produits v\\u00e9g\\u00e9taux/Fruits/Mangue/conventionnel, serre semi ferm\\u00e9e,  \\u00e9nergie fatale et biomasse,  avec CO2 liquide, avec recyclage des/Au verger\",\"all/Achats de biens/Produits de l'agriculture et de la p\\u00eache/Produits v\\u00e9g\\u00e9taux/Fruits/Mangue/conventionnel, serre semi ferm\\u00e9e,  \\u00e9nergie fatale et biomasse,  avec CO2 liquide, avec recyclage des\",\"all/Achats de biens/Produits agro-alimentaires, plats pr\\u00e9par\\u00e9s et boissons/Fruits, l\\u00e9gumes, l\\u00e9gumineuses et ol\\u00e9agineux/Fruits/Mangue import\\u00e9e par avion/pulpe, crue\",\"all/Achats de biens/Produits agro-alimentaires, plats pr\\u00e9par\\u00e9s et boissons/Fruits, l\\u00e9gumes, l\\u00e9gumineuses et ol\\u00e9agineux/Fruits/Mangue import\\u00e9e par bateau/pulpe, crue\",\"all/Achats de biens/Produits de l'agriculture et de la p\\u00eache/Produits v\\u00e9g\\u00e9taux/Fruits/Mangue\",\"all/Achats de biens/Produits agro-alimentaires, plats pr\\u00e9par\\u00e9s et boissons/Fruits, l\\u00e9gumes, l\\u00e9gumineuses et ol\\u00e9agineux/Fruits/Mangue import\\u00e9e par avion\",\"all/Achats de biens/Produits agro-alimentaires, plats pr\\u00e9par\\u00e9s et boissons/Fruits, l\\u00e9gumes, l\\u00e9gumineuses et ol\\u00e9agineux/Fruits/Mangue import\\u00e9e par bateau\",\"all/Achats de biens/Produits agro-alimentaires, plats pr\\u00e9par\\u00e9s et boissons/Fruits, l\\u00e9gumes, l\\u00e9gumineuses et ol\\u00e9agineux/Fruits\",\"all/Achats de biens/Produits de l'agriculture et de la p\\u00eache/Produits v\\u00e9g\\u00e9taux/Fruits\",\"all/Achats de biens/Produits agro-alimentaires, plats pr\\u00e9par\\u00e9s et boissons/Fruits, l\\u00e9gumes, l\\u00e9gumineuses et ol\\u00e9agineux\",\"all/Achats de biens/Produits de l'agriculture et de la p\\u00eache/Produits v\\u00e9g\\u00e9taux\",\"all/Achats de biens/Produits agro-alimentaires, plats pr\\u00e9par\\u00e9s et boissons\",\"all/Achats de biens/Produits de l'agriculture et de la p\\u00eache\",\"all/Achats de biens\",\"all\"],\"labels\":[\" \",\" \",\" \",\"France continentale\",\"France continentale\",\"France continentale\",\" \",\" \",\"Au verger\",\"conventionnel, serre semi ferm\\u00e9e,  \\u00e9nergie fatale et biomasse,  avec CO2 liquide, avec recyclage des\",\"pulpe, crue\",\"pulpe, crue\",\"Mangue\",\"Mangue import\\u00e9e par avion\",\"Mangue import\\u00e9e par bateau\",\"Fruits\",\"Fruits\",\"Fruits, l\\u00e9gumes, l\\u00e9gumineuses et ol\\u00e9agineux\",\"Produits v\\u00e9g\\u00e9taux\",\"Produits agro-alimentaires, plats pr\\u00e9par\\u00e9s et boissons\",\"Produits de l'agriculture et de la p\\u00eache\",\"Achats de biens\",\"all\"],\"marker\":{\"coloraxis\":\"coloraxis\",\"colors\":[14.9,0.655,0.122,14.9,0.655,0.122,14.9,0.655,0.122,0.122,14.9,0.655,0.122,14.9,0.655,7.7775,0.122,7.7775,0.122,7.7775,0.122,5.225666666666666,5.225666666666666]},\"maxdepth\":6,\"name\":\"\",\"parents\":[\"all/Achats de biens/Produits agro-alimentaires, plats pr\\u00e9par\\u00e9s et boissons/Fruits, l\\u00e9gumes, l\\u00e9gumineuses et ol\\u00e9agineux/Fruits/Mangue import\\u00e9e par avion/pulpe, crue/ /France continentale\",\"all/Achats de biens/Produits agro-alimentaires, plats pr\\u00e9par\\u00e9s et boissons/Fruits, l\\u00e9gumes, l\\u00e9gumineuses et ol\\u00e9agineux/Fruits/Mangue import\\u00e9e par bateau/pulpe, crue/ /France continentale\",\"all/Achats de biens/Produits de l'agriculture et de la p\\u00eache/Produits v\\u00e9g\\u00e9taux/Fruits/Mangue/conventionnel, serre semi ferm\\u00e9e,  \\u00e9nergie fatale et biomasse,  avec CO2 liquide, avec recyclage des/Au verger/France continentale\",\"all/Achats de biens/Produits agro-alimentaires, plats pr\\u00e9par\\u00e9s et boissons/Fruits, l\\u00e9gumes, l\\u00e9gumineuses et ol\\u00e9agineux/Fruits/Mangue import\\u00e9e par avion/pulpe, crue/ \",\"all/Achats de biens/Produits agro-alimentaires, plats pr\\u00e9par\\u00e9s et boissons/Fruits, l\\u00e9gumes, l\\u00e9gumineuses et ol\\u00e9agineux/Fruits/Mangue import\\u00e9e par bateau/pulpe, crue/ \",\"all/Achats de biens/Produits de l'agriculture et de la p\\u00eache/Produits v\\u00e9g\\u00e9taux/Fruits/Mangue/conventionnel, serre semi ferm\\u00e9e,  \\u00e9nergie fatale et biomasse,  avec CO2 liquide, avec recyclage des/Au verger\",\"all/Achats de biens/Produits agro-alimentaires, plats pr\\u00e9par\\u00e9s et boissons/Fruits, l\\u00e9gumes, l\\u00e9gumineuses et ol\\u00e9agineux/Fruits/Mangue import\\u00e9e par avion/pulpe, crue\",\"all/Achats de biens/Produits agro-alimentaires, plats pr\\u00e9par\\u00e9s et boissons/Fruits, l\\u00e9gumes, l\\u00e9gumineuses et ol\\u00e9agineux/Fruits/Mangue import\\u00e9e par bateau/pulpe, crue\",\"all/Achats de biens/Produits de l'agriculture et de la p\\u00eache/Produits v\\u00e9g\\u00e9taux/Fruits/Mangue/conventionnel, serre semi ferm\\u00e9e,  \\u00e9nergie fatale et biomasse,  avec CO2 liquide, avec recyclage des\",\"all/Achats de biens/Produits de l'agriculture et de la p\\u00eache/Produits v\\u00e9g\\u00e9taux/Fruits/Mangue\",\"all/Achats de biens/Produits agro-alimentaires, plats pr\\u00e9par\\u00e9s et boissons/Fruits, l\\u00e9gumes, l\\u00e9gumineuses et ol\\u00e9agineux/Fruits/Mangue import\\u00e9e par avion\",\"all/Achats de biens/Produits agro-alimentaires, plats pr\\u00e9par\\u00e9s et boissons/Fruits, l\\u00e9gumes, l\\u00e9gumineuses et ol\\u00e9agineux/Fruits/Mangue import\\u00e9e par bateau\",\"all/Achats de biens/Produits de l'agriculture et de la p\\u00eache/Produits v\\u00e9g\\u00e9taux/Fruits\",\"all/Achats de biens/Produits agro-alimentaires, plats pr\\u00e9par\\u00e9s et boissons/Fruits, l\\u00e9gumes, l\\u00e9gumineuses et ol\\u00e9agineux/Fruits\",\"all/Achats de biens/Produits agro-alimentaires, plats pr\\u00e9par\\u00e9s et boissons/Fruits, l\\u00e9gumes, l\\u00e9gumineuses et ol\\u00e9agineux/Fruits\",\"all/Achats de biens/Produits agro-alimentaires, plats pr\\u00e9par\\u00e9s et boissons/Fruits, l\\u00e9gumes, l\\u00e9gumineuses et ol\\u00e9agineux\",\"all/Achats de biens/Produits de l'agriculture et de la p\\u00eache/Produits v\\u00e9g\\u00e9taux\",\"all/Achats de biens/Produits agro-alimentaires, plats pr\\u00e9par\\u00e9s et boissons\",\"all/Achats de biens/Produits de l'agriculture et de la p\\u00eache\",\"all/Achats de biens\",\"all/Achats de biens\",\"all\",\"\"],\"root\":{\"color\":\"lightgrey\"},\"type\":\"treemap\",\"values\":[1,1,1,1,1,1,1,1,1,1,1,1,1,1,1,2,1,2,1,2,1,3,3]}],                        {\"coloraxis\":{\"colorbar\":{\"title\":{\"text\":\"emissions\"}},\"colorscale\":[[0.0,\"rgb(5,48,97)\"],[0.1,\"rgb(33,102,172)\"],[0.2,\"rgb(67,147,195)\"],[0.3,\"rgb(146,197,222)\"],[0.4,\"rgb(209,229,240)\"],[0.5,\"rgb(247,247,247)\"],[0.6,\"rgb(253,219,199)\"],[0.7,\"rgb(244,165,130)\"],[0.8,\"rgb(214,96,77)\"],[0.9,\"rgb(178,24,43)\"],[1.0,\"rgb(103,0,31)\"]]},\"legend\":{\"tracegroupgap\":0},\"margin\":{\"t\":60},\"template\":{\"data\":{\"bar\":[{\"error_x\":{\"color\":\"#2a3f5f\"},\"error_y\":{\"color\":\"#2a3f5f\"},\"marker\":{\"line\":{\"color\":\"#E5ECF6\",\"width\":0.5},\"pattern\":{\"fillmode\":\"overlay\",\"size\":10,\"solidity\":0.2}},\"type\":\"bar\"}],\"barpolar\":[{\"marker\":{\"line\":{\"color\":\"#E5ECF6\",\"width\":0.5},\"pattern\":{\"fillmode\":\"overlay\",\"size\":10,\"solidity\":0.2}},\"type\":\"barpolar\"}],\"carpet\":[{\"aaxis\":{\"endlinecolor\":\"#2a3f5f\",\"gridcolor\":\"white\",\"linecolor\":\"white\",\"minorgridcolor\":\"white\",\"startlinecolor\":\"#2a3f5f\"},\"baxis\":{\"endlinecolor\":\"#2a3f5f\",\"gridcolor\":\"white\",\"linecolor\":\"white\",\"minorgridcolor\":\"white\",\"startlinecolor\":\"#2a3f5f\"},\"type\":\"carpet\"}],\"choropleth\":[{\"colorbar\":{\"outlinewidth\":0,\"ticks\":\"\"},\"type\":\"choropleth\"}],\"contour\":[{\"colorbar\":{\"outlinewidth\":0,\"ticks\":\"\"},\"colorscale\":[[0.0,\"#0d0887\"],[0.1111111111111111,\"#46039f\"],[0.2222222222222222,\"#7201a8\"],[0.3333333333333333,\"#9c179e\"],[0.4444444444444444,\"#bd3786\"],[0.5555555555555556,\"#d8576b\"],[0.6666666666666666,\"#ed7953\"],[0.7777777777777778,\"#fb9f3a\"],[0.8888888888888888,\"#fdca26\"],[1.0,\"#f0f921\"]],\"type\":\"contour\"}],\"contourcarpet\":[{\"colorbar\":{\"outlinewidth\":0,\"ticks\":\"\"},\"type\":\"contourcarpet\"}],\"heatmap\":[{\"colorbar\":{\"outlinewidth\":0,\"ticks\":\"\"},\"colorscale\":[[0.0,\"#0d0887\"],[0.1111111111111111,\"#46039f\"],[0.2222222222222222,\"#7201a8\"],[0.3333333333333333,\"#9c179e\"],[0.4444444444444444,\"#bd3786\"],[0.5555555555555556,\"#d8576b\"],[0.6666666666666666,\"#ed7953\"],[0.7777777777777778,\"#fb9f3a\"],[0.8888888888888888,\"#fdca26\"],[1.0,\"#f0f921\"]],\"type\":\"heatmap\"}],\"heatmapgl\":[{\"colorbar\":{\"outlinewidth\":0,\"ticks\":\"\"},\"colorscale\":[[0.0,\"#0d0887\"],[0.1111111111111111,\"#46039f\"],[0.2222222222222222,\"#7201a8\"],[0.3333333333333333,\"#9c179e\"],[0.4444444444444444,\"#bd3786\"],[0.5555555555555556,\"#d8576b\"],[0.6666666666666666,\"#ed7953\"],[0.7777777777777778,\"#fb9f3a\"],[0.8888888888888888,\"#fdca26\"],[1.0,\"#f0f921\"]],\"type\":\"heatmapgl\"}],\"histogram\":[{\"marker\":{\"pattern\":{\"fillmode\":\"overlay\",\"size\":10,\"solidity\":0.2}},\"type\":\"histogram\"}],\"histogram2d\":[{\"colorbar\":{\"outlinewidth\":0,\"ticks\":\"\"},\"colorscale\":[[0.0,\"#0d0887\"],[0.1111111111111111,\"#46039f\"],[0.2222222222222222,\"#7201a8\"],[0.3333333333333333,\"#9c179e\"],[0.4444444444444444,\"#bd3786\"],[0.5555555555555556,\"#d8576b\"],[0.6666666666666666,\"#ed7953\"],[0.7777777777777778,\"#fb9f3a\"],[0.8888888888888888,\"#fdca26\"],[1.0,\"#f0f921\"]],\"type\":\"histogram2d\"}],\"histogram2dcontour\":[{\"colorbar\":{\"outlinewidth\":0,\"ticks\":\"\"},\"colorscale\":[[0.0,\"#0d0887\"],[0.1111111111111111,\"#46039f\"],[0.2222222222222222,\"#7201a8\"],[0.3333333333333333,\"#9c179e\"],[0.4444444444444444,\"#bd3786\"],[0.5555555555555556,\"#d8576b\"],[0.6666666666666666,\"#ed7953\"],[0.7777777777777778,\"#fb9f3a\"],[0.8888888888888888,\"#fdca26\"],[1.0,\"#f0f921\"]],\"type\":\"histogram2dcontour\"}],\"mesh3d\":[{\"colorbar\":{\"outlinewidth\":0,\"ticks\":\"\"},\"type\":\"mesh3d\"}],\"parcoords\":[{\"line\":{\"colorbar\":{\"outlinewidth\":0,\"ticks\":\"\"}},\"type\":\"parcoords\"}],\"pie\":[{\"automargin\":true,\"type\":\"pie\"}],\"scatter\":[{\"marker\":{\"colorbar\":{\"outlinewidth\":0,\"ticks\":\"\"}},\"type\":\"scatter\"}],\"scatter3d\":[{\"line\":{\"colorbar\":{\"outlinewidth\":0,\"ticks\":\"\"}},\"marker\":{\"colorbar\":{\"outlinewidth\":0,\"ticks\":\"\"}},\"type\":\"scatter3d\"}],\"scattercarpet\":[{\"marker\":{\"colorbar\":{\"outlinewidth\":0,\"ticks\":\"\"}},\"type\":\"scattercarpet\"}],\"scattergeo\":[{\"marker\":{\"colorbar\":{\"outlinewidth\":0,\"ticks\":\"\"}},\"type\":\"scattergeo\"}],\"scattergl\":[{\"marker\":{\"colorbar\":{\"outlinewidth\":0,\"ticks\":\"\"}},\"type\":\"scattergl\"}],\"scattermapbox\":[{\"marker\":{\"colorbar\":{\"outlinewidth\":0,\"ticks\":\"\"}},\"type\":\"scattermapbox\"}],\"scatterpolar\":[{\"marker\":{\"colorbar\":{\"outlinewidth\":0,\"ticks\":\"\"}},\"type\":\"scatterpolar\"}],\"scatterpolargl\":[{\"marker\":{\"colorbar\":{\"outlinewidth\":0,\"ticks\":\"\"}},\"type\":\"scatterpolargl\"}],\"scatterternary\":[{\"marker\":{\"colorbar\":{\"outlinewidth\":0,\"ticks\":\"\"}},\"type\":\"scatterternary\"}],\"surface\":[{\"colorbar\":{\"outlinewidth\":0,\"ticks\":\"\"},\"colorscale\":[[0.0,\"#0d0887\"],[0.1111111111111111,\"#46039f\"],[0.2222222222222222,\"#7201a8\"],[0.3333333333333333,\"#9c179e\"],[0.4444444444444444,\"#bd3786\"],[0.5555555555555556,\"#d8576b\"],[0.6666666666666666,\"#ed7953\"],[0.7777777777777778,\"#fb9f3a\"],[0.8888888888888888,\"#fdca26\"],[1.0,\"#f0f921\"]],\"type\":\"surface\"}],\"table\":[{\"cells\":{\"fill\":{\"color\":\"#EBF0F8\"},\"line\":{\"color\":\"white\"}},\"header\":{\"fill\":{\"color\":\"#C8D4E3\"},\"line\":{\"color\":\"white\"}},\"type\":\"table\"}]},\"layout\":{\"annotationdefaults\":{\"arrowcolor\":\"#2a3f5f\",\"arrowhead\":0,\"arrowwidth\":1},\"autotypenumbers\":\"strict\",\"coloraxis\":{\"colorbar\":{\"outlinewidth\":0,\"ticks\":\"\"}},\"colorscale\":{\"diverging\":[[0,\"#8e0152\"],[0.1,\"#c51b7d\"],[0.2,\"#de77ae\"],[0.3,\"#f1b6da\"],[0.4,\"#fde0ef\"],[0.5,\"#f7f7f7\"],[0.6,\"#e6f5d0\"],[0.7,\"#b8e186\"],[0.8,\"#7fbc41\"],[0.9,\"#4d9221\"],[1,\"#276419\"]],\"sequential\":[[0.0,\"#0d0887\"],[0.1111111111111111,\"#46039f\"],[0.2222222222222222,\"#7201a8\"],[0.3333333333333333,\"#9c179e\"],[0.4444444444444444,\"#bd3786\"],[0.5555555555555556,\"#d8576b\"],[0.6666666666666666,\"#ed7953\"],[0.7777777777777778,\"#fb9f3a\"],[0.8888888888888888,\"#fdca26\"],[1.0,\"#f0f921\"]],\"sequentialminus\":[[0.0,\"#0d0887\"],[0.1111111111111111,\"#46039f\"],[0.2222222222222222,\"#7201a8\"],[0.3333333333333333,\"#9c179e\"],[0.4444444444444444,\"#bd3786\"],[0.5555555555555556,\"#d8576b\"],[0.6666666666666666,\"#ed7953\"],[0.7777777777777778,\"#fb9f3a\"],[0.8888888888888888,\"#fdca26\"],[1.0,\"#f0f921\"]]},\"colorway\":[\"#636efa\",\"#EF553B\",\"#00cc96\",\"#ab63fa\",\"#FFA15A\",\"#19d3f3\",\"#FF6692\",\"#B6E880\",\"#FF97FF\",\"#FECB52\"],\"font\":{\"color\":\"#2a3f5f\"},\"geo\":{\"bgcolor\":\"white\",\"lakecolor\":\"white\",\"landcolor\":\"#E5ECF6\",\"showlakes\":true,\"showland\":true,\"subunitcolor\":\"white\"},\"hoverlabel\":{\"align\":\"left\"},\"hovermode\":\"closest\",\"mapbox\":{\"style\":\"light\"},\"paper_bgcolor\":\"white\",\"plot_bgcolor\":\"#E5ECF6\",\"polar\":{\"angularaxis\":{\"gridcolor\":\"white\",\"linecolor\":\"white\",\"ticks\":\"\"},\"bgcolor\":\"#E5ECF6\",\"radialaxis\":{\"gridcolor\":\"white\",\"linecolor\":\"white\",\"ticks\":\"\"}},\"scene\":{\"xaxis\":{\"backgroundcolor\":\"#E5ECF6\",\"gridcolor\":\"white\",\"gridwidth\":2,\"linecolor\":\"white\",\"showbackground\":true,\"ticks\":\"\",\"zerolinecolor\":\"white\"},\"yaxis\":{\"backgroundcolor\":\"#E5ECF6\",\"gridcolor\":\"white\",\"gridwidth\":2,\"linecolor\":\"white\",\"showbackground\":true,\"ticks\":\"\",\"zerolinecolor\":\"white\"},\"zaxis\":{\"backgroundcolor\":\"#E5ECF6\",\"gridcolor\":\"white\",\"gridwidth\":2,\"linecolor\":\"white\",\"showbackground\":true,\"ticks\":\"\",\"zerolinecolor\":\"white\"}},\"shapedefaults\":{\"line\":{\"color\":\"#2a3f5f\"}},\"ternary\":{\"aaxis\":{\"gridcolor\":\"white\",\"linecolor\":\"white\",\"ticks\":\"\"},\"baxis\":{\"gridcolor\":\"white\",\"linecolor\":\"white\",\"ticks\":\"\"},\"bgcolor\":\"#E5ECF6\",\"caxis\":{\"gridcolor\":\"white\",\"linecolor\":\"white\",\"ticks\":\"\"}},\"title\":{\"x\":0.05},\"xaxis\":{\"automargin\":true,\"gridcolor\":\"white\",\"linecolor\":\"white\",\"ticks\":\"\",\"title\":{\"standoff\":15},\"zerolinecolor\":\"white\",\"zerolinewidth\":2},\"yaxis\":{\"automargin\":true,\"gridcolor\":\"white\",\"linecolor\":\"white\",\"ticks\":\"\",\"title\":{\"standoff\":15},\"zerolinecolor\":\"white\",\"zerolinewidth\":2}}},\"title\":{\"text\":\"Base Carbone results for query='mangue'\"}},                        {\"responsive\": true}                    ).then(function(){\n",
       "                            \n",
       "var gd = document.getElementById('b4a8923d-2024-4309-a001-e47c1e53fc5a');\n",
       "var x = new MutationObserver(function (mutations, observer) {{\n",
       "        var display = window.getComputedStyle(gd).display;\n",
       "        if (!display || display === 'none') {{\n",
       "            console.log([gd, 'removed!']);\n",
       "            Plotly.purge(gd);\n",
       "            observer.disconnect();\n",
       "        }}\n",
       "}});\n",
       "\n",
       "// Listen for the removal of the full notebook cells\n",
       "var notebookContainer = gd.closest('#notebook-container');\n",
       "if (notebookContainer) {{\n",
       "    x.observe(notebookContainer, {childList: true});\n",
       "}}\n",
       "\n",
       "// Listen for the clearing of the current output cell\n",
       "var outputEl = gd.closest('.output');\n",
       "if (outputEl) {{\n",
       "    x.observe(outputEl, {childList: true});\n",
       "}}\n",
       "\n",
       "                        })                };                });            </script>        </div>"
      ]
     },
     "metadata": {},
     "output_type": "display_data"
    }
   ],
   "source": [
    "r,fig = baca.search(\"mangue\",kind = \"treemap\")\n",
    "fig"
   ]
  },
  {
   "cell_type": "code",
   "execution_count": 35,
   "id": "87cb608a",
   "metadata": {},
   "outputs": [
    {
     "name": "stdout",
     "output_type": "stream",
     "text": [
      "Warning - First element unit is kgCO2e/kg de poids net and second one is kgCO2e/kg\n"
     ]
    },
    {
     "data": {
      "text/plain": [
       "122.13114754098362"
      ]
     },
     "execution_count": 35,
     "metadata": {},
     "output_type": "execute_result"
    }
   ],
   "source": [
    "baca.compare(33054,28425,raise_unit_error=False)"
   ]
  },
  {
   "cell_type": "code",
   "execution_count": 36,
   "id": "a723e88b",
   "metadata": {},
   "outputs": [
    {
     "name": "stdout",
     "output_type": "stream",
     "text": [
      "Warning - First element unit is kgCO2e/kg de poids net and second one is kgCO2e/kg\n"
     ]
    },
    {
     "data": {
      "text/plain": [
       "5.368852459016394"
      ]
     },
     "execution_count": 36,
     "metadata": {},
     "output_type": "execute_result"
    }
   ],
   "source": [
    "baca.compare(33055,28425,raise_unit_error=False)"
   ]
  },
  {
   "cell_type": "markdown",
   "id": "07461e9b",
   "metadata": {},
   "source": [
    "Can we track back the factor 100 for emissions due to importations?"
   ]
  },
  {
   "cell_type": "markdown",
   "id": "f52eca89",
   "metadata": {},
   "source": [
    "Let's say we import from Bogota by plane, the super easy LCA is : \n",
    "- Producing on site -> let's say it's similar than in France\n",
    "- Transporting from agricultural site to France\n",
    "- We don't consider transportation from Paris to your retailer"
   ]
  },
  {
   "cell_type": "code",
   "execution_count": 45,
   "id": "e0beb42c",
   "metadata": {},
   "outputs": [],
   "source": [
    "distance_bogota_paris = 8617"
   ]
  },
  {
   "cell_type": "code",
   "execution_count": 50,
   "id": "3aad7861",
   "metadata": {},
   "outputs": [
    {
     "data": {
      "text/plain": [
       "16.3723"
      ]
     },
     "execution_count": 50,
     "metadata": {},
     "output_type": "execute_result"
    }
   ],
   "source": [
    "# Assuming 1kg of mangos (because cargos are in tons)\n",
    "baca.evaluate_transportation_by_plane(distance_bogota_paris,round_trip=False,cargo = True,condensation_trails = False) * 0.001"
   ]
  },
  {
   "cell_type": "markdown",
   "id": "9578eb45",
   "metadata": {},
   "source": [
    "We find around the same numbers than in the Base Carbone "
   ]
  },
  {
   "cell_type": "code",
   "execution_count": 57,
   "id": "df3d0751",
   "metadata": {},
   "outputs": [
    {
     "data": {
      "text/html": [
       "<style type=\"text/css\">\n",
       "#T_64753_row0_col4 {\n",
       "  background-color: #f6faff;\n",
       "  color: #000000;\n",
       "}\n",
       "#T_64753_row1_col4 {\n",
       "  background-color: #08306b;\n",
       "  color: #f1f1f1;\n",
       "}\n",
       "#T_64753_row2_col4 {\n",
       "  background-color: #f7fbff;\n",
       "  color: #000000;\n",
       "}\n",
       "</style>\n",
       "<table id=\"T_64753_\">\n",
       "  <thead>\n",
       "    <tr>\n",
       "      <th class=\"blank level0\" >&nbsp;</th>\n",
       "      <th class=\"col_heading level0 col0\" >category</th>\n",
       "      <th class=\"col_heading level0 col1\" >name</th>\n",
       "      <th class=\"col_heading level0 col2\" >comment</th>\n",
       "      <th class=\"col_heading level0 col3\" >value</th>\n",
       "      <th class=\"col_heading level0 col4\" >percent</th>\n",
       "    </tr>\n",
       "  </thead>\n",
       "  <tbody>\n",
       "    <tr>\n",
       "      <th id=\"T_64753_level0_row0\" class=\"row_heading level0 row0\" >0</th>\n",
       "      <td id=\"T_64753_row0_col0\" class=\"data row0 col0\" >production</td>\n",
       "      <td id=\"T_64753_row0_col1\" class=\"data row0 col1\" >Production in Bogota</td>\n",
       "      <td id=\"T_64753_row0_col2\" class=\"data row0 col2\" ></td>\n",
       "      <td id=\"T_64753_row0_col3\" class=\"data row0 col3\" >0.120000</td>\n",
       "      <td id=\"T_64753_row0_col4\" class=\"data row0 col4\" >0.007276</td>\n",
       "    </tr>\n",
       "    <tr>\n",
       "      <th id=\"T_64753_level0_row1\" class=\"row_heading level0 row1\" >1</th>\n",
       "      <td id=\"T_64753_row1_col0\" class=\"data row1 col0\" >transportation</td>\n",
       "      <td id=\"T_64753_row1_col1\" class=\"data row1 col1\" >Bogota to Paris</td>\n",
       "      <td id=\"T_64753_row1_col2\" class=\"data row1 col2\" >cargo plane</td>\n",
       "      <td id=\"T_64753_row1_col3\" class=\"data row1 col3\" >16.372300</td>\n",
       "      <td id=\"T_64753_row1_col4\" class=\"data row1 col4\" >0.992724</td>\n",
       "    </tr>\n",
       "    <tr>\n",
       "      <th id=\"T_64753_level0_row2\" class=\"row_heading level0 row2\" >2</th>\n",
       "      <td id=\"T_64753_row2_col0\" class=\"data row2 col0\" >transportation</td>\n",
       "      <td id=\"T_64753_row2_col1\" class=\"data row2 col1\" >Paris to retailer</td>\n",
       "      <td id=\"T_64753_row2_col2\" class=\"data row2 col2\" >unregarded</td>\n",
       "      <td id=\"T_64753_row2_col3\" class=\"data row2 col3\" >0.000000</td>\n",
       "      <td id=\"T_64753_row2_col4\" class=\"data row2 col4\" >0.000000</td>\n",
       "    </tr>\n",
       "  </tbody>\n",
       "</table>\n"
      ],
      "text/plain": [
       "<pandas.io.formats.style.Styler at 0x27b6d008190>"
      ]
     },
     "execution_count": 57,
     "metadata": {},
     "output_type": "execute_result"
    }
   ],
   "source": [
    "easy_lca = (\n",
    "pd.DataFrame([\n",
    "    {\"category\":\"production\",\"name\":\"Production in Bogota\",\"comment\":\"\",\"value\":0.12},\n",
    "    {\"category\":\"transportation\",\"name\":\"Bogota to Paris\",\"comment\":\"cargo plane\",\"value\":16.3723},\n",
    "    {\"category\":\"transportation\",\"name\":\"Paris to retailer\",\"comment\":\"unregarded\",\"value\":0},\n",
    "]).assign(percent = lambda x : x[\"value\"] / x[\"value\"].sum())\n",
    ".style.background_gradient(cmap = \"Blues\",subset = \"percent\")\n",
    ")\n",
    "\n",
    "easy_lca"
   ]
  }
 ],
 "metadata": {
  "kernelspec": {
   "display_name": "Python 3 (ipykernel)",
   "language": "python",
   "name": "python3"
  },
  "language_info": {
   "codemirror_mode": {
    "name": "ipython",
    "version": 3
   },
   "file_extension": ".py",
   "mimetype": "text/x-python",
   "name": "python",
   "nbconvert_exporter": "python",
   "pygments_lexer": "ipython3",
   "version": "3.8.8"
  }
 },
 "nbformat": 4,
 "nbformat_minor": 5
}
